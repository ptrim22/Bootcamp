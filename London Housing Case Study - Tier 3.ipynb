{
 "cells": [
  {
   "cell_type": "markdown",
   "metadata": {
    "colab_type": "text",
    "id": "Tia3MP1SJpgj"
   },
   "source": [
    "# London Housing Case Study - Tier 3 Complete\n",
    "\n",
    "## Objectives\n",
    "Hey! Great job getting through those challenging DataCamp courses. You're learning a lot in a short span of time. \n",
    "\n",
    "In this notebook, you're going to apply the skills you've been learning, bridging the gap between the controlled environment of DataCamp and the *slightly* messier work that data scientists do with actual datasets!\n",
    "\n",
    "Here’s the mystery we’re going to solve: ***which boroughs of London have seen the greatest increase in housing prices, on average, over the last two decades?***\n",
    "\n",
    "\n",
    "A borough is just a fancy word for district. You may be familiar with the five boroughs of New York… well, there are 32 boroughs within Greater London [(here's some info for the curious)](https://en.wikipedia.org/wiki/London_boroughs). Some of them are more desirable areas to live in, and the data will reflect that with a greater rise in housing prices.\n",
    "\n",
    "***This is the Tier 3 notebook, which means it's not filled in at all: we'll just give you the skeleton of a project, the brief and the data. It's up to you to play around with it and see what you can find out! Good luck! If you struggle, feel free to look at easier tiers for help; but try to dip in and out of them, as the more independent work you do, the better it is for your learning!***\n",
    "\n",
    "This challenge will make use of only what you learned in the following DataCamp courses: \n",
    "- Prework courses (Introduction to Python for Data Science, Intermediate Python for Data Science)\n",
    "- Data Types for Data Science\n",
    "- Python Data Science Toolbox (Part One) \n",
    "- pandas Foundations\n",
    "- Manipulating DataFrames with pandas\n",
    "- Merging DataFrames with pandas\n",
    "\n",
    "Of the tools, techniques and concepts in the above DataCamp courses, this challenge should require the application of the following: \n",
    "- **pandas**\n",
    "    - **data ingestion and inspection** (pandas Foundations, Module One) \n",
    "    - **exploratory data analysis** (pandas Foundations, Module Two)\n",
    "    - **tidying and cleaning** (Manipulating DataFrames with pandas, Module Three) \n",
    "    - **transforming DataFrames** (Manipulating DataFrames with pandas, Module One)\n",
    "    - **subsetting DataFrames with lists** (Manipulating DataFrames with pandas, Module One) \n",
    "    - **filtering DataFrames** (Manipulating DataFrames with pandas, Module One) \n",
    "    - **grouping data** (Manipulating DataFrames with pandas, Module Four) \n",
    "    - **melting data** (Manipulating DataFrames with pandas, Module Three) \n",
    "    - **advanced indexing** (Manipulating DataFrames with pandas, Module Four) \n",
    "- **matplotlib** (Intermediate Python for Data Science, Module One)\n",
    "- **fundamental data types** (Data Types for Data Science, Module One) \n",
    "- **dictionaries** (Intermediate Python for Data Science, Module Two)\n",
    "- **handling dates and times** (Data Types for Data Science, Module Four)\n",
    "- **function definition** (Python Data Science Toolbox - Part One, Module One)\n",
    "- **default arguments, variable length, and scope** (Python Data Science Toolbox - Part One, Module Two) \n",
    "- **lambda functions and error handling** (Python Data Science Toolbox - Part One, Module Four) "
   ]
  },
  {
   "cell_type": "markdown",
   "metadata": {
    "colab_type": "text",
    "id": "Ipgd2nV8Jpgl"
   },
   "source": [
    "## The Data Science Pipeline\n",
    "\n",
    "This is Tier Three, so we'll get you started. But after that, it's all in your hands! When you feel done with your investigations, look back over what you've accomplished, and prepare a quick presentation of your findings for the next mentor meeting. \n",
    "\n",
    "Data Science is magical. In this case study, you'll get to apply some complex machine learning algorithms. But as  [David Spiegelhalter](https://www.youtube.com/watch?v=oUs1uvsz0Ok) reminds us, there is no substitute for simply **taking a really, really good look at the data.** Sometimes, this is all we need to answer our question.\n",
    "\n",
    "Data Science projects generally adhere to the four stages of Data Science Pipeline:\n",
    "1. Sourcing and loading \n",
    "2. Cleaning, transforming, and visualizing \n",
    "3. Modeling \n",
    "4. Evaluating and concluding \n"
   ]
  },
  {
   "cell_type": "markdown",
   "metadata": {
    "colab_type": "text",
    "id": "zswDqbefJpgm"
   },
   "source": [
    "### 1. Sourcing and Loading \n",
    "\n",
    "Any Data Science project kicks off by importing  ***pandas***. The documentation of this wonderful library can be found [here](https://pandas.pydata.org/). As you've seen, pandas is conveniently connected to the [Numpy](http://www.numpy.org/) and [Matplotlib](https://matplotlib.org/) libraries. \n",
    "\n",
    "***Hint:*** This part of the data science pipeline will test those skills you acquired in the pandas Foundations course, Module One. "
   ]
  },
  {
   "cell_type": "markdown",
   "metadata": {
    "colab_type": "text",
    "id": "aEau5nEvJpgm"
   },
   "source": [
    "#### 1.1. Importing Libraries"
   ]
  },
  {
   "cell_type": "code",
   "execution_count": 1,
   "metadata": {
    "colab": {},
    "colab_type": "code",
    "id": "7Bt_Q_oPJpgn"
   },
   "outputs": [],
   "source": [
    "# Let's import the pandas, numpy libraries as pd, and np respectively. \n",
    "import pandas as pd\n",
    "import numpy as np\n",
    "\n",
    "# Load the pyplot collection of functions from matplotlib, as plt \n",
    "import matplotlib as plt"
   ]
  },
  {
   "cell_type": "markdown",
   "metadata": {
    "colab_type": "text",
    "id": "koUrawxsJpgq"
   },
   "source": [
    "#### 1.2.  Loading the data\n",
    "Your data comes from the [London Datastore](https://data.london.gov.uk/): a free, open-source data-sharing portal for London-oriented datasets. "
   ]
  },
  {
   "cell_type": "code",
   "execution_count": 2,
   "metadata": {
    "colab": {},
    "colab_type": "code",
    "id": "AiLiD4v3Jpgr"
   },
   "outputs": [],
   "source": [
    "# First, make a variable called url_LondonHousePrices, and assign it the following link, enclosed in quotation-marks as a string:\n",
    "# https://data.london.gov.uk/download/uk-house-price-index/70ac0766-8902-4eb5-aab5-01951aaed773/UK%20House%20price%20index.xls\n",
    "\n",
    "url_LondonHousePrices= \"https://data.london.gov.uk/download/uk-house-price-index/70ac0766-8902-4eb5-aab5-01951aaed773/UK%20House%20price%20index.xls\"\n",
    "\n",
    "# The dataset we're interested in contains the Average prices of the houses, and is actually on a particular sheet of the Excel file. \n",
    "# As a result, we need to specify the sheet name in the read_excel() method.\n",
    "# Put this data into a variable called properties.  \n",
    "properties = pd.read_excel(url_LondonHousePrices, sheet_name='Average price', index_col= None)"
   ]
  },
  {
   "cell_type": "markdown",
   "metadata": {
    "colab_type": "text",
    "id": "POukEJXgJpgu"
   },
   "source": [
    "### 2. Cleaning, transforming, and visualizing\n",
    "This second stage is arguably the most important part of any Data Science project. The first thing to do is take a proper look at the data. Cleaning forms the majority of this stage, and can be done both before or after Transformation.\n",
    "\n",
    "The end goal of data cleaning is to have tidy data. When data is tidy: \n",
    "\n",
    "1. Each variable has a column.\n",
    "2. Each observation forms a row.\n",
    "\n",
    "Keep the end goal in mind as you move through this process, every step will take you closer. \n",
    "\n",
    "\n",
    "\n",
    "***Hint:*** This part of the data science pipeline should test those skills you acquired in: \n",
    "- Intermediate Python for data science, all modules.\n",
    "- pandas Foundations, all modules. \n",
    "- Manipulating DataFrames with pandas, all modules.\n",
    "- Data Types for Data Science, Module Four.\n",
    "- Python Data Science Toolbox - Part One, all modules"
   ]
  },
  {
   "cell_type": "markdown",
   "metadata": {
    "colab_type": "text",
    "id": "Te0Q548tnzZa"
   },
   "source": [
    "**2.1. Exploring your data** \n",
    "\n",
    "Think about your pandas functions for checking out a dataframe. "
   ]
  },
  {
   "cell_type": "code",
   "execution_count": 3,
   "metadata": {
    "colab": {},
    "colab_type": "code",
    "id": "Rxirxw_qoAJa"
   },
   "outputs": [
    {
     "name": "stdout",
     "output_type": "stream",
     "text": [
      "  Unnamed: 0 City of London Barking & Dagenham       Barnet       Bexley  \\\n",
      "0        NaT      E09000001          E09000002    E09000003    E09000004   \n",
      "1 1995-01-01    91448.98487         50460.2266  93284.51832  64958.09036   \n",
      "2 1995-02-01    82202.77314        51085.77983  93190.16963  64787.92069   \n",
      "3 1995-03-01    79120.70256        51268.96956  92247.52435  64367.49344   \n",
      "4 1995-04-01    77101.20804        53133.50526  90762.87492  64277.66881   \n",
      "\n",
      "         Brent      Bromley       Camden      Croydon       Ealing  ...  \\\n",
      "0    E09000005    E09000006    E09000007    E09000008    E09000009  ...   \n",
      "1  71306.56698  81671.47692  120932.8881  69158.16225  79885.89069  ...   \n",
      "2  72022.26197  81657.55944  119508.8622  68951.09542  80897.06551  ...   \n",
      "3  72015.76274  81449.31143  120282.2131  68712.44341  81379.86288  ...   \n",
      "4  72965.63094  81124.41227   120097.899  68610.04641  82188.90498  ...   \n",
      "\n",
      "    NORTH WEST YORKS & THE HUMBER EAST MIDLANDS WEST MIDLANDS EAST OF ENGLAND  \\\n",
      "0    E12000002          E12000003     E12000004     E12000005       E12000006   \n",
      "1  43958.48001        44803.42878   45544.52227   48527.52339      56701.5961   \n",
      "2  43925.42289        44528.80721   46051.57066   49341.29029     56593.59475   \n",
      "3   44434.8681        45200.46775   45383.82395   49442.17973     56171.18278   \n",
      "4   44267.7796        45614.34341   46124.23045   49455.93299     56567.89582   \n",
      "\n",
      "        LONDON   SOUTH EAST   SOUTH WEST Unnamed: 47      England  \n",
      "0    E12000007    E12000008    E12000009         NaN    E92000001  \n",
      "1  74435.76052  64018.87894   54705.1579         NaN  53202.77128  \n",
      "2  72777.93709  63715.02399  54356.14843         NaN   53096.1549  \n",
      "3  73896.84204  64113.60858  53583.07667         NaN   53201.2843  \n",
      "4  74455.28754  64623.22395  54786.01938         NaN   53590.8548  \n",
      "\n",
      "[5 rows x 49 columns]\n",
      "Index(['Unnamed: 0', 'City of London', 'Barking & Dagenham', 'Barnet',\n",
      "       'Bexley', 'Brent', 'Bromley', 'Camden', 'Croydon', 'Ealing', 'Enfield',\n",
      "       'Greenwich', 'Hackney', 'Hammersmith & Fulham', 'Haringey', 'Harrow',\n",
      "       'Havering', 'Hillingdon', 'Hounslow', 'Islington',\n",
      "       'Kensington & Chelsea', 'Kingston upon Thames', 'Lambeth', 'Lewisham',\n",
      "       'Merton', 'Newham', 'Redbridge', 'Richmond upon Thames', 'Southwark',\n",
      "       'Sutton', 'Tower Hamlets', 'Waltham Forest', 'Wandsworth',\n",
      "       'Westminster', 'Unnamed: 34', 'Inner London', 'Outer London',\n",
      "       'Unnamed: 37', 'NORTH EAST', 'NORTH WEST', 'YORKS & THE HUMBER',\n",
      "       'EAST MIDLANDS', 'WEST MIDLANDS', 'EAST OF ENGLAND', 'LONDON',\n",
      "       'SOUTH EAST', 'SOUTH WEST', 'Unnamed: 47', 'England'],\n",
      "      dtype='object')\n"
     ]
    }
   ],
   "source": [
    "print(properties.head())\n",
    "print(properties.columns)"
   ]
  },
  {
   "cell_type": "markdown",
   "metadata": {
    "colab_type": "text",
    "id": "tE9Sqt9-oAta"
   },
   "source": [
    "**2.2. Cleaning the data**\n",
    "\n",
    "You might find you need to transpose your dataframe, check out what its row indexes are, and reset the index. You  also might find you need to assign the values of the first row to your column headings  . (Hint: recall the .columns feature of DataFrames, as well as the iloc[] method).\n",
    "\n",
    "Don't be afraid to use StackOverflow for help  with this."
   ]
  },
  {
   "cell_type": "code",
   "execution_count": 4,
   "metadata": {
    "colab": {},
    "colab_type": "code",
    "id": "cdAu1A3YoH_r"
   },
   "outputs": [
    {
     "name": "stdout",
     "output_type": "stream",
     "text": [
      "<class 'pandas.core.frame.DataFrame'>\n"
     ]
    }
   ],
   "source": [
    "properties=properties.transpose()\n",
    "properties=properties.rename(columns=properties.iloc[0])\n",
    "properties=properties.reset_index()\n",
    "print(type(properties))\n"
   ]
  },
  {
   "cell_type": "markdown",
   "metadata": {
    "colab_type": "text",
    "id": "o1uLbJAsoIjK"
   },
   "source": [
    "**2.3. Cleaning the data (part 2)**\n",
    "\n",
    "You might we have to **rename** a couple columns. How do you do this? The clue's pretty bold..."
   ]
  },
  {
   "cell_type": "code",
   "execution_count": 5,
   "metadata": {
    "colab": {},
    "colab_type": "code",
    "id": "GKkmn1AnoVZS"
   },
   "outputs": [
    {
     "name": "stdout",
     "output_type": "stream",
     "text": [
      "              Borough       E_id 1995-01-01 00:00:00 1995-02-01 00:00:00  \\\n",
      "1      City of London  E09000001         91448.98487         82202.77314   \n",
      "2  Barking & Dagenham  E09000002          50460.2266         51085.77983   \n",
      "3              Barnet  E09000003         93284.51832         93190.16963   \n",
      "4              Bexley  E09000004         64958.09036         64787.92069   \n",
      "5               Brent  E09000005         71306.56698         72022.26197   \n",
      "\n",
      "  1995-03-01 00:00:00 1995-04-01 00:00:00 1995-05-01 00:00:00  \\\n",
      "1         79120.70256         77101.20804         84409.14932   \n",
      "2         51268.96956         53133.50526         53042.24852   \n",
      "3         92247.52435         90762.87492         90258.00033   \n",
      "4         64367.49344         64277.66881         63997.13588   \n",
      "5         72015.76274         72965.63094         73704.04743   \n",
      "\n",
      "  1995-06-01 00:00:00 1995-07-01 00:00:00 1995-08-01 00:00:00  ...  \\\n",
      "1         94900.51244         110128.0423         112329.4376  ...   \n",
      "2         53700.34831         52113.12157         52232.19868  ...   \n",
      "3         90107.23471         91441.24768         92361.31512  ...   \n",
      "4         64252.32335         63722.70055         64432.60005  ...   \n",
      "5         74310.48167         74127.03788          73547.0411  ...   \n",
      "\n",
      "  2020-08-01 00:00:00 2020-09-01 00:00:00 2020-10-01 00:00:00  \\\n",
      "1         827658.5167         798499.1646         836807.0518   \n",
      "2         304923.5027         301702.4656         304852.1338   \n",
      "3         529660.1524           533619.23         530353.5205   \n",
      "4         346679.9244         345061.4945         345404.9836   \n",
      "5         497729.0327         519561.8277         522239.3216   \n",
      "\n",
      "  2020-11-01 00:00:00 2020-12-01 00:00:00 2021-01-01 00:00:00  \\\n",
      "1         769391.7847         801999.0466         760599.2322   \n",
      "2         305012.3291         309560.1023         311007.1517   \n",
      "3         528816.4928         532528.0926         538842.4015   \n",
      "4         346252.9145         352260.8385          356664.073   \n",
      "5          513100.814         495066.6459         511347.8856   \n",
      "\n",
      "  2021-02-01 00:00:00 2021-03-01 00:00:00 2021-04-01 00:00:00  \\\n",
      "1         729315.7243         717528.2633         713094.5391   \n",
      "2         313835.8023         314187.4036         309680.5549   \n",
      "3         538215.8867         542872.3895         545746.3543   \n",
      "4         360116.1134         364480.9055         365519.4195   \n",
      "5         514388.7387         519212.9441         498083.9417   \n",
      "\n",
      "  2021-05-01 00:00:00  \n",
      "1         765822.2726  \n",
      "2         308760.1446  \n",
      "3         546082.2634  \n",
      "4         368554.8059  \n",
      "5         508570.7598  \n",
      "\n",
      "[5 rows x 319 columns]\n"
     ]
    }
   ],
   "source": [
    "properties=properties[1:].rename(columns={'index':'Borough'})  #drop first row which contains no relevant data\n",
    "properties.columns=properties.columns.fillna('E_id')  \n",
    "print(properties.head())"
   ]
  },
  {
   "cell_type": "markdown",
   "metadata": {
    "colab_type": "text",
    "id": "jy8BzXHmoWEw"
   },
   "source": [
    "**2.4.Transforming the data**\n",
    "\n",
    "Remember what Wes McKinney said about tidy data? \n",
    "\n",
    "You might need to **melt** your DataFrame here. "
   ]
  },
  {
   "cell_type": "code",
   "execution_count": 6,
   "metadata": {},
   "outputs": [
    {
     "name": "stdout",
     "output_type": "stream",
     "text": [
      "              Borough       E_id       date avg_home_price\n",
      "0      City of London  E09000001 1995-01-01    91448.98487\n",
      "1  Barking & Dagenham  E09000002 1995-01-01     50460.2266\n",
      "2              Barnet  E09000003 1995-01-01    93284.51832\n",
      "3              Bexley  E09000004 1995-01-01    64958.09036\n",
      "4               Brent  E09000005 1995-01-01    71306.56698\n"
     ]
    }
   ],
   "source": [
    "properties_melt=properties.melt(id_vars=['Borough','E_id'], var_name='date',value_name='avg_home_price')\n",
    "print(properties_melt.head())\n",
    "\n",
    "                    "
   ]
  },
  {
   "cell_type": "markdown",
   "metadata": {
    "colab_type": "text",
    "id": "7kIsgAo7o3mf"
   },
   "source": [
    "Remember to make sure your column data types are all correct. Average prices, for example, should be floating point numbers... "
   ]
  },
  {
   "cell_type": "code",
   "execution_count": 7,
   "metadata": {
    "colab": {},
    "colab_type": "code",
    "id": "ZcR4IHbcpOaq"
   },
   "outputs": [
    {
     "name": "stdout",
     "output_type": "stream",
     "text": [
      "<class 'pandas.core.frame.DataFrame'>\n",
      "RangeIndex: 15216 entries, 0 to 15215\n",
      "Data columns (total 4 columns):\n",
      " #   Column          Non-Null Count  Dtype         \n",
      "---  ------          --------------  -----         \n",
      " 0   Borough         15216 non-null  object        \n",
      " 1   E_id            14265 non-null  object        \n",
      " 2   date            15216 non-null  datetime64[ns]\n",
      " 3   avg_home_price  14265 non-null  object        \n",
      "dtypes: datetime64[ns](1), object(3)\n",
      "memory usage: 475.6+ KB\n",
      "None\n",
      "<class 'pandas.core.frame.DataFrame'>\n",
      "RangeIndex: 15216 entries, 0 to 15215\n",
      "Data columns (total 4 columns):\n",
      " #   Column          Non-Null Count  Dtype         \n",
      "---  ------          --------------  -----         \n",
      " 0   Borough         15216 non-null  object        \n",
      " 1   E_id            14265 non-null  object        \n",
      " 2   date            15216 non-null  datetime64[ns]\n",
      " 3   avg_home_price  14265 non-null  float64       \n",
      "dtypes: datetime64[ns](1), float64(1), object(2)\n",
      "memory usage: 475.6+ KB\n",
      "None\n"
     ]
    }
   ],
   "source": [
    "print(properties_melt.info())\n",
    "properties_melt['avg_home_price']=properties_melt['avg_home_price'].apply(pd.to_numeric)\n",
    "print(properties_melt.info())"
   ]
  },
  {
   "cell_type": "markdown",
   "metadata": {
    "colab_type": "text",
    "id": "knLUXHLypOtw"
   },
   "source": [
    "**2.5. Cleaning the data (part 3)**\n",
    "\n",
    "Do we have an equal number of observations in the ID, Average Price, Month, and London Borough columns? Remember that there are only 32 London Boroughs. How many entries do you have in that column? \n",
    "\n",
    "Check out the contents of the London Borough column, and if you find null values, get rid of them however you see fit. "
   ]
  },
  {
   "cell_type": "code",
   "execution_count": 8,
   "metadata": {
    "colab": {},
    "colab_type": "code",
    "id": "BnvTW5a3p0fC"
   },
   "outputs": [
    {
     "name": "stdout",
     "output_type": "stream",
     "text": [
      "Borough           False\n",
      "E_id               True\n",
      "date              False\n",
      "avg_home_price     True\n",
      "dtype: bool\n",
      "Borough             0\n",
      "E_id              951\n",
      "date                0\n",
      "avg_home_price    951\n",
      "dtype: int64\n"
     ]
    },
    {
     "data": {
      "image/png": "[encoded data removed]",
      "text/plain": [
       "<Figure size 432x288 with 1 Axes>"
      ]
     },
     "metadata": {
      "needs_background": "light"
     },
     "output_type": "display_data"
    }
   ],
   "source": [
    "print(properties_melt.isna().any())\n",
    "print(properties_melt.isna().sum())\n",
    "properties_melt.isna().sum().plot(kind='bar',title='Missing Values All Data Points')\n",
    "boroughs_list=['Barking & Dagenham', 'Barnet',\n",
    "       'Bexley', 'Brent', 'Bromley', 'Camden', 'Croydon', 'Ealing', 'Enfield',\n",
    "       'Greenwich', 'Hackney', 'Hammersmith & Fulham', 'Haringey', 'Harrow',\n",
    "       'Havering', 'Hillingdon', 'Hounslow', 'Islington',\n",
    "       'Kensington & Chelsea', 'Kingston upon Thames', 'Lambeth', 'Lewisham',\n",
    "       'Merton', 'Newham', 'Redbridge', 'Richmond upon Thames', 'Southwark',\n",
    "       'Sutton', 'Tower Hamlets', 'Waltham Forest', 'Wandsworth',\n",
    "       'Westminster']\n",
    "properties_melt_London=properties_melt[properties_melt['Borough'].isin(boroughs_list)] #Subset to only London boroughs\n"
   ]
  },
  {
   "cell_type": "code",
   "execution_count": 9,
   "metadata": {},
   "outputs": [
    {
     "name": "stdout",
     "output_type": "stream",
     "text": [
      "                  Borough       E_id       date  avg_home_price\n",
      "1      Barking & Dagenham  E09000002 1995-01-01     50460.22660\n",
      "2                  Barnet  E09000003 1995-01-01     93284.51832\n",
      "3                  Bexley  E09000004 1995-01-01     64958.09036\n",
      "4                   Brent  E09000005 1995-01-01     71306.56698\n",
      "5                 Bromley  E09000006 1995-01-01     81671.47692\n",
      "...                   ...        ...        ...             ...\n",
      "15196              Sutton  E09000029 2021-05-01    394980.62790\n",
      "15197       Tower Hamlets  E09000030 2021-05-01    474143.67540\n",
      "15198      Waltham Forest  E09000031 2021-05-01    487133.11150\n",
      "15199          Wandsworth  E09000032 2021-05-01    625412.33880\n",
      "15200         Westminster  E09000033 2021-05-01    974523.38520\n",
      "\n",
      "[10144 rows x 4 columns]\n",
      "Borough           False\n",
      "E_id              False\n",
      "date              False\n",
      "avg_home_price    False\n",
      "dtype: bool\n"
     ]
    },
    {
     "data": {
      "text/plain": [
       "<AxesSubplot:title={'center':'Missing Values Only London Boroughs'}>"
      ]
     },
     "execution_count": 9,
     "metadata": {},
     "output_type": "execute_result"
    },
    {
     "data": {
      "image/png": "[encoded data removed]",
      "text/plain": [
       "<Figure size 432x288 with 1 Axes>"
      ]
     },
     "metadata": {
      "needs_background": "light"
     },
     "output_type": "display_data"
    }
   ],
   "source": [
    "print(properties_melt_London)\n",
    "print(properties_melt_London.isna().any())\n",
    "properties_melt_London.isna().sum().plot(kind='bar',title='Missing Values Only London Boroughs')"
   ]
  },
  {
   "cell_type": "markdown",
   "metadata": {
    "colab_type": "text",
    "id": "PGEx6mJsp6dG"
   },
   "source": [
    "**2.6. Visualizing the data**\n",
    "\n",
    "To visualize the data, why not subset on a particular London Borough? Maybe do a line plot of Month against Average Price?"
   ]
  },
  {
   "cell_type": "code",
   "execution_count": 19,
   "metadata": {
    "colab": {},
    "colab_type": "code",
    "id": "nAg5pT9cqHAR"
   },
   "outputs": [
    {
     "data": {
      "text/plain": [
       "<AxesSubplot:title={'center':'Avg Home Price for Bexley'}, xlabel='date'>"
      ]
     },
     "execution_count": 19,
     "metadata": {},
     "output_type": "execute_result"
    },
    {
     "data": {
      "image/png": "[encoded data removed]",
      "text/plain": [
       "<Figure size 432x288 with 1 Axes>"
      ]
     },
     "metadata": {
      "needs_background": "light"
     },
     "output_type": "display_data"
    }
   ],
   "source": [
    "properties_melt_London[properties_melt_London['Borough']==\"Bexley\"].plot(kind='line', x='date',y='avg_home_price',\n",
    "                                                                    title='Avg Home Price for Bexley')"
   ]
  },
  {
   "cell_type": "markdown",
   "metadata": {
    "colab_type": "text",
    "id": "aWTPqSJeqHnC"
   },
   "source": [
    "To limit the number of data points you have, you might want to extract the year from every month value your *Month* column. \n",
    "\n",
    "To this end, you *could* apply a ***lambda function***. Your logic could work as follows:\n",
    "1. look through the `Month` column\n",
    "2. extract the year from each individual value in that column \n",
    "3. store that corresponding year as separate column. \n",
    "\n",
    "Whether you go ahead with this is up to you. Just so long as you answer our initial brief: which boroughs of London have seen the greatest house price increase, on average, over the past two decades? "
   ]
  },
  {
   "cell_type": "code",
   "execution_count": 24,
   "metadata": {
    "colab": {},
    "colab_type": "code",
    "id": "e0DF92cyqnu8"
   },
   "outputs": [
    {
     "name": "stdout",
     "output_type": "stream",
     "text": [
      "              Borough       E_id       date  avg_home_price  year\n",
      "1  Barking & Dagenham  E09000002 1995-01-01     50460.22660  1995\n",
      "2              Barnet  E09000003 1995-01-01     93284.51832  1995\n",
      "3              Bexley  E09000004 1995-01-01     64958.09036  1995\n",
      "4               Brent  E09000005 1995-01-01     71306.56698  1995\n",
      "5             Bromley  E09000006 1995-01-01     81671.47692  1995\n"
     ]
    },
    {
     "name": "stderr",
     "output_type": "stream",
     "text": [
      "<ipython-input-24-5b5bc9bca72c>:1: SettingWithCopyWarning: \n",
      "A value is trying to be set on a copy of a slice from a DataFrame.\n",
      "Try using .loc[row_indexer,col_indexer] = value instead\n",
      "\n",
      "See the caveats in the documentation: https://pandas.pydata.org/pandas-docs/stable/user_guide/indexing.html#returning-a-view-versus-a-copy\n",
      "  properties_melt_London['year'] = properties_melt_London['date'].apply(lambda x: x.year)\n"
     ]
    }
   ],
   "source": [
    "properties_melt_London['year'] = properties_melt_London['date'].apply(lambda x: x.year)\n",
    "print(properties_melt_London.head())"
   ]
  },
  {
   "cell_type": "markdown",
   "metadata": {
    "colab_type": "text",
    "id": "2knuTxAEqoJ4"
   },
   "source": [
    "**3. Modeling**\n",
    "\n",
    "Consider creating a function that will calculate a ratio of house prices, comparing the price of a house in 2018 to the price in 1998.\n",
    "\n",
    "Consider calling this function create_price_ratio.\n",
    "\n",
    "You'd want this function to:\n",
    "1. Take a filter of dfg, specifically where this filter constrains the London_Borough, as an argument. For example, one admissible argument should be: dfg[dfg['London_Borough']=='Camden'].\n",
    "2. Get the Average Price for that Borough, for the years 1998 and 2018.\n",
    "4. Calculate the ratio of the Average Price for 1998 divided by the Average Price for 2018.\n",
    "5. Return that ratio.\n",
    "\n",
    "Once you've written this function, you ultimately want to use it to iterate through all the unique London_Boroughs and work out the ratio capturing the difference of house prices between 1998 and 2018.\n",
    "\n",
    "Bear in mind: you don't have to write a function like this if you don't want to. If you can solve the brief otherwise, then great! \n",
    "\n",
    "***Hint***: This section should test the skills you acquired in:\n",
    "- Python Data Science Toolbox - Part One, all modules"
   ]
  },
  {
   "cell_type": "code",
   "execution_count": 30,
   "metadata": {
    "colab": {},
    "colab_type": "code",
    "id": "cKTyr437UgDa"
   },
   "outputs": [
    {
     "name": "stdout",
     "output_type": "stream",
     "text": [
      "                  Borough       E_id       date  avg_home_price  year\n",
      "1729   Barking & Dagenham  E09000002 1998-01-01     57558.99414  1998\n",
      "1730               Barnet  E09000003 1998-01-01    115902.41030  1998\n",
      "1731               Bexley  E09000004 1998-01-01     76863.45528  1998\n",
      "1732                Brent  E09000005 1998-01-01     93745.96395  1998\n",
      "1733              Bromley  E09000006 1998-01-01    102341.81560  1998\n",
      "...                   ...        ...        ...             ...   ...\n",
      "13804              Sutton  E09000029 2018-12-01    375473.92183  2018\n",
      "13805       Tower Hamlets  E09000030 2018-12-01    438896.35230  2018\n",
      "13806      Waltham Forest  E09000031 2018-12-01    439078.67321  2018\n",
      "13807          Wandsworth  E09000032 2018-12-01    595503.76753  2018\n",
      "13808         Westminster  E09000033 2018-12-01    965022.63959  2018\n",
      "\n",
      "[768 rows x 5 columns]\n",
      "year                           1998          2018\n",
      "Borough                                          \n",
      "Barking & Dagenham     60285.821083  2.951967e+05\n",
      "Barnet                122359.468033  5.332665e+05\n",
      "Bexley                 80632.020822  3.426036e+05\n",
      "Brent                 100692.590417  4.928454e+05\n",
      "Bromley               108286.520467  4.434100e+05\n",
      "Camden                170688.973933  8.424104e+05\n",
      "Croydon                88143.228830  3.702985e+05\n",
      "Ealing                111343.154650  4.800505e+05\n",
      "Enfield                93030.224322  3.966317e+05\n",
      "Greenwich              81532.933366  3.883443e+05\n",
      "Hackney                87869.535804  5.446405e+05\n",
      "Hammersmith & Fulham  175340.921250  7.255253e+05\n",
      "Haringey              107419.850108  5.515606e+05\n",
      "Harrow                114778.250067  4.659075e+05\n",
      "Havering               85602.087977  3.702488e+05\n",
      "Hillingdon             97676.048952  4.102661e+05\n",
      "Hounslow               99746.069682  3.966312e+05\n",
      "Islington             134148.973300  6.498241e+05\n",
      "Kensington & Chelsea  268350.122142  1.363880e+06\n",
      "Kingston upon Thames  116399.769158  4.970910e+05\n",
      "Lambeth               103179.118943  5.115364e+05\n",
      "Lewisham               75539.051649  4.116290e+05\n",
      "Merton                108049.855117  5.122939e+05\n",
      "Newham                 67671.270763  3.590225e+05\n",
      "Redbridge              94514.395822  4.225911e+05\n",
      "Richmond upon Thames  162956.066025  6.526654e+05\n",
      "Southwark              91405.187779  5.042354e+05\n",
      "Sutton                 92087.045921  3.792626e+05\n",
      "Tower Hamlets          96505.166407  4.465006e+05\n",
      "Waltham Forest         75557.474132  4.408594e+05\n",
      "Wandsworth            125406.807233  5.966491e+05\n",
      "Westminster           190531.949942  1.020025e+06\n",
      "year                           1998          2018  price_ratio\n",
      "Borough                                                       \n",
      "Hackney                87869.535804  5.446405e+05     6.198286\n",
      "Waltham Forest         75557.474132  4.408594e+05     5.834756\n",
      "Southwark              91405.187779  5.042354e+05     5.516485\n",
      "Lewisham               75539.051649  4.116290e+05     5.449221\n",
      "Westminster           190531.949942  1.020025e+06     5.353565\n",
      "Newham                 67671.270763  3.590225e+05     5.305390\n",
      "Haringey              107419.850108  5.515606e+05     5.134625\n",
      "Kensington & Chelsea  268350.122142  1.363880e+06     5.082465\n",
      "Lambeth               103179.118943  5.115364e+05     4.957751\n",
      "Camden                170688.973933  8.424104e+05     4.935353\n",
      "Barking & Dagenham     60285.821083  2.951967e+05     4.896619\n",
      "Brent                 100692.590417  4.928454e+05     4.894554\n",
      "Islington             134148.973300  6.498241e+05     4.844048\n",
      "Greenwich              81532.933366  3.883443e+05     4.763036\n",
      "Wandsworth            125406.807233  5.966491e+05     4.757709\n",
      "Merton                108049.855117  5.122939e+05     4.741273\n",
      "Tower Hamlets          96505.166407  4.465006e+05     4.626701\n",
      "Redbridge              94514.395822  4.225911e+05     4.471182\n",
      "Barnet                122359.468033  5.332665e+05     4.358196\n",
      "Havering               85602.087977  3.702488e+05     4.325230\n",
      "Ealing                111343.154650  4.800505e+05     4.311451\n",
      "Kingston upon Thames  116399.769158  4.970910e+05     4.270550\n",
      "Enfield                93030.224322  3.966317e+05     4.263472\n",
      "Bexley                 80632.020822  3.426036e+05     4.248977\n",
      "Croydon                88143.228830  3.702985e+05     4.201100\n",
      "Hillingdon             97676.048952  4.102661e+05     4.200273\n",
      "Hammersmith & Fulham  175340.921250  7.255253e+05     4.137798\n",
      "Sutton                 92087.045921  3.792626e+05     4.118523\n",
      "Bromley               108286.520467  4.434100e+05     4.094785\n",
      "Harrow                114778.250067  4.659075e+05     4.059196\n",
      "Richmond upon Thames  162956.066025  6.526654e+05     4.005162\n",
      "Hounslow               99746.069682  3.966312e+05     3.976409\n"
     ]
    }
   ],
   "source": [
    "properties_melt_London_20=properties_melt_London[properties_melt_London['year'].isin([1998,2018])]\n",
    "print(properties_melt_London_20)\n",
    "yearly_avg=properties_melt_London_20.pivot_table(index='Borough',values='avg_home_price',columns='year',aggfunc=np.mean)\n",
    "print(yearly_avg)\n",
    "yearly_avg['price_ratio']=yearly_avg[2018]/yearly_avg[1998]\n",
    "print(yearly_avg.sort_values('price_ratio',ascending=False))"
   ]
  },
  {
   "cell_type": "markdown",
   "metadata": {
    "colab_type": "text",
    "id": "NzYUI7FxJpgv"
   },
   "source": [
    "### 4. Conclusion\n",
    "What can you conclude? Type out your conclusion below. \n",
    "\n",
    "Look back at your notebook. Think about how you might summarize what you have done, and prepare a quick presentation on it to your mentor at your next meeting. \n",
    "\n",
    "We hope you enjoyed this practical project. It should have consolidated your data hygiene and pandas skills by looking at a real-world problem involving just the kind of dataset you might encounter as a budding data scientist. Congratulations, and looking forward to seeing you at the next step in the course! "
   ]
  },
  {
   "cell_type": "markdown",
   "metadata": {},
   "source": [
    "# There is a relatively wide range of price increases over the 20 year span from 1998 to 2018, ranging from a more than sixfold increase to just under fourfold increase. It may be worthwhile to investigate whether the increase is correlated to home values (i.e. \"the rich get richer\"...). Two of the wealthier boroughs, (Kensington/Chelsea and Westminster, are near the top of the list."
   ]
  }
 ],
 "metadata": {
  "colab": {
   "collapsed_sections": [],
   "name": "Springboard Data Science Career Track Unit 4 Challenge - Tier 3 Complete .ipynb",
   "provenance": []
  },
  "kernelspec": {
   "display_name": "Python 3",
   "language": "python",
   "name": "python3"
  },
  "language_info": {
   "codemirror_mode": {
    "name": "ipython",
    "version": 3
   },
   "file_extension": ".py",
   "mimetype": "text/x-python",
   "name": "python",
   "nbconvert_exporter": "python",
   "pygments_lexer": "ipython3",
   "version": "3.8.8"
  }
 },
 "nbformat": 4,
 "nbformat_minor": 1
}
