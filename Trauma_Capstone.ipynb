{
  "nbformat": 4,
  "nbformat_minor": 0,
  "metadata": {
    "colab": {
      "name": "Trauma_Capstone.ipynb",
      "provenance": [],
      "collapsed_sections": [],
      "include_colab_link": true
    },
    "kernelspec": {
      "name": "python3",
      "display_name": "Python 3"
    },
    "language_info": {
      "name": "python"
    }
  },
  "cells": [
    {
      "cell_type": "markdown",
      "metadata": {
        "id": "view-in-github",
        "colab_type": "text"
      },
      "source": [
        "<a href=\"https://colab.research.google.com/github/ptrim22/Bootcamp/blob/main/Trauma_Capstone.ipynb\" target=\"_parent\"><img src=\"https://colab.research.google.com/assets/colab-badge.svg\" alt=\"Open In Colab\"/></a>"
      ]
    },
    {
      "cell_type": "code",
      "source": [
        "from google.colab import drive\n",
        "drive.mount('/content/drive')"
      ],
      "metadata": {
        "colab": {
          "base_uri": "https://localhost:8080/"
        },
        "id": "u2oXF_iKheXg",
        "outputId": "05b75a5e-eb1f-45df-a592-edc02bb3b1e1"
      },
      "execution_count": 6,
      "outputs": [
        {
          "output_type": "stream",
          "name": "stdout",
          "text": [
            "Drive already mounted at /content/drive; to attempt to forcibly remount, call drive.mount(\"/content/drive\", force_remount=True).\n"
          ]
        }
      ]
    },
    {
      "cell_type": "code",
      "metadata": {
        "id": "W99Jj2uca2tM"
      },
      "source": [
        "import numpy as np \n",
        "import pandas as pd \n",
        "import matplotlib.pyplot as plt \n",
        "import seaborn as sns # For all our visualization needs.\n",
        "import statsmodels.api as sm\n",
        "from sklearn.metrics import mean_squared_error, r2_score \n",
        "from sklearn.model_selection import train_test_split, GridSearchCV, cross_val_score\n",
        "from sklearn import linear_model, preprocessing\n",
        "from sklearn.preprocessing import StandardScaler\n",
        "from sklearn.linear_model import LinearRegression, Lasso, Ridge\n",
        "from sklearn.pipeline import Pipeline \n",
        "from scipy import stats\n",
        "# random enables us to generate random numbers\n",
        "import random\n",
        "df=pd.read_csv(r'drive/MyDrive/Data Science Bootcamp/CogEmoPaper_FinalData.csv')"
      ],
      "execution_count": 73,
      "outputs": []
    },
    {
      "cell_type": "code",
      "metadata": {
        "colab": {
          "base_uri": "https://localhost:8080/",
          "height": 423
        },
        "id": "KZjQR-C8cIbT",
        "outputId": "33ae72fc-5cf9-4fa1-dd4c-dbec91e2324b"
      },
      "source": [
        "df"
      ],
      "execution_count": 8,
      "outputs": [
        {
          "output_type": "execute_result",
          "data": {
            "text/html": [
              "\n",
              "  <div id=\"df-f2b8fd94-13a4-4e93-b57b-6095afe9d2ea\">\n",
              "    <div class=\"colab-df-container\">\n",
              "      <div>\n",
              "<style scoped>\n",
              "    .dataframe tbody tr th:only-of-type {\n",
              "        vertical-align: middle;\n",
              "    }\n",
              "\n",
              "    .dataframe tbody tr th {\n",
              "        vertical-align: top;\n",
              "    }\n",
              "\n",
              "    .dataframe thead th {\n",
              "        text-align: right;\n",
              "    }\n",
              "</style>\n",
              "<table border=\"1\" class=\"dataframe\">\n",
              "  <thead>\n",
              "    <tr style=\"text-align: right;\">\n",
              "      <th></th>\n",
              "      <th>ID</th>\n",
              "      <th>Age</th>\n",
              "      <th>Gender</th>\n",
              "      <th>FamilyStatus</th>\n",
              "      <th>Education</th>\n",
              "      <th>CFS_Total</th>\n",
              "      <th>TOT_TRAUMA</th>\n",
              "      <th>DTS_TOT</th>\n",
              "      <th>Total_FREE</th>\n",
              "      <th>Total_PACT</th>\n",
              "      <th>PCL_Total</th>\n",
              "    </tr>\n",
              "  </thead>\n",
              "  <tbody>\n",
              "    <tr>\n",
              "      <th>0</th>\n",
              "      <td>3</td>\n",
              "      <td>27.0</td>\n",
              "      <td>0</td>\n",
              "      <td>1</td>\n",
              "      <td>15</td>\n",
              "      <td>58</td>\n",
              "      <td>4</td>\n",
              "      <td>39</td>\n",
              "      <td>14.0</td>\n",
              "      <td>10.250000</td>\n",
              "      <td>46.117647</td>\n",
              "    </tr>\n",
              "    <tr>\n",
              "      <th>1</th>\n",
              "      <td>4</td>\n",
              "      <td>38.0</td>\n",
              "      <td>1</td>\n",
              "      <td>2</td>\n",
              "      <td>16</td>\n",
              "      <td>58</td>\n",
              "      <td>2</td>\n",
              "      <td>40</td>\n",
              "      <td>20.5</td>\n",
              "      <td>10.250000</td>\n",
              "      <td>25.411765</td>\n",
              "    </tr>\n",
              "    <tr>\n",
              "      <th>2</th>\n",
              "      <td>6</td>\n",
              "      <td>29.0</td>\n",
              "      <td>1</td>\n",
              "      <td>1</td>\n",
              "      <td>16</td>\n",
              "      <td>51</td>\n",
              "      <td>4</td>\n",
              "      <td>33</td>\n",
              "      <td>14.0</td>\n",
              "      <td>8.330000</td>\n",
              "      <td>21.647059</td>\n",
              "    </tr>\n",
              "    <tr>\n",
              "      <th>3</th>\n",
              "      <td>7</td>\n",
              "      <td>24.0</td>\n",
              "      <td>1</td>\n",
              "      <td>1</td>\n",
              "      <td>16</td>\n",
              "      <td>58</td>\n",
              "      <td>1</td>\n",
              "      <td>0</td>\n",
              "      <td>14.5</td>\n",
              "      <td>8.330000</td>\n",
              "      <td>16.800000</td>\n",
              "    </tr>\n",
              "    <tr>\n",
              "      <th>4</th>\n",
              "      <td>8</td>\n",
              "      <td>25.0</td>\n",
              "      <td>1</td>\n",
              "      <td>1</td>\n",
              "      <td>17</td>\n",
              "      <td>58</td>\n",
              "      <td>1</td>\n",
              "      <td>56</td>\n",
              "      <td>13.5</td>\n",
              "      <td>6.000000</td>\n",
              "      <td>34.823529</td>\n",
              "    </tr>\n",
              "    <tr>\n",
              "      <th>...</th>\n",
              "      <td>...</td>\n",
              "      <td>...</td>\n",
              "      <td>...</td>\n",
              "      <td>...</td>\n",
              "      <td>...</td>\n",
              "      <td>...</td>\n",
              "      <td>...</td>\n",
              "      <td>...</td>\n",
              "      <td>...</td>\n",
              "      <td>...</td>\n",
              "      <td>...</td>\n",
              "    </tr>\n",
              "    <tr>\n",
              "      <th>104</th>\n",
              "      <td>156</td>\n",
              "      <td>25.0</td>\n",
              "      <td>0</td>\n",
              "      <td>1</td>\n",
              "      <td>14</td>\n",
              "      <td>56</td>\n",
              "      <td>5</td>\n",
              "      <td>30</td>\n",
              "      <td>15.0</td>\n",
              "      <td>9.750000</td>\n",
              "      <td>20.000000</td>\n",
              "    </tr>\n",
              "    <tr>\n",
              "      <th>105</th>\n",
              "      <td>157</td>\n",
              "      <td>23.0</td>\n",
              "      <td>1</td>\n",
              "      <td>2</td>\n",
              "      <td>14</td>\n",
              "      <td>37</td>\n",
              "      <td>2</td>\n",
              "      <td>76</td>\n",
              "      <td>18.0</td>\n",
              "      <td>6.000000</td>\n",
              "      <td>31.200000</td>\n",
              "    </tr>\n",
              "    <tr>\n",
              "      <th>106</th>\n",
              "      <td>160</td>\n",
              "      <td>21.0</td>\n",
              "      <td>1</td>\n",
              "      <td>1</td>\n",
              "      <td>12</td>\n",
              "      <td>62</td>\n",
              "      <td>2</td>\n",
              "      <td>61</td>\n",
              "      <td>16.5</td>\n",
              "      <td>10.000000</td>\n",
              "      <td>39.200000</td>\n",
              "    </tr>\n",
              "    <tr>\n",
              "      <th>107</th>\n",
              "      <td>161</td>\n",
              "      <td>29.0</td>\n",
              "      <td>0</td>\n",
              "      <td>1</td>\n",
              "      <td>16</td>\n",
              "      <td>61</td>\n",
              "      <td>1</td>\n",
              "      <td>11</td>\n",
              "      <td>14.0</td>\n",
              "      <td>8.833333</td>\n",
              "      <td>17.600000</td>\n",
              "    </tr>\n",
              "    <tr>\n",
              "      <th>108</th>\n",
              "      <td>163</td>\n",
              "      <td>26.0</td>\n",
              "      <td>1</td>\n",
              "      <td>1</td>\n",
              "      <td>19</td>\n",
              "      <td>46</td>\n",
              "      <td>2</td>\n",
              "      <td>22</td>\n",
              "      <td>17.5</td>\n",
              "      <td>9.833333</td>\n",
              "      <td>32.000000</td>\n",
              "    </tr>\n",
              "  </tbody>\n",
              "</table>\n",
              "<p>109 rows × 11 columns</p>\n",
              "</div>\n",
              "      <button class=\"colab-df-convert\" onclick=\"convertToInteractive('df-f2b8fd94-13a4-4e93-b57b-6095afe9d2ea')\"\n",
              "              title=\"Convert this dataframe to an interactive table.\"\n",
              "              style=\"display:none;\">\n",
              "        \n",
              "  <svg xmlns=\"http://www.w3.org/2000/svg\" height=\"24px\"viewBox=\"0 0 24 24\"\n",
              "       width=\"24px\">\n",
              "    <path d=\"M0 0h24v24H0V0z\" fill=\"none\"/>\n",
              "    <path d=\"M18.56 5.44l.94 2.06.94-2.06 2.06-.94-2.06-.94-.94-2.06-.94 2.06-2.06.94zm-11 1L8.5 8.5l.94-2.06 2.06-.94-2.06-.94L8.5 2.5l-.94 2.06-2.06.94zm10 10l.94 2.06.94-2.06 2.06-.94-2.06-.94-.94-2.06-.94 2.06-2.06.94z\"/><path d=\"M17.41 7.96l-1.37-1.37c-.4-.4-.92-.59-1.43-.59-.52 0-1.04.2-1.43.59L10.3 9.45l-7.72 7.72c-.78.78-.78 2.05 0 2.83L4 21.41c.39.39.9.59 1.41.59.51 0 1.02-.2 1.41-.59l7.78-7.78 2.81-2.81c.8-.78.8-2.07 0-2.86zM5.41 20L4 18.59l7.72-7.72 1.47 1.35L5.41 20z\"/>\n",
              "  </svg>\n",
              "      </button>\n",
              "      \n",
              "  <style>\n",
              "    .colab-df-container {\n",
              "      display:flex;\n",
              "      flex-wrap:wrap;\n",
              "      gap: 12px;\n",
              "    }\n",
              "\n",
              "    .colab-df-convert {\n",
              "      background-color: #E8F0FE;\n",
              "      border: none;\n",
              "      border-radius: 50%;\n",
              "      cursor: pointer;\n",
              "      display: none;\n",
              "      fill: #1967D2;\n",
              "      height: 32px;\n",
              "      padding: 0 0 0 0;\n",
              "      width: 32px;\n",
              "    }\n",
              "\n",
              "    .colab-df-convert:hover {\n",
              "      background-color: #E2EBFA;\n",
              "      box-shadow: 0px 1px 2px rgba(60, 64, 67, 0.3), 0px 1px 3px 1px rgba(60, 64, 67, 0.15);\n",
              "      fill: #174EA6;\n",
              "    }\n",
              "\n",
              "    [theme=dark] .colab-df-convert {\n",
              "      background-color: #3B4455;\n",
              "      fill: #D2E3FC;\n",
              "    }\n",
              "\n",
              "    [theme=dark] .colab-df-convert:hover {\n",
              "      background-color: #434B5C;\n",
              "      box-shadow: 0px 1px 3px 1px rgba(0, 0, 0, 0.15);\n",
              "      filter: drop-shadow(0px 1px 2px rgba(0, 0, 0, 0.3));\n",
              "      fill: #FFFFFF;\n",
              "    }\n",
              "  </style>\n",
              "\n",
              "      <script>\n",
              "        const buttonEl =\n",
              "          document.querySelector('#df-f2b8fd94-13a4-4e93-b57b-6095afe9d2ea button.colab-df-convert');\n",
              "        buttonEl.style.display =\n",
              "          google.colab.kernel.accessAllowed ? 'block' : 'none';\n",
              "\n",
              "        async function convertToInteractive(key) {\n",
              "          const element = document.querySelector('#df-f2b8fd94-13a4-4e93-b57b-6095afe9d2ea');\n",
              "          const dataTable =\n",
              "            await google.colab.kernel.invokeFunction('convertToInteractive',\n",
              "                                                     [key], {});\n",
              "          if (!dataTable) return;\n",
              "\n",
              "          const docLinkHtml = 'Like what you see? Visit the ' +\n",
              "            '<a target=\"_blank\" href=https://colab.research.google.com/notebooks/data_table.ipynb>data table notebook</a>'\n",
              "            + ' to learn more about interactive tables.';\n",
              "          element.innerHTML = '';\n",
              "          dataTable['output_type'] = 'display_data';\n",
              "          await google.colab.output.renderOutput(dataTable, element);\n",
              "          const docLink = document.createElement('div');\n",
              "          docLink.innerHTML = docLinkHtml;\n",
              "          element.appendChild(docLink);\n",
              "        }\n",
              "      </script>\n",
              "    </div>\n",
              "  </div>\n",
              "  "
            ],
            "text/plain": [
              "      ID   Age  Gender  ...  Total_FREE  Total_PACT  PCL_Total\n",
              "0      3  27.0       0  ...        14.0   10.250000  46.117647\n",
              "1      4  38.0       1  ...        20.5   10.250000  25.411765\n",
              "2      6  29.0       1  ...        14.0    8.330000  21.647059\n",
              "3      7  24.0       1  ...        14.5    8.330000  16.800000\n",
              "4      8  25.0       1  ...        13.5    6.000000  34.823529\n",
              "..   ...   ...     ...  ...         ...         ...        ...\n",
              "104  156  25.0       0  ...        15.0    9.750000  20.000000\n",
              "105  157  23.0       1  ...        18.0    6.000000  31.200000\n",
              "106  160  21.0       1  ...        16.5   10.000000  39.200000\n",
              "107  161  29.0       0  ...        14.0    8.833333  17.600000\n",
              "108  163  26.0       1  ...        17.5    9.833333  32.000000\n",
              "\n",
              "[109 rows x 11 columns]"
            ]
          },
          "metadata": {},
          "execution_count": 8
        }
      ]
    },
    {
      "cell_type": "code",
      "metadata": {
        "colab": {
          "base_uri": "https://localhost:8080/",
          "height": 300
        },
        "id": "JubE2U1Pqm81",
        "outputId": "50ce1736-f1c5-42cf-f172-d7c1bee5479d"
      },
      "source": [
        "df.describe()"
      ],
      "execution_count": 9,
      "outputs": [
        {
          "output_type": "execute_result",
          "data": {
            "text/html": [
              "\n",
              "  <div id=\"df-748260db-da6b-4190-b648-ff6edd7cdfd6\">\n",
              "    <div class=\"colab-df-container\">\n",
              "      <div>\n",
              "<style scoped>\n",
              "    .dataframe tbody tr th:only-of-type {\n",
              "        vertical-align: middle;\n",
              "    }\n",
              "\n",
              "    .dataframe tbody tr th {\n",
              "        vertical-align: top;\n",
              "    }\n",
              "\n",
              "    .dataframe thead th {\n",
              "        text-align: right;\n",
              "    }\n",
              "</style>\n",
              "<table border=\"1\" class=\"dataframe\">\n",
              "  <thead>\n",
              "    <tr style=\"text-align: right;\">\n",
              "      <th></th>\n",
              "      <th>ID</th>\n",
              "      <th>Age</th>\n",
              "      <th>Gender</th>\n",
              "      <th>FamilyStatus</th>\n",
              "      <th>Education</th>\n",
              "      <th>CFS_Total</th>\n",
              "      <th>TOT_TRAUMA</th>\n",
              "      <th>DTS_TOT</th>\n",
              "      <th>Total_FREE</th>\n",
              "      <th>Total_PACT</th>\n",
              "      <th>PCL_Total</th>\n",
              "    </tr>\n",
              "  </thead>\n",
              "  <tbody>\n",
              "    <tr>\n",
              "      <th>count</th>\n",
              "      <td>109.000000</td>\n",
              "      <td>109.000000</td>\n",
              "      <td>109.000000</td>\n",
              "      <td>109.000000</td>\n",
              "      <td>109.000000</td>\n",
              "      <td>109.000000</td>\n",
              "      <td>109.000000</td>\n",
              "      <td>109.000000</td>\n",
              "      <td>109.000000</td>\n",
              "      <td>109.000000</td>\n",
              "      <td>109.000000</td>\n",
              "    </tr>\n",
              "    <tr>\n",
              "      <th>mean</th>\n",
              "      <td>79.339450</td>\n",
              "      <td>25.225688</td>\n",
              "      <td>0.788991</td>\n",
              "      <td>1.302752</td>\n",
              "      <td>14.431193</td>\n",
              "      <td>56.293578</td>\n",
              "      <td>2.366972</td>\n",
              "      <td>40.889908</td>\n",
              "      <td>15.270642</td>\n",
              "      <td>9.158961</td>\n",
              "      <td>29.232596</td>\n",
              "    </tr>\n",
              "    <tr>\n",
              "      <th>std</th>\n",
              "      <td>45.915426</td>\n",
              "      <td>4.624420</td>\n",
              "      <td>0.409910</td>\n",
              "      <td>0.461571</td>\n",
              "      <td>2.157532</td>\n",
              "      <td>7.217908</td>\n",
              "      <td>1.613947</td>\n",
              "      <td>26.557882</td>\n",
              "      <td>2.839480</td>\n",
              "      <td>2.132077</td>\n",
              "      <td>11.339982</td>\n",
              "    </tr>\n",
              "    <tr>\n",
              "      <th>min</th>\n",
              "      <td>3.000000</td>\n",
              "      <td>19.000000</td>\n",
              "      <td>0.000000</td>\n",
              "      <td>1.000000</td>\n",
              "      <td>12.000000</td>\n",
              "      <td>37.000000</td>\n",
              "      <td>1.000000</td>\n",
              "      <td>0.000000</td>\n",
              "      <td>7.000000</td>\n",
              "      <td>2.666700</td>\n",
              "      <td>16.000000</td>\n",
              "    </tr>\n",
              "    <tr>\n",
              "      <th>25%</th>\n",
              "      <td>40.000000</td>\n",
              "      <td>22.000000</td>\n",
              "      <td>1.000000</td>\n",
              "      <td>1.000000</td>\n",
              "      <td>13.000000</td>\n",
              "      <td>52.000000</td>\n",
              "      <td>1.000000</td>\n",
              "      <td>20.000000</td>\n",
              "      <td>13.500000</td>\n",
              "      <td>7.830000</td>\n",
              "      <td>19.764706</td>\n",
              "    </tr>\n",
              "    <tr>\n",
              "      <th>50%</th>\n",
              "      <td>77.000000</td>\n",
              "      <td>24.000000</td>\n",
              "      <td>1.000000</td>\n",
              "      <td>1.000000</td>\n",
              "      <td>13.000000</td>\n",
              "      <td>57.000000</td>\n",
              "      <td>2.000000</td>\n",
              "      <td>39.000000</td>\n",
              "      <td>15.500000</td>\n",
              "      <td>9.160000</td>\n",
              "      <td>27.294118</td>\n",
              "    </tr>\n",
              "    <tr>\n",
              "      <th>75%</th>\n",
              "      <td>115.000000</td>\n",
              "      <td>27.000000</td>\n",
              "      <td>1.000000</td>\n",
              "      <td>2.000000</td>\n",
              "      <td>16.000000</td>\n",
              "      <td>61.000000</td>\n",
              "      <td>3.000000</td>\n",
              "      <td>57.000000</td>\n",
              "      <td>17.000000</td>\n",
              "      <td>10.500000</td>\n",
              "      <td>34.823529</td>\n",
              "    </tr>\n",
              "    <tr>\n",
              "      <th>max</th>\n",
              "      <td>163.000000</td>\n",
              "      <td>39.000000</td>\n",
              "      <td>1.000000</td>\n",
              "      <td>2.000000</td>\n",
              "      <td>20.000000</td>\n",
              "      <td>72.000000</td>\n",
              "      <td>7.000000</td>\n",
              "      <td>120.000000</td>\n",
              "      <td>24.000000</td>\n",
              "      <td>14.000000</td>\n",
              "      <td>68.705882</td>\n",
              "    </tr>\n",
              "  </tbody>\n",
              "</table>\n",
              "</div>\n",
              "      <button class=\"colab-df-convert\" onclick=\"convertToInteractive('df-748260db-da6b-4190-b648-ff6edd7cdfd6')\"\n",
              "              title=\"Convert this dataframe to an interactive table.\"\n",
              "              style=\"display:none;\">\n",
              "        \n",
              "  <svg xmlns=\"http://www.w3.org/2000/svg\" height=\"24px\"viewBox=\"0 0 24 24\"\n",
              "       width=\"24px\">\n",
              "    <path d=\"M0 0h24v24H0V0z\" fill=\"none\"/>\n",
              "    <path d=\"M18.56 5.44l.94 2.06.94-2.06 2.06-.94-2.06-.94-.94-2.06-.94 2.06-2.06.94zm-11 1L8.5 8.5l.94-2.06 2.06-.94-2.06-.94L8.5 2.5l-.94 2.06-2.06.94zm10 10l.94 2.06.94-2.06 2.06-.94-2.06-.94-.94-2.06-.94 2.06-2.06.94z\"/><path d=\"M17.41 7.96l-1.37-1.37c-.4-.4-.92-.59-1.43-.59-.52 0-1.04.2-1.43.59L10.3 9.45l-7.72 7.72c-.78.78-.78 2.05 0 2.83L4 21.41c.39.39.9.59 1.41.59.51 0 1.02-.2 1.41-.59l7.78-7.78 2.81-2.81c.8-.78.8-2.07 0-2.86zM5.41 20L4 18.59l7.72-7.72 1.47 1.35L5.41 20z\"/>\n",
              "  </svg>\n",
              "      </button>\n",
              "      \n",
              "  <style>\n",
              "    .colab-df-container {\n",
              "      display:flex;\n",
              "      flex-wrap:wrap;\n",
              "      gap: 12px;\n",
              "    }\n",
              "\n",
              "    .colab-df-convert {\n",
              "      background-color: #E8F0FE;\n",
              "      border: none;\n",
              "      border-radius: 50%;\n",
              "      cursor: pointer;\n",
              "      display: none;\n",
              "      fill: #1967D2;\n",
              "      height: 32px;\n",
              "      padding: 0 0 0 0;\n",
              "      width: 32px;\n",
              "    }\n",
              "\n",
              "    .colab-df-convert:hover {\n",
              "      background-color: #E2EBFA;\n",
              "      box-shadow: 0px 1px 2px rgba(60, 64, 67, 0.3), 0px 1px 3px 1px rgba(60, 64, 67, 0.15);\n",
              "      fill: #174EA6;\n",
              "    }\n",
              "\n",
              "    [theme=dark] .colab-df-convert {\n",
              "      background-color: #3B4455;\n",
              "      fill: #D2E3FC;\n",
              "    }\n",
              "\n",
              "    [theme=dark] .colab-df-convert:hover {\n",
              "      background-color: #434B5C;\n",
              "      box-shadow: 0px 1px 3px 1px rgba(0, 0, 0, 0.15);\n",
              "      filter: drop-shadow(0px 1px 2px rgba(0, 0, 0, 0.3));\n",
              "      fill: #FFFFFF;\n",
              "    }\n",
              "  </style>\n",
              "\n",
              "      <script>\n",
              "        const buttonEl =\n",
              "          document.querySelector('#df-748260db-da6b-4190-b648-ff6edd7cdfd6 button.colab-df-convert');\n",
              "        buttonEl.style.display =\n",
              "          google.colab.kernel.accessAllowed ? 'block' : 'none';\n",
              "\n",
              "        async function convertToInteractive(key) {\n",
              "          const element = document.querySelector('#df-748260db-da6b-4190-b648-ff6edd7cdfd6');\n",
              "          const dataTable =\n",
              "            await google.colab.kernel.invokeFunction('convertToInteractive',\n",
              "                                                     [key], {});\n",
              "          if (!dataTable) return;\n",
              "\n",
              "          const docLinkHtml = 'Like what you see? Visit the ' +\n",
              "            '<a target=\"_blank\" href=https://colab.research.google.com/notebooks/data_table.ipynb>data table notebook</a>'\n",
              "            + ' to learn more about interactive tables.';\n",
              "          element.innerHTML = '';\n",
              "          dataTable['output_type'] = 'display_data';\n",
              "          await google.colab.output.renderOutput(dataTable, element);\n",
              "          const docLink = document.createElement('div');\n",
              "          docLink.innerHTML = docLinkHtml;\n",
              "          element.appendChild(docLink);\n",
              "        }\n",
              "      </script>\n",
              "    </div>\n",
              "  </div>\n",
              "  "
            ],
            "text/plain": [
              "               ID         Age      Gender  ...  Total_FREE  Total_PACT   PCL_Total\n",
              "count  109.000000  109.000000  109.000000  ...  109.000000  109.000000  109.000000\n",
              "mean    79.339450   25.225688    0.788991  ...   15.270642    9.158961   29.232596\n",
              "std     45.915426    4.624420    0.409910  ...    2.839480    2.132077   11.339982\n",
              "min      3.000000   19.000000    0.000000  ...    7.000000    2.666700   16.000000\n",
              "25%     40.000000   22.000000    1.000000  ...   13.500000    7.830000   19.764706\n",
              "50%     77.000000   24.000000    1.000000  ...   15.500000    9.160000   27.294118\n",
              "75%    115.000000   27.000000    1.000000  ...   17.000000   10.500000   34.823529\n",
              "max    163.000000   39.000000    1.000000  ...   24.000000   14.000000   68.705882\n",
              "\n",
              "[8 rows x 11 columns]"
            ]
          },
          "metadata": {},
          "execution_count": 9
        }
      ]
    },
    {
      "cell_type": "code",
      "metadata": {
        "colab": {
          "base_uri": "https://localhost:8080/",
          "height": 955
        },
        "id": "4JQra_qFqv9I",
        "outputId": "81fa23e0-c419-4662-8491-4df527f6629e"
      },
      "source": [
        "df.hist(figsize=(24,12))"
      ],
      "execution_count": 10,
      "outputs": [
        {
          "output_type": "execute_result",
          "data": {
            "text/plain": [
              "array([[<matplotlib.axes._subplots.AxesSubplot object at 0x7ff802f01990>,\n",
              "        <matplotlib.axes._subplots.AxesSubplot object at 0x7ff802e65150>,\n",
              "        <matplotlib.axes._subplots.AxesSubplot object at 0x7ff802e9e750>],\n",
              "       [<matplotlib.axes._subplots.AxesSubplot object at 0x7ff802e54d50>,\n",
              "        <matplotlib.axes._subplots.AxesSubplot object at 0x7ff802e17390>,\n",
              "        <matplotlib.axes._subplots.AxesSubplot object at 0x7ff802dcb990>],\n",
              "       [<matplotlib.axes._subplots.AxesSubplot object at 0x7ff802d84f50>,\n",
              "        <matplotlib.axes._subplots.AxesSubplot object at 0x7ff802d45590>,\n",
              "        <matplotlib.axes._subplots.AxesSubplot object at 0x7ff802d455d0>],\n",
              "       [<matplotlib.axes._subplots.AxesSubplot object at 0x7ff802cfbcd0>,\n",
              "        <matplotlib.axes._subplots.AxesSubplot object at 0x7ff802c737d0>,\n",
              "        <matplotlib.axes._subplots.AxesSubplot object at 0x7ff802c27dd0>]],\n",
              "      dtype=object)"
            ]
          },
          "metadata": {},
          "execution_count": 10
        },
        {
          "output_type": "display_data",
          "data": {
            "image/png": "[encoded data removed]",
            "text/plain": [
              "<Figure size 1728x864 with 12 Axes>"
            ]
          },
          "metadata": {
            "needs_background": "light"
          }
        }
      ]
    },
    {
      "cell_type": "code",
      "metadata": {
        "colab": {
          "base_uri": "https://localhost:8080/",
          "height": 423
        },
        "id": "81urW4FXvPFG",
        "outputId": "c8ae4229-5d0c-4efb-931d-2a737c9ec04b"
      },
      "source": [
        "df.isnull()\n"
      ],
      "execution_count": 11,
      "outputs": [
        {
          "output_type": "execute_result",
          "data": {
            "text/html": [
              "\n",
              "  <div id=\"df-a9a874a2-1890-47fe-8c70-65324e008f97\">\n",
              "    <div class=\"colab-df-container\">\n",
              "      <div>\n",
              "<style scoped>\n",
              "    .dataframe tbody tr th:only-of-type {\n",
              "        vertical-align: middle;\n",
              "    }\n",
              "\n",
              "    .dataframe tbody tr th {\n",
              "        vertical-align: top;\n",
              "    }\n",
              "\n",
              "    .dataframe thead th {\n",
              "        text-align: right;\n",
              "    }\n",
              "</style>\n",
              "<table border=\"1\" class=\"dataframe\">\n",
              "  <thead>\n",
              "    <tr style=\"text-align: right;\">\n",
              "      <th></th>\n",
              "      <th>ID</th>\n",
              "      <th>Age</th>\n",
              "      <th>Gender</th>\n",
              "      <th>FamilyStatus</th>\n",
              "      <th>Education</th>\n",
              "      <th>CFS_Total</th>\n",
              "      <th>TOT_TRAUMA</th>\n",
              "      <th>DTS_TOT</th>\n",
              "      <th>Total_FREE</th>\n",
              "      <th>Total_PACT</th>\n",
              "      <th>PCL_Total</th>\n",
              "    </tr>\n",
              "  </thead>\n",
              "  <tbody>\n",
              "    <tr>\n",
              "      <th>0</th>\n",
              "      <td>False</td>\n",
              "      <td>False</td>\n",
              "      <td>False</td>\n",
              "      <td>False</td>\n",
              "      <td>False</td>\n",
              "      <td>False</td>\n",
              "      <td>False</td>\n",
              "      <td>False</td>\n",
              "      <td>False</td>\n",
              "      <td>False</td>\n",
              "      <td>False</td>\n",
              "    </tr>\n",
              "    <tr>\n",
              "      <th>1</th>\n",
              "      <td>False</td>\n",
              "      <td>False</td>\n",
              "      <td>False</td>\n",
              "      <td>False</td>\n",
              "      <td>False</td>\n",
              "      <td>False</td>\n",
              "      <td>False</td>\n",
              "      <td>False</td>\n",
              "      <td>False</td>\n",
              "      <td>False</td>\n",
              "      <td>False</td>\n",
              "    </tr>\n",
              "    <tr>\n",
              "      <th>2</th>\n",
              "      <td>False</td>\n",
              "      <td>False</td>\n",
              "      <td>False</td>\n",
              "      <td>False</td>\n",
              "      <td>False</td>\n",
              "      <td>False</td>\n",
              "      <td>False</td>\n",
              "      <td>False</td>\n",
              "      <td>False</td>\n",
              "      <td>False</td>\n",
              "      <td>False</td>\n",
              "    </tr>\n",
              "    <tr>\n",
              "      <th>3</th>\n",
              "      <td>False</td>\n",
              "      <td>False</td>\n",
              "      <td>False</td>\n",
              "      <td>False</td>\n",
              "      <td>False</td>\n",
              "      <td>False</td>\n",
              "      <td>False</td>\n",
              "      <td>False</td>\n",
              "      <td>False</td>\n",
              "      <td>False</td>\n",
              "      <td>False</td>\n",
              "    </tr>\n",
              "    <tr>\n",
              "      <th>4</th>\n",
              "      <td>False</td>\n",
              "      <td>False</td>\n",
              "      <td>False</td>\n",
              "      <td>False</td>\n",
              "      <td>False</td>\n",
              "      <td>False</td>\n",
              "      <td>False</td>\n",
              "      <td>False</td>\n",
              "      <td>False</td>\n",
              "      <td>False</td>\n",
              "      <td>False</td>\n",
              "    </tr>\n",
              "    <tr>\n",
              "      <th>...</th>\n",
              "      <td>...</td>\n",
              "      <td>...</td>\n",
              "      <td>...</td>\n",
              "      <td>...</td>\n",
              "      <td>...</td>\n",
              "      <td>...</td>\n",
              "      <td>...</td>\n",
              "      <td>...</td>\n",
              "      <td>...</td>\n",
              "      <td>...</td>\n",
              "      <td>...</td>\n",
              "    </tr>\n",
              "    <tr>\n",
              "      <th>104</th>\n",
              "      <td>False</td>\n",
              "      <td>False</td>\n",
              "      <td>False</td>\n",
              "      <td>False</td>\n",
              "      <td>False</td>\n",
              "      <td>False</td>\n",
              "      <td>False</td>\n",
              "      <td>False</td>\n",
              "      <td>False</td>\n",
              "      <td>False</td>\n",
              "      <td>False</td>\n",
              "    </tr>\n",
              "    <tr>\n",
              "      <th>105</th>\n",
              "      <td>False</td>\n",
              "      <td>False</td>\n",
              "      <td>False</td>\n",
              "      <td>False</td>\n",
              "      <td>False</td>\n",
              "      <td>False</td>\n",
              "      <td>False</td>\n",
              "      <td>False</td>\n",
              "      <td>False</td>\n",
              "      <td>False</td>\n",
              "      <td>False</td>\n",
              "    </tr>\n",
              "    <tr>\n",
              "      <th>106</th>\n",
              "      <td>False</td>\n",
              "      <td>False</td>\n",
              "      <td>False</td>\n",
              "      <td>False</td>\n",
              "      <td>False</td>\n",
              "      <td>False</td>\n",
              "      <td>False</td>\n",
              "      <td>False</td>\n",
              "      <td>False</td>\n",
              "      <td>False</td>\n",
              "      <td>False</td>\n",
              "    </tr>\n",
              "    <tr>\n",
              "      <th>107</th>\n",
              "      <td>False</td>\n",
              "      <td>False</td>\n",
              "      <td>False</td>\n",
              "      <td>False</td>\n",
              "      <td>False</td>\n",
              "      <td>False</td>\n",
              "      <td>False</td>\n",
              "      <td>False</td>\n",
              "      <td>False</td>\n",
              "      <td>False</td>\n",
              "      <td>False</td>\n",
              "    </tr>\n",
              "    <tr>\n",
              "      <th>108</th>\n",
              "      <td>False</td>\n",
              "      <td>False</td>\n",
              "      <td>False</td>\n",
              "      <td>False</td>\n",
              "      <td>False</td>\n",
              "      <td>False</td>\n",
              "      <td>False</td>\n",
              "      <td>False</td>\n",
              "      <td>False</td>\n",
              "      <td>False</td>\n",
              "      <td>False</td>\n",
              "    </tr>\n",
              "  </tbody>\n",
              "</table>\n",
              "<p>109 rows × 11 columns</p>\n",
              "</div>\n",
              "      <button class=\"colab-df-convert\" onclick=\"convertToInteractive('df-a9a874a2-1890-47fe-8c70-65324e008f97')\"\n",
              "              title=\"Convert this dataframe to an interactive table.\"\n",
              "              style=\"display:none;\">\n",
              "        \n",
              "  <svg xmlns=\"http://www.w3.org/2000/svg\" height=\"24px\"viewBox=\"0 0 24 24\"\n",
              "       width=\"24px\">\n",
              "    <path d=\"M0 0h24v24H0V0z\" fill=\"none\"/>\n",
              "    <path d=\"M18.56 5.44l.94 2.06.94-2.06 2.06-.94-2.06-.94-.94-2.06-.94 2.06-2.06.94zm-11 1L8.5 8.5l.94-2.06 2.06-.94-2.06-.94L8.5 2.5l-.94 2.06-2.06.94zm10 10l.94 2.06.94-2.06 2.06-.94-2.06-.94-.94-2.06-.94 2.06-2.06.94z\"/><path d=\"M17.41 7.96l-1.37-1.37c-.4-.4-.92-.59-1.43-.59-.52 0-1.04.2-1.43.59L10.3 9.45l-7.72 7.72c-.78.78-.78 2.05 0 2.83L4 21.41c.39.39.9.59 1.41.59.51 0 1.02-.2 1.41-.59l7.78-7.78 2.81-2.81c.8-.78.8-2.07 0-2.86zM5.41 20L4 18.59l7.72-7.72 1.47 1.35L5.41 20z\"/>\n",
              "  </svg>\n",
              "      </button>\n",
              "      \n",
              "  <style>\n",
              "    .colab-df-container {\n",
              "      display:flex;\n",
              "      flex-wrap:wrap;\n",
              "      gap: 12px;\n",
              "    }\n",
              "\n",
              "    .colab-df-convert {\n",
              "      background-color: #E8F0FE;\n",
              "      border: none;\n",
              "      border-radius: 50%;\n",
              "      cursor: pointer;\n",
              "      display: none;\n",
              "      fill: #1967D2;\n",
              "      height: 32px;\n",
              "      padding: 0 0 0 0;\n",
              "      width: 32px;\n",
              "    }\n",
              "\n",
              "    .colab-df-convert:hover {\n",
              "      background-color: #E2EBFA;\n",
              "      box-shadow: 0px 1px 2px rgba(60, 64, 67, 0.3), 0px 1px 3px 1px rgba(60, 64, 67, 0.15);\n",
              "      fill: #174EA6;\n",
              "    }\n",
              "\n",
              "    [theme=dark] .colab-df-convert {\n",
              "      background-color: #3B4455;\n",
              "      fill: #D2E3FC;\n",
              "    }\n",
              "\n",
              "    [theme=dark] .colab-df-convert:hover {\n",
              "      background-color: #434B5C;\n",
              "      box-shadow: 0px 1px 3px 1px rgba(0, 0, 0, 0.15);\n",
              "      filter: drop-shadow(0px 1px 2px rgba(0, 0, 0, 0.3));\n",
              "      fill: #FFFFFF;\n",
              "    }\n",
              "  </style>\n",
              "\n",
              "      <script>\n",
              "        const buttonEl =\n",
              "          document.querySelector('#df-a9a874a2-1890-47fe-8c70-65324e008f97 button.colab-df-convert');\n",
              "        buttonEl.style.display =\n",
              "          google.colab.kernel.accessAllowed ? 'block' : 'none';\n",
              "\n",
              "        async function convertToInteractive(key) {\n",
              "          const element = document.querySelector('#df-a9a874a2-1890-47fe-8c70-65324e008f97');\n",
              "          const dataTable =\n",
              "            await google.colab.kernel.invokeFunction('convertToInteractive',\n",
              "                                                     [key], {});\n",
              "          if (!dataTable) return;\n",
              "\n",
              "          const docLinkHtml = 'Like what you see? Visit the ' +\n",
              "            '<a target=\"_blank\" href=https://colab.research.google.com/notebooks/data_table.ipynb>data table notebook</a>'\n",
              "            + ' to learn more about interactive tables.';\n",
              "          element.innerHTML = '';\n",
              "          dataTable['output_type'] = 'display_data';\n",
              "          await google.colab.output.renderOutput(dataTable, element);\n",
              "          const docLink = document.createElement('div');\n",
              "          docLink.innerHTML = docLinkHtml;\n",
              "          element.appendChild(docLink);\n",
              "        }\n",
              "      </script>\n",
              "    </div>\n",
              "  </div>\n",
              "  "
            ],
            "text/plain": [
              "        ID    Age  Gender  ...  Total_FREE  Total_PACT  PCL_Total\n",
              "0    False  False   False  ...       False       False      False\n",
              "1    False  False   False  ...       False       False      False\n",
              "2    False  False   False  ...       False       False      False\n",
              "3    False  False   False  ...       False       False      False\n",
              "4    False  False   False  ...       False       False      False\n",
              "..     ...    ...     ...  ...         ...         ...        ...\n",
              "104  False  False   False  ...       False       False      False\n",
              "105  False  False   False  ...       False       False      False\n",
              "106  False  False   False  ...       False       False      False\n",
              "107  False  False   False  ...       False       False      False\n",
              "108  False  False   False  ...       False       False      False\n",
              "\n",
              "[109 rows x 11 columns]"
            ]
          },
          "metadata": {},
          "execution_count": 11
        }
      ]
    },
    {
      "cell_type": "code",
      "metadata": {
        "colab": {
          "base_uri": "https://localhost:8080/"
        },
        "id": "uzZSfqbDidqs",
        "outputId": "d190e895-ade7-4c05-bd8e-632cc11d87e7"
      },
      "source": [
        "df.isnull().sum()\n"
      ],
      "execution_count": 12,
      "outputs": [
        {
          "output_type": "execute_result",
          "data": {
            "text/plain": [
              "ID              0\n",
              "Age             0\n",
              "Gender          0\n",
              "FamilyStatus    0\n",
              "Education       0\n",
              "CFS_Total       0\n",
              "TOT_TRAUMA      0\n",
              "DTS_TOT         0\n",
              "Total_FREE      0\n",
              "Total_PACT      0\n",
              "PCL_Total       0\n",
              "dtype: int64"
            ]
          },
          "metadata": {},
          "execution_count": 12
        }
      ]
    },
    {
      "cell_type": "code",
      "metadata": {
        "colab": {
          "base_uri": "https://localhost:8080/",
          "height": 394
        },
        "id": "dxu3W9C8cqzP",
        "outputId": "64822fae-0a96-4425-9e68-52fce96fdfe5"
      },
      "source": [
        "df.corr()"
      ],
      "execution_count": 13,
      "outputs": [
        {
          "output_type": "execute_result",
          "data": {
            "text/html": [
              "\n",
              "  <div id=\"df-4d100935-8ffa-445c-8e2c-d7964a380fe8\">\n",
              "    <div class=\"colab-df-container\">\n",
              "      <div>\n",
              "<style scoped>\n",
              "    .dataframe tbody tr th:only-of-type {\n",
              "        vertical-align: middle;\n",
              "    }\n",
              "\n",
              "    .dataframe tbody tr th {\n",
              "        vertical-align: top;\n",
              "    }\n",
              "\n",
              "    .dataframe thead th {\n",
              "        text-align: right;\n",
              "    }\n",
              "</style>\n",
              "<table border=\"1\" class=\"dataframe\">\n",
              "  <thead>\n",
              "    <tr style=\"text-align: right;\">\n",
              "      <th></th>\n",
              "      <th>ID</th>\n",
              "      <th>Age</th>\n",
              "      <th>Gender</th>\n",
              "      <th>FamilyStatus</th>\n",
              "      <th>Education</th>\n",
              "      <th>CFS_Total</th>\n",
              "      <th>TOT_TRAUMA</th>\n",
              "      <th>DTS_TOT</th>\n",
              "      <th>Total_FREE</th>\n",
              "      <th>Total_PACT</th>\n",
              "      <th>PCL_Total</th>\n",
              "    </tr>\n",
              "  </thead>\n",
              "  <tbody>\n",
              "    <tr>\n",
              "      <th>ID</th>\n",
              "      <td>1.000000</td>\n",
              "      <td>-0.037186</td>\n",
              "      <td>-0.100947</td>\n",
              "      <td>-0.063438</td>\n",
              "      <td>-0.336479</td>\n",
              "      <td>-0.085572</td>\n",
              "      <td>-0.024312</td>\n",
              "      <td>-0.125659</td>\n",
              "      <td>-0.112709</td>\n",
              "      <td>-0.080492</td>\n",
              "      <td>-0.121368</td>\n",
              "    </tr>\n",
              "    <tr>\n",
              "      <th>Age</th>\n",
              "      <td>-0.037186</td>\n",
              "      <td>1.000000</td>\n",
              "      <td>-0.270653</td>\n",
              "      <td>0.436187</td>\n",
              "      <td>0.623443</td>\n",
              "      <td>0.159444</td>\n",
              "      <td>0.134446</td>\n",
              "      <td>-0.239452</td>\n",
              "      <td>0.277928</td>\n",
              "      <td>-0.003655</td>\n",
              "      <td>-0.211873</td>\n",
              "    </tr>\n",
              "    <tr>\n",
              "      <th>Gender</th>\n",
              "      <td>-0.100947</td>\n",
              "      <td>-0.270653</td>\n",
              "      <td>1.000000</td>\n",
              "      <td>-0.001796</td>\n",
              "      <td>-0.011334</td>\n",
              "      <td>-0.194805</td>\n",
              "      <td>-0.091808</td>\n",
              "      <td>0.156897</td>\n",
              "      <td>-0.097652</td>\n",
              "      <td>-0.172698</td>\n",
              "      <td>0.093779</td>\n",
              "    </tr>\n",
              "    <tr>\n",
              "      <th>FamilyStatus</th>\n",
              "      <td>-0.063438</td>\n",
              "      <td>0.436187</td>\n",
              "      <td>-0.001796</td>\n",
              "      <td>1.000000</td>\n",
              "      <td>0.406971</td>\n",
              "      <td>0.145387</td>\n",
              "      <td>-0.100803</td>\n",
              "      <td>-0.313745</td>\n",
              "      <td>0.180638</td>\n",
              "      <td>0.100427</td>\n",
              "      <td>-0.238531</td>\n",
              "    </tr>\n",
              "    <tr>\n",
              "      <th>Education</th>\n",
              "      <td>-0.336479</td>\n",
              "      <td>0.623443</td>\n",
              "      <td>-0.011334</td>\n",
              "      <td>0.406971</td>\n",
              "      <td>1.000000</td>\n",
              "      <td>0.073253</td>\n",
              "      <td>-0.040545</td>\n",
              "      <td>-0.053298</td>\n",
              "      <td>0.139472</td>\n",
              "      <td>0.015439</td>\n",
              "      <td>-0.067783</td>\n",
              "    </tr>\n",
              "    <tr>\n",
              "      <th>CFS_Total</th>\n",
              "      <td>-0.085572</td>\n",
              "      <td>0.159444</td>\n",
              "      <td>-0.194805</td>\n",
              "      <td>0.145387</td>\n",
              "      <td>0.073253</td>\n",
              "      <td>1.000000</td>\n",
              "      <td>-0.169890</td>\n",
              "      <td>-0.319884</td>\n",
              "      <td>0.279805</td>\n",
              "      <td>0.321059</td>\n",
              "      <td>-0.420538</td>\n",
              "    </tr>\n",
              "    <tr>\n",
              "      <th>TOT_TRAUMA</th>\n",
              "      <td>-0.024312</td>\n",
              "      <td>0.134446</td>\n",
              "      <td>-0.091808</td>\n",
              "      <td>-0.100803</td>\n",
              "      <td>-0.040545</td>\n",
              "      <td>-0.169890</td>\n",
              "      <td>1.000000</td>\n",
              "      <td>0.258663</td>\n",
              "      <td>0.041771</td>\n",
              "      <td>-0.149167</td>\n",
              "      <td>0.232702</td>\n",
              "    </tr>\n",
              "    <tr>\n",
              "      <th>DTS_TOT</th>\n",
              "      <td>-0.125659</td>\n",
              "      <td>-0.239452</td>\n",
              "      <td>0.156897</td>\n",
              "      <td>-0.313745</td>\n",
              "      <td>-0.053298</td>\n",
              "      <td>-0.319884</td>\n",
              "      <td>0.258663</td>\n",
              "      <td>1.000000</td>\n",
              "      <td>-0.296986</td>\n",
              "      <td>-0.331431</td>\n",
              "      <td>0.500627</td>\n",
              "    </tr>\n",
              "    <tr>\n",
              "      <th>Total_FREE</th>\n",
              "      <td>-0.112709</td>\n",
              "      <td>0.277928</td>\n",
              "      <td>-0.097652</td>\n",
              "      <td>0.180638</td>\n",
              "      <td>0.139472</td>\n",
              "      <td>0.279805</td>\n",
              "      <td>0.041771</td>\n",
              "      <td>-0.296986</td>\n",
              "      <td>1.000000</td>\n",
              "      <td>0.316544</td>\n",
              "      <td>-0.291194</td>\n",
              "    </tr>\n",
              "    <tr>\n",
              "      <th>Total_PACT</th>\n",
              "      <td>-0.080492</td>\n",
              "      <td>-0.003655</td>\n",
              "      <td>-0.172698</td>\n",
              "      <td>0.100427</td>\n",
              "      <td>0.015439</td>\n",
              "      <td>0.321059</td>\n",
              "      <td>-0.149167</td>\n",
              "      <td>-0.331431</td>\n",
              "      <td>0.316544</td>\n",
              "      <td>1.000000</td>\n",
              "      <td>-0.317508</td>\n",
              "    </tr>\n",
              "    <tr>\n",
              "      <th>PCL_Total</th>\n",
              "      <td>-0.121368</td>\n",
              "      <td>-0.211873</td>\n",
              "      <td>0.093779</td>\n",
              "      <td>-0.238531</td>\n",
              "      <td>-0.067783</td>\n",
              "      <td>-0.420538</td>\n",
              "      <td>0.232702</td>\n",
              "      <td>0.500627</td>\n",
              "      <td>-0.291194</td>\n",
              "      <td>-0.317508</td>\n",
              "      <td>1.000000</td>\n",
              "    </tr>\n",
              "  </tbody>\n",
              "</table>\n",
              "</div>\n",
              "      <button class=\"colab-df-convert\" onclick=\"convertToInteractive('df-4d100935-8ffa-445c-8e2c-d7964a380fe8')\"\n",
              "              title=\"Convert this dataframe to an interactive table.\"\n",
              "              style=\"display:none;\">\n",
              "        \n",
              "  <svg xmlns=\"http://www.w3.org/2000/svg\" height=\"24px\"viewBox=\"0 0 24 24\"\n",
              "       width=\"24px\">\n",
              "    <path d=\"M0 0h24v24H0V0z\" fill=\"none\"/>\n",
              "    <path d=\"M18.56 5.44l.94 2.06.94-2.06 2.06-.94-2.06-.94-.94-2.06-.94 2.06-2.06.94zm-11 1L8.5 8.5l.94-2.06 2.06-.94-2.06-.94L8.5 2.5l-.94 2.06-2.06.94zm10 10l.94 2.06.94-2.06 2.06-.94-2.06-.94-.94-2.06-.94 2.06-2.06.94z\"/><path d=\"M17.41 7.96l-1.37-1.37c-.4-.4-.92-.59-1.43-.59-.52 0-1.04.2-1.43.59L10.3 9.45l-7.72 7.72c-.78.78-.78 2.05 0 2.83L4 21.41c.39.39.9.59 1.41.59.51 0 1.02-.2 1.41-.59l7.78-7.78 2.81-2.81c.8-.78.8-2.07 0-2.86zM5.41 20L4 18.59l7.72-7.72 1.47 1.35L5.41 20z\"/>\n",
              "  </svg>\n",
              "      </button>\n",
              "      \n",
              "  <style>\n",
              "    .colab-df-container {\n",
              "      display:flex;\n",
              "      flex-wrap:wrap;\n",
              "      gap: 12px;\n",
              "    }\n",
              "\n",
              "    .colab-df-convert {\n",
              "      background-color: #E8F0FE;\n",
              "      border: none;\n",
              "      border-radius: 50%;\n",
              "      cursor: pointer;\n",
              "      display: none;\n",
              "      fill: #1967D2;\n",
              "      height: 32px;\n",
              "      padding: 0 0 0 0;\n",
              "      width: 32px;\n",
              "    }\n",
              "\n",
              "    .colab-df-convert:hover {\n",
              "      background-color: #E2EBFA;\n",
              "      box-shadow: 0px 1px 2px rgba(60, 64, 67, 0.3), 0px 1px 3px 1px rgba(60, 64, 67, 0.15);\n",
              "      fill: #174EA6;\n",
              "    }\n",
              "\n",
              "    [theme=dark] .colab-df-convert {\n",
              "      background-color: #3B4455;\n",
              "      fill: #D2E3FC;\n",
              "    }\n",
              "\n",
              "    [theme=dark] .colab-df-convert:hover {\n",
              "      background-color: #434B5C;\n",
              "      box-shadow: 0px 1px 3px 1px rgba(0, 0, 0, 0.15);\n",
              "      filter: drop-shadow(0px 1px 2px rgba(0, 0, 0, 0.3));\n",
              "      fill: #FFFFFF;\n",
              "    }\n",
              "  </style>\n",
              "\n",
              "      <script>\n",
              "        const buttonEl =\n",
              "          document.querySelector('#df-4d100935-8ffa-445c-8e2c-d7964a380fe8 button.colab-df-convert');\n",
              "        buttonEl.style.display =\n",
              "          google.colab.kernel.accessAllowed ? 'block' : 'none';\n",
              "\n",
              "        async function convertToInteractive(key) {\n",
              "          const element = document.querySelector('#df-4d100935-8ffa-445c-8e2c-d7964a380fe8');\n",
              "          const dataTable =\n",
              "            await google.colab.kernel.invokeFunction('convertToInteractive',\n",
              "                                                     [key], {});\n",
              "          if (!dataTable) return;\n",
              "\n",
              "          const docLinkHtml = 'Like what you see? Visit the ' +\n",
              "            '<a target=\"_blank\" href=https://colab.research.google.com/notebooks/data_table.ipynb>data table notebook</a>'\n",
              "            + ' to learn more about interactive tables.';\n",
              "          element.innerHTML = '';\n",
              "          dataTable['output_type'] = 'display_data';\n",
              "          await google.colab.output.renderOutput(dataTable, element);\n",
              "          const docLink = document.createElement('div');\n",
              "          docLink.innerHTML = docLinkHtml;\n",
              "          element.appendChild(docLink);\n",
              "        }\n",
              "      </script>\n",
              "    </div>\n",
              "  </div>\n",
              "  "
            ],
            "text/plain": [
              "                    ID       Age    Gender  ...  Total_FREE  Total_PACT  PCL_Total\n",
              "ID            1.000000 -0.037186 -0.100947  ...   -0.112709   -0.080492  -0.121368\n",
              "Age          -0.037186  1.000000 -0.270653  ...    0.277928   -0.003655  -0.211873\n",
              "Gender       -0.100947 -0.270653  1.000000  ...   -0.097652   -0.172698   0.093779\n",
              "FamilyStatus -0.063438  0.436187 -0.001796  ...    0.180638    0.100427  -0.238531\n",
              "Education    -0.336479  0.623443 -0.011334  ...    0.139472    0.015439  -0.067783\n",
              "CFS_Total    -0.085572  0.159444 -0.194805  ...    0.279805    0.321059  -0.420538\n",
              "TOT_TRAUMA   -0.024312  0.134446 -0.091808  ...    0.041771   -0.149167   0.232702\n",
              "DTS_TOT      -0.125659 -0.239452  0.156897  ...   -0.296986   -0.331431   0.500627\n",
              "Total_FREE   -0.112709  0.277928 -0.097652  ...    1.000000    0.316544  -0.291194\n",
              "Total_PACT   -0.080492 -0.003655 -0.172698  ...    0.316544    1.000000  -0.317508\n",
              "PCL_Total    -0.121368 -0.211873  0.093779  ...   -0.291194   -0.317508   1.000000\n",
              "\n",
              "[11 rows x 11 columns]"
            ]
          },
          "metadata": {},
          "execution_count": 13
        }
      ]
    },
    {
      "cell_type": "code",
      "metadata": {
        "colab": {
          "base_uri": "https://localhost:8080/",
          "height": 344
        },
        "id": "67hjrmTO6OHw",
        "outputId": "caecc15d-51c8-49cb-e7d7-8173541efbe3"
      },
      "source": [
        "sns.heatmap(df.corr())"
      ],
      "execution_count": 14,
      "outputs": [
        {
          "output_type": "execute_result",
          "data": {
            "text/plain": [
              "<matplotlib.axes._subplots.AxesSubplot at 0x7ff802ca7510>"
            ]
          },
          "metadata": {},
          "execution_count": 14
        },
        {
          "output_type": "display_data",
          "data": {
            "image/png": "[encoded data removed]",
            "text/plain": [
              "<Figure size 432x288 with 2 Axes>"
            ]
          },
          "metadata": {
            "needs_background": "light"
          }
        }
      ]
    },
    {
      "cell_type": "code",
      "metadata": {
        "colab": {
          "base_uri": "https://localhost:8080/",
          "height": 1000
        },
        "id": "4ObqJ2uZ7kh_",
        "outputId": "493ceb83-85de-442f-9fae-342a7c1ab7e2"
      },
      "source": [
        "sns.pairplot(df)"
      ],
      "execution_count": 15,
      "outputs": [
        {
          "output_type": "execute_result",
          "data": {
            "text/plain": [
              "<seaborn.axisgrid.PairGrid at 0x7ff80241af50>"
            ]
          },
          "metadata": {},
          "execution_count": 15
        },
        {
          "output_type": "display_data",
          "data": {
            "image/png": "[encoded data removed]",
            "text/plain": [
              "<Figure size 1980x1980 with 132 Axes>"
            ]
          },
          "metadata": {
            "needs_background": "light"
          }
        }
      ]
    },
    {
      "cell_type": "code",
      "metadata": {
        "colab": {
          "base_uri": "https://localhost:8080/",
          "height": 297
        },
        "id": "uV5TLt7o-S4M",
        "outputId": "958658bd-9861-46d2-8fd4-231686f474b1"
      },
      "source": [
        "sns.regplot(x='Age',y='PCL_Total',data=df)"
      ],
      "execution_count": 16,
      "outputs": [
        {
          "output_type": "execute_result",
          "data": {
            "text/plain": [
              "<matplotlib.axes._subplots.AxesSubplot at 0x7ff7f6466c50>"
            ]
          },
          "metadata": {},
          "execution_count": 16
        },
        {
          "output_type": "display_data",
          "data": {
            "image/png": "[encoded data removed]",
            "text/plain": [
              "<Figure size 432x288 with 1 Axes>"
            ]
          },
          "metadata": {
            "needs_background": "light"
          }
        }
      ]
    },
    {
      "cell_type": "code",
      "metadata": {
        "colab": {
          "base_uri": "https://localhost:8080/",
          "height": 354
        },
        "id": "TIhorwLG-oAo",
        "outputId": "136e8e09-399f-4f5a-ebaa-9f894b5b6cd8"
      },
      "source": [
        "sns.regplot('Education',y='PCL_Total',data=df)"
      ],
      "execution_count": 17,
      "outputs": [
        {
          "output_type": "stream",
          "name": "stderr",
          "text": [
            "/usr/local/lib/python3.7/dist-packages/seaborn/_decorators.py:43: FutureWarning: Pass the following variable as a keyword arg: x. From version 0.12, the only valid positional argument will be `data`, and passing other arguments without an explicit keyword will result in an error or misinterpretation.\n",
            "  FutureWarning\n"
          ]
        },
        {
          "output_type": "execute_result",
          "data": {
            "text/plain": [
              "<matplotlib.axes._subplots.AxesSubplot at 0x7ff7f61f1ed0>"
            ]
          },
          "metadata": {},
          "execution_count": 17
        },
        {
          "output_type": "display_data",
          "data": {
            "image/png": "[encoded data removed]",
            "text/plain": [
              "<Figure size 432x288 with 1 Axes>"
            ]
          },
          "metadata": {
            "needs_background": "light"
          }
        }
      ]
    },
    {
      "cell_type": "code",
      "metadata": {
        "colab": {
          "base_uri": "https://localhost:8080/",
          "height": 297
        },
        "id": "AnpduNd5-6NO",
        "outputId": "222f6ca8-d5de-473a-b44d-c87a1f51e6aa"
      },
      "source": [
        "sns.boxplot(x='Gender',y='PCL_Total',data=df)"
      ],
      "execution_count": 18,
      "outputs": [
        {
          "output_type": "execute_result",
          "data": {
            "text/plain": [
              "<matplotlib.axes._subplots.AxesSubplot at 0x7ff7f60562d0>"
            ]
          },
          "metadata": {},
          "execution_count": 18
        },
        {
          "output_type": "display_data",
          "data": {
            "image/png": "[encoded data removed]",
            "text/plain": [
              "<Figure size 432x288 with 1 Axes>"
            ]
          },
          "metadata": {
            "needs_background": "light"
          }
        }
      ]
    },
    {
      "cell_type": "code",
      "metadata": {
        "colab": {
          "base_uri": "https://localhost:8080/",
          "height": 297
        },
        "id": "RJ1eR4Oe_GzE",
        "outputId": "c426d247-9517-435d-a619-0f25f64424f8"
      },
      "source": [
        "sns.boxplot(x='FamilyStatus',y='PCL_Total',data=df)"
      ],
      "execution_count": 19,
      "outputs": [
        {
          "output_type": "execute_result",
          "data": {
            "text/plain": [
              "<matplotlib.axes._subplots.AxesSubplot at 0x7ff7f4818e10>"
            ]
          },
          "metadata": {},
          "execution_count": 19
        },
        {
          "output_type": "display_data",
          "data": {
            "image/png": "[encoded data removed]",
            "text/plain": [
              "<Figure size 432x288 with 1 Axes>"
            ]
          },
          "metadata": {
            "needs_background": "light"
          }
        }
      ]
    },
    {
      "cell_type": "code",
      "metadata": {
        "colab": {
          "base_uri": "https://localhost:8080/"
        },
        "id": "8fxX-yEsAa-M",
        "outputId": "e1e66311-2b4a-4b65-d318-e5c11e4a54f7"
      },
      "source": [
        "df.value_counts(['Gender','FamilyStatus'])"
      ],
      "execution_count": 20,
      "outputs": [
        {
          "output_type": "execute_result",
          "data": {
            "text/plain": [
              "Gender  FamilyStatus\n",
              "1       1               60\n",
              "        2               26\n",
              "0       1               16\n",
              "        2                7\n",
              "dtype: int64"
            ]
          },
          "metadata": {},
          "execution_count": 20
        }
      ]
    },
    {
      "cell_type": "code",
      "metadata": {
        "colab": {
          "base_uri": "https://localhost:8080/",
          "height": 206
        },
        "id": "JaXFVDD9_ePZ",
        "outputId": "dca3e13f-f51b-41db-9afe-e9e9af2ff5c8"
      },
      "source": [
        "df.groupby(['Gender','FamilyStatus']).mean('Age')"
      ],
      "execution_count": 21,
      "outputs": [
        {
          "output_type": "execute_result",
          "data": {
            "text/html": [
              "\n",
              "  <div id=\"df-251b6256-ea60-47a1-8c41-8cf1d7054f24\">\n",
              "    <div class=\"colab-df-container\">\n",
              "      <div>\n",
              "<style scoped>\n",
              "    .dataframe tbody tr th:only-of-type {\n",
              "        vertical-align: middle;\n",
              "    }\n",
              "\n",
              "    .dataframe tbody tr th {\n",
              "        vertical-align: top;\n",
              "    }\n",
              "\n",
              "    .dataframe thead th {\n",
              "        text-align: right;\n",
              "    }\n",
              "</style>\n",
              "<table border=\"1\" class=\"dataframe\">\n",
              "  <thead>\n",
              "    <tr style=\"text-align: right;\">\n",
              "      <th></th>\n",
              "      <th></th>\n",
              "      <th>ID</th>\n",
              "      <th>Age</th>\n",
              "      <th>Education</th>\n",
              "      <th>CFS_Total</th>\n",
              "      <th>TOT_TRAUMA</th>\n",
              "      <th>DTS_TOT</th>\n",
              "      <th>Total_FREE</th>\n",
              "      <th>Total_PACT</th>\n",
              "      <th>PCL_Total</th>\n",
              "    </tr>\n",
              "    <tr>\n",
              "      <th>Gender</th>\n",
              "      <th>FamilyStatus</th>\n",
              "      <th></th>\n",
              "      <th></th>\n",
              "      <th></th>\n",
              "      <th></th>\n",
              "      <th></th>\n",
              "      <th></th>\n",
              "      <th></th>\n",
              "      <th></th>\n",
              "      <th></th>\n",
              "    </tr>\n",
              "  </thead>\n",
              "  <tbody>\n",
              "    <tr>\n",
              "      <th rowspan=\"2\" valign=\"top\">0</th>\n",
              "      <th>1</th>\n",
              "      <td>97.625000</td>\n",
              "      <td>27.287500</td>\n",
              "      <td>14.187500</td>\n",
              "      <td>58.500000</td>\n",
              "      <td>2.937500</td>\n",
              "      <td>34.812500</td>\n",
              "      <td>15.531250</td>\n",
              "      <td>9.795414</td>\n",
              "      <td>28.785294</td>\n",
              "    </tr>\n",
              "    <tr>\n",
              "      <th>2</th>\n",
              "      <td>66.857143</td>\n",
              "      <td>28.428571</td>\n",
              "      <td>15.142857</td>\n",
              "      <td>60.142857</td>\n",
              "      <td>2.000000</td>\n",
              "      <td>28.428571</td>\n",
              "      <td>16.428571</td>\n",
              "      <td>10.032857</td>\n",
              "      <td>23.529412</td>\n",
              "    </tr>\n",
              "    <tr>\n",
              "      <th rowspan=\"2\" valign=\"top\">1</th>\n",
              "      <th>1</th>\n",
              "      <td>76.883333</td>\n",
              "      <td>23.000000</td>\n",
              "      <td>13.766667</td>\n",
              "      <td>54.833333</td>\n",
              "      <td>2.350000</td>\n",
              "      <td>49.433333</td>\n",
              "      <td>14.775000</td>\n",
              "      <td>8.811344</td>\n",
              "      <td>31.599216</td>\n",
              "    </tr>\n",
              "    <tr>\n",
              "      <th>2</th>\n",
              "      <td>77.115385</td>\n",
              "      <td>28.230769</td>\n",
              "      <td>15.923077</td>\n",
              "      <td>57.269231</td>\n",
              "      <td>2.153846</td>\n",
              "      <td>28.269231</td>\n",
              "      <td>15.942308</td>\n",
              "      <td>9.334212</td>\n",
              "      <td>25.581900</td>\n",
              "    </tr>\n",
              "  </tbody>\n",
              "</table>\n",
              "</div>\n",
              "      <button class=\"colab-df-convert\" onclick=\"convertToInteractive('df-251b6256-ea60-47a1-8c41-8cf1d7054f24')\"\n",
              "              title=\"Convert this dataframe to an interactive table.\"\n",
              "              style=\"display:none;\">\n",
              "        \n",
              "  <svg xmlns=\"http://www.w3.org/2000/svg\" height=\"24px\"viewBox=\"0 0 24 24\"\n",
              "       width=\"24px\">\n",
              "    <path d=\"M0 0h24v24H0V0z\" fill=\"none\"/>\n",
              "    <path d=\"M18.56 5.44l.94 2.06.94-2.06 2.06-.94-2.06-.94-.94-2.06-.94 2.06-2.06.94zm-11 1L8.5 8.5l.94-2.06 2.06-.94-2.06-.94L8.5 2.5l-.94 2.06-2.06.94zm10 10l.94 2.06.94-2.06 2.06-.94-2.06-.94-.94-2.06-.94 2.06-2.06.94z\"/><path d=\"M17.41 7.96l-1.37-1.37c-.4-.4-.92-.59-1.43-.59-.52 0-1.04.2-1.43.59L10.3 9.45l-7.72 7.72c-.78.78-.78 2.05 0 2.83L4 21.41c.39.39.9.59 1.41.59.51 0 1.02-.2 1.41-.59l7.78-7.78 2.81-2.81c.8-.78.8-2.07 0-2.86zM5.41 20L4 18.59l7.72-7.72 1.47 1.35L5.41 20z\"/>\n",
              "  </svg>\n",
              "      </button>\n",
              "      \n",
              "  <style>\n",
              "    .colab-df-container {\n",
              "      display:flex;\n",
              "      flex-wrap:wrap;\n",
              "      gap: 12px;\n",
              "    }\n",
              "\n",
              "    .colab-df-convert {\n",
              "      background-color: #E8F0FE;\n",
              "      border: none;\n",
              "      border-radius: 50%;\n",
              "      cursor: pointer;\n",
              "      display: none;\n",
              "      fill: #1967D2;\n",
              "      height: 32px;\n",
              "      padding: 0 0 0 0;\n",
              "      width: 32px;\n",
              "    }\n",
              "\n",
              "    .colab-df-convert:hover {\n",
              "      background-color: #E2EBFA;\n",
              "      box-shadow: 0px 1px 2px rgba(60, 64, 67, 0.3), 0px 1px 3px 1px rgba(60, 64, 67, 0.15);\n",
              "      fill: #174EA6;\n",
              "    }\n",
              "\n",
              "    [theme=dark] .colab-df-convert {\n",
              "      background-color: #3B4455;\n",
              "      fill: #D2E3FC;\n",
              "    }\n",
              "\n",
              "    [theme=dark] .colab-df-convert:hover {\n",
              "      background-color: #434B5C;\n",
              "      box-shadow: 0px 1px 3px 1px rgba(0, 0, 0, 0.15);\n",
              "      filter: drop-shadow(0px 1px 2px rgba(0, 0, 0, 0.3));\n",
              "      fill: #FFFFFF;\n",
              "    }\n",
              "  </style>\n",
              "\n",
              "      <script>\n",
              "        const buttonEl =\n",
              "          document.querySelector('#df-251b6256-ea60-47a1-8c41-8cf1d7054f24 button.colab-df-convert');\n",
              "        buttonEl.style.display =\n",
              "          google.colab.kernel.accessAllowed ? 'block' : 'none';\n",
              "\n",
              "        async function convertToInteractive(key) {\n",
              "          const element = document.querySelector('#df-251b6256-ea60-47a1-8c41-8cf1d7054f24');\n",
              "          const dataTable =\n",
              "            await google.colab.kernel.invokeFunction('convertToInteractive',\n",
              "                                                     [key], {});\n",
              "          if (!dataTable) return;\n",
              "\n",
              "          const docLinkHtml = 'Like what you see? Visit the ' +\n",
              "            '<a target=\"_blank\" href=https://colab.research.google.com/notebooks/data_table.ipynb>data table notebook</a>'\n",
              "            + ' to learn more about interactive tables.';\n",
              "          element.innerHTML = '';\n",
              "          dataTable['output_type'] = 'display_data';\n",
              "          await google.colab.output.renderOutput(dataTable, element);\n",
              "          const docLink = document.createElement('div');\n",
              "          docLink.innerHTML = docLinkHtml;\n",
              "          element.appendChild(docLink);\n",
              "        }\n",
              "      </script>\n",
              "    </div>\n",
              "  </div>\n",
              "  "
            ],
            "text/plain": [
              "                            ID        Age  ...  Total_PACT  PCL_Total\n",
              "Gender FamilyStatus                        ...                       \n",
              "0      1             97.625000  27.287500  ...    9.795414  28.785294\n",
              "       2             66.857143  28.428571  ...   10.032857  23.529412\n",
              "1      1             76.883333  23.000000  ...    8.811344  31.599216\n",
              "       2             77.115385  28.230769  ...    9.334212  25.581900\n",
              "\n",
              "[4 rows x 9 columns]"
            ]
          },
          "metadata": {},
          "execution_count": 21
        }
      ]
    },
    {
      "cell_type": "markdown",
      "metadata": {
        "id": "ELNk_V80_tji"
      },
      "source": [
        "In the absence of a data dictionary, some educated guesses may be necessary to translate our variables into meaningful descriptions. Taking into account that our sample is approximately 80% gender '1', a higher average PCL_Total score (present trauma symptoms), it is supposed that gender 1 is female and gender 0 is male.  It is also supposed that family status 2 is married and 1 is single.\n"
      ]
    },
    {
      "cell_type": "code",
      "metadata": {
        "id": "WV5OxJrXBsQQ"
      },
      "source": [
        "X=df['Education'].values\n",
        "y=df['PCL_Total'].values\n",
        "X_train, X_test, y_train, y_test = train_test_split(X, y, test_size=0.3, random_state=42)"
      ],
      "execution_count": 22,
      "outputs": []
    },
    {
      "cell_type": "code",
      "metadata": {
        "colab": {
          "base_uri": "https://localhost:8080/"
        },
        "id": "c47UryvcEmpl",
        "outputId": "bd5953a1-bd17-4566-a837-f97dd1fa0287"
      },
      "source": [
        "print(X_train,X_test,y_train,y_test)"
      ],
      "execution_count": 23,
      "outputs": [
        {
          "output_type": "stream",
          "name": "stdout",
          "text": [
            "[13 13 17 14 13 17 13 12 13 13 17 15 13 12 17 13 12 17 17 18 12 12 17 17\n",
            " 13 13 18 15 15 16 18 13 12 17 14 13 18 13 13 12 14 12 12 14 14 14 13 13\n",
            " 13 13 20 13 19 15 12 12 13 20 13 16 13 14 16 17 12 15 17 12 16 18 12 12\n",
            " 17 13 14 13] [16 13 17 18 12 12 13 16 12 13 16 15 15 12 17 16 13 16 16 13 15 13 12 16\n",
            " 17 13 13 17 16 13 12 12 17] [27.29411765 54.58823529 33.88235294 21.64705882 32.94117647 62.11764706\n",
            " 37.64705882 17.88235294 43.29411765 32.94117647 48.94117647 16.\n",
            " 31.05882353 43.29411765 29.17647059 32.         49.88235294 30.11764706\n",
            " 17.88235294 18.82352941 21.6        16.         17.88235294 17.6\n",
            " 41.6        28.23529412 55.52941176 17.88235294 23.52941176 16.8\n",
            " 53.64705882 27.29411765 16.         16.         20.         32.8\n",
            " 16.         33.88235294 33.88235294 25.6        40.47058824 19.76470588\n",
            " 16.94117647 31.2        24.8        19.76470588 41.41176471 25.41176471\n",
            " 34.4        24.47058824 21.64705882 16.         32.         16.\n",
            " 42.35294118 39.2        37.64705882 35.76470588 20.         25.41176471\n",
            " 50.82352941 16.         21.64705882 20.70588235 16.         32.8\n",
            " 16.         24.8        26.35294118 23.52941176 37.64705882 28.23529412\n",
            " 25.41176471 18.4        31.05882353 40.8       ] [29.17647059 40.47058824 34.82352941 28.23529412 19.76470588 44.23529412\n",
            " 31.05882353 52.70588235 31.2        21.64705882 18.82352941 18.82352941\n",
            " 46.11764706 34.82352941 29.17647059 27.29411765 34.82352941 30.11764706\n",
            " 17.6        33.88235294 16.94117647 19.76470588 16.         18.82352941\n",
            " 29.17647059 68.70588235 26.35294118 22.58823529 21.64705882 21.64705882\n",
            " 24.         36.8        31.05882353]\n"
          ]
        }
      ]
    },
    {
      "cell_type": "code",
      "metadata": {
        "id": "jX9S-kfZFR7e"
      },
      "source": [
        "rEdModel=linear_model.LinearRegression()\n",
        "X_train=X_train.reshape(-1,1)\n",
        "X_test=X_test.reshape(-1,1)\n",
        "y_train=y_train.reshape(-1,1)\n",
        "results=rEdModel.fit(X_train,y_train)"
      ],
      "execution_count": 24,
      "outputs": []
    },
    {
      "cell_type": "code",
      "metadata": {
        "colab": {
          "base_uri": "https://localhost:8080/"
        },
        "id": "nfIcNwvUFx0h",
        "outputId": "5cdce592-28aa-47ac-c0bd-fddaf0cad7c0"
      },
      "source": [
        "rEdModel.score(X_train,y_train)"
      ],
      "execution_count": 25,
      "outputs": [
        {
          "output_type": "execute_result",
          "data": {
            "text/plain": [
              "0.002237360392617127"
            ]
          },
          "metadata": {},
          "execution_count": 25
        }
      ]
    },
    {
      "cell_type": "code",
      "metadata": {
        "colab": {
          "base_uri": "https://localhost:8080/",
          "height": 264
        },
        "id": "fSDKGoToH6lv",
        "outputId": "0bf77c91-2f6b-4fba-893f-7e9fc56ef9a2"
      },
      "source": [
        "y_predict=rEdModel.predict(X_test)\n",
        "plt.scatter(y_test,y_predict)\n",
        "plt.show()"
      ],
      "execution_count": 26,
      "outputs": [
        {
          "output_type": "display_data",
          "data": {
            "image/png": "[encoded data removed]",
            "text/plain": [
              "<Figure size 432x288 with 1 Axes>"
            ]
          },
          "metadata": {
            "needs_background": "light"
          }
        }
      ]
    },
    {
      "cell_type": "markdown",
      "metadata": {
        "id": "Rm3vVFzlF4-Z"
      },
      "source": [
        "Education, as appeared in the scatterplot against PCL_Total, would seem to add little to any explanatory or predictive model of trauma symptoms score, as can be seen from the low Rsquared value and the random nature of the predicted vs actual PCL_Total trauma scores. It will be dropped from further analysis.\n"
      ]
    },
    {
      "cell_type": "code",
      "metadata": {
        "colab": {
          "base_uri": "https://localhost:8080/"
        },
        "id": "mDJb_S3_GEJX",
        "outputId": "b480478f-3124-481e-cded-5d462d3b950b"
      },
      "source": [
        "X=df['Age'].values\n",
        "y=df['PCL_Total'].values\n",
        "X_train, X_test, y_train, y_test = train_test_split(X, y, test_size=0.3, random_state=42)\n",
        "rAgeModel=linear_model.LinearRegression()\n",
        "X_train=X_train.reshape(-1,1)\n",
        "X_test=X_test.reshape(-1,1)\n",
        "y_train=y_train.reshape(-1,1)\n",
        "rAgeModel.fit(X_train,y_train)\n",
        "rAgeModel.score(X_train,y_train)"
      ],
      "execution_count": 27,
      "outputs": [
        {
          "output_type": "execute_result",
          "data": {
            "text/plain": [
              "0.052637637205067866"
            ]
          },
          "metadata": {},
          "execution_count": 27
        }
      ]
    },
    {
      "cell_type": "code",
      "metadata": {
        "colab": {
          "base_uri": "https://localhost:8080/",
          "height": 264
        },
        "id": "mmQ-HMQKHUOR",
        "outputId": "e430ae88-9a0b-4e2a-8750-707af64a0a8e"
      },
      "source": [
        "y_predict=rAgeModel.predict(X_test)\n",
        "plt.scatter(y_test,y_predict)\n",
        "plt.show()"
      ],
      "execution_count": 28,
      "outputs": [
        {
          "output_type": "display_data",
          "data": {
            "image/png": "[encoded data removed]",
            "text/plain": [
              "<Figure size 432x288 with 1 Axes>"
            ]
          },
          "metadata": {
            "needs_background": "light"
          }
        }
      ]
    },
    {
      "cell_type": "markdown",
      "metadata": {
        "id": "fjYpPCLcGi_D"
      },
      "source": [
        "Age explains about 5% of the varation in PCL_Total scores (present trauma symptoms). It may be factored into a future multivariate regression model but does not appear to be a major driver, and may have covariance with other explanatory variables as well."
      ]
    },
    {
      "cell_type": "markdown",
      "metadata": {
        "id": "6rScG0A-HFiD"
      },
      "source": [
        "The other \"demographic\" variables, gender and family status, are categorical rather than quantitative and lend themselves more logically to an equality of means test rather than a univariate regression model."
      ]
    },
    {
      "cell_type": "code",
      "metadata": {
        "colab": {
          "base_uri": "https://localhost:8080/",
          "height": 143
        },
        "id": "Wf-Ng0hvKMDE",
        "outputId": "dafe19a8-6d48-45de-eea1-f45b3012b892"
      },
      "source": [
        "df.groupby('FamilyStatus').mean()"
      ],
      "execution_count": 29,
      "outputs": [
        {
          "output_type": "execute_result",
          "data": {
            "text/html": [
              "\n",
              "  <div id=\"df-1331b1a6-54ec-4cc0-a3aa-5246907af715\">\n",
              "    <div class=\"colab-df-container\">\n",
              "      <div>\n",
              "<style scoped>\n",
              "    .dataframe tbody tr th:only-of-type {\n",
              "        vertical-align: middle;\n",
              "    }\n",
              "\n",
              "    .dataframe tbody tr th {\n",
              "        vertical-align: top;\n",
              "    }\n",
              "\n",
              "    .dataframe thead th {\n",
              "        text-align: right;\n",
              "    }\n",
              "</style>\n",
              "<table border=\"1\" class=\"dataframe\">\n",
              "  <thead>\n",
              "    <tr style=\"text-align: right;\">\n",
              "      <th></th>\n",
              "      <th>ID</th>\n",
              "      <th>Age</th>\n",
              "      <th>Gender</th>\n",
              "      <th>Education</th>\n",
              "      <th>CFS_Total</th>\n",
              "      <th>TOT_TRAUMA</th>\n",
              "      <th>DTS_TOT</th>\n",
              "      <th>Total_FREE</th>\n",
              "      <th>Total_PACT</th>\n",
              "      <th>PCL_Total</th>\n",
              "    </tr>\n",
              "    <tr>\n",
              "      <th>FamilyStatus</th>\n",
              "      <th></th>\n",
              "      <th></th>\n",
              "      <th></th>\n",
              "      <th></th>\n",
              "      <th></th>\n",
              "      <th></th>\n",
              "      <th></th>\n",
              "      <th></th>\n",
              "      <th></th>\n",
              "      <th></th>\n",
              "    </tr>\n",
              "  </thead>\n",
              "  <tbody>\n",
              "    <tr>\n",
              "      <th>1</th>\n",
              "      <td>81.250000</td>\n",
              "      <td>23.902632</td>\n",
              "      <td>0.789474</td>\n",
              "      <td>13.855263</td>\n",
              "      <td>55.605263</td>\n",
              "      <td>2.473684</td>\n",
              "      <td>46.355263</td>\n",
              "      <td>14.934211</td>\n",
              "      <td>9.018517</td>\n",
              "      <td>31.006811</td>\n",
              "    </tr>\n",
              "    <tr>\n",
              "      <th>2</th>\n",
              "      <td>74.939394</td>\n",
              "      <td>28.272727</td>\n",
              "      <td>0.787879</td>\n",
              "      <td>15.757576</td>\n",
              "      <td>57.878788</td>\n",
              "      <td>2.121212</td>\n",
              "      <td>28.303030</td>\n",
              "      <td>16.045455</td>\n",
              "      <td>9.482409</td>\n",
              "      <td>25.146524</td>\n",
              "    </tr>\n",
              "  </tbody>\n",
              "</table>\n",
              "</div>\n",
              "      <button class=\"colab-df-convert\" onclick=\"convertToInteractive('df-1331b1a6-54ec-4cc0-a3aa-5246907af715')\"\n",
              "              title=\"Convert this dataframe to an interactive table.\"\n",
              "              style=\"display:none;\">\n",
              "        \n",
              "  <svg xmlns=\"http://www.w3.org/2000/svg\" height=\"24px\"viewBox=\"0 0 24 24\"\n",
              "       width=\"24px\">\n",
              "    <path d=\"M0 0h24v24H0V0z\" fill=\"none\"/>\n",
              "    <path d=\"M18.56 5.44l.94 2.06.94-2.06 2.06-.94-2.06-.94-.94-2.06-.94 2.06-2.06.94zm-11 1L8.5 8.5l.94-2.06 2.06-.94-2.06-.94L8.5 2.5l-.94 2.06-2.06.94zm10 10l.94 2.06.94-2.06 2.06-.94-2.06-.94-.94-2.06-.94 2.06-2.06.94z\"/><path d=\"M17.41 7.96l-1.37-1.37c-.4-.4-.92-.59-1.43-.59-.52 0-1.04.2-1.43.59L10.3 9.45l-7.72 7.72c-.78.78-.78 2.05 0 2.83L4 21.41c.39.39.9.59 1.41.59.51 0 1.02-.2 1.41-.59l7.78-7.78 2.81-2.81c.8-.78.8-2.07 0-2.86zM5.41 20L4 18.59l7.72-7.72 1.47 1.35L5.41 20z\"/>\n",
              "  </svg>\n",
              "      </button>\n",
              "      \n",
              "  <style>\n",
              "    .colab-df-container {\n",
              "      display:flex;\n",
              "      flex-wrap:wrap;\n",
              "      gap: 12px;\n",
              "    }\n",
              "\n",
              "    .colab-df-convert {\n",
              "      background-color: #E8F0FE;\n",
              "      border: none;\n",
              "      border-radius: 50%;\n",
              "      cursor: pointer;\n",
              "      display: none;\n",
              "      fill: #1967D2;\n",
              "      height: 32px;\n",
              "      padding: 0 0 0 0;\n",
              "      width: 32px;\n",
              "    }\n",
              "\n",
              "    .colab-df-convert:hover {\n",
              "      background-color: #E2EBFA;\n",
              "      box-shadow: 0px 1px 2px rgba(60, 64, 67, 0.3), 0px 1px 3px 1px rgba(60, 64, 67, 0.15);\n",
              "      fill: #174EA6;\n",
              "    }\n",
              "\n",
              "    [theme=dark] .colab-df-convert {\n",
              "      background-color: #3B4455;\n",
              "      fill: #D2E3FC;\n",
              "    }\n",
              "\n",
              "    [theme=dark] .colab-df-convert:hover {\n",
              "      background-color: #434B5C;\n",
              "      box-shadow: 0px 1px 3px 1px rgba(0, 0, 0, 0.15);\n",
              "      filter: drop-shadow(0px 1px 2px rgba(0, 0, 0, 0.3));\n",
              "      fill: #FFFFFF;\n",
              "    }\n",
              "  </style>\n",
              "\n",
              "      <script>\n",
              "        const buttonEl =\n",
              "          document.querySelector('#df-1331b1a6-54ec-4cc0-a3aa-5246907af715 button.colab-df-convert');\n",
              "        buttonEl.style.display =\n",
              "          google.colab.kernel.accessAllowed ? 'block' : 'none';\n",
              "\n",
              "        async function convertToInteractive(key) {\n",
              "          const element = document.querySelector('#df-1331b1a6-54ec-4cc0-a3aa-5246907af715');\n",
              "          const dataTable =\n",
              "            await google.colab.kernel.invokeFunction('convertToInteractive',\n",
              "                                                     [key], {});\n",
              "          if (!dataTable) return;\n",
              "\n",
              "          const docLinkHtml = 'Like what you see? Visit the ' +\n",
              "            '<a target=\"_blank\" href=https://colab.research.google.com/notebooks/data_table.ipynb>data table notebook</a>'\n",
              "            + ' to learn more about interactive tables.';\n",
              "          element.innerHTML = '';\n",
              "          dataTable['output_type'] = 'display_data';\n",
              "          await google.colab.output.renderOutput(dataTable, element);\n",
              "          const docLink = document.createElement('div');\n",
              "          docLink.innerHTML = docLinkHtml;\n",
              "          element.appendChild(docLink);\n",
              "        }\n",
              "      </script>\n",
              "    </div>\n",
              "  </div>\n",
              "  "
            ],
            "text/plain": [
              "                     ID        Age    Gender  ...  Total_FREE  Total_PACT  PCL_Total\n",
              "FamilyStatus                                  ...                                   \n",
              "1             81.250000  23.902632  0.789474  ...   14.934211    9.018517  31.006811\n",
              "2             74.939394  28.272727  0.787879  ...   16.045455    9.482409  25.146524\n",
              "\n",
              "[2 rows x 10 columns]"
            ]
          },
          "metadata": {},
          "execution_count": 29
        }
      ]
    },
    {
      "cell_type": "markdown",
      "metadata": {
        "id": "tUzdHKpCKZp9"
      },
      "source": [
        "Married subjects have about 6 points lower trauma score, on average, than single subjects."
      ]
    },
    {
      "cell_type": "code",
      "metadata": {
        "colab": {
          "base_uri": "https://localhost:8080/",
          "height": 143
        },
        "id": "7Kun8TX3JFkz",
        "outputId": "7a72c687-1488-4388-b9b8-67259a52a3e6"
      },
      "source": [
        "df.groupby('Gender').mean('PCL_Total')"
      ],
      "execution_count": 30,
      "outputs": [
        {
          "output_type": "execute_result",
          "data": {
            "text/html": [
              "\n",
              "  <div id=\"df-43abdb06-6a13-4638-9f90-b6932dd44959\">\n",
              "    <div class=\"colab-df-container\">\n",
              "      <div>\n",
              "<style scoped>\n",
              "    .dataframe tbody tr th:only-of-type {\n",
              "        vertical-align: middle;\n",
              "    }\n",
              "\n",
              "    .dataframe tbody tr th {\n",
              "        vertical-align: top;\n",
              "    }\n",
              "\n",
              "    .dataframe thead th {\n",
              "        text-align: right;\n",
              "    }\n",
              "</style>\n",
              "<table border=\"1\" class=\"dataframe\">\n",
              "  <thead>\n",
              "    <tr style=\"text-align: right;\">\n",
              "      <th></th>\n",
              "      <th>ID</th>\n",
              "      <th>Age</th>\n",
              "      <th>FamilyStatus</th>\n",
              "      <th>Education</th>\n",
              "      <th>CFS_Total</th>\n",
              "      <th>TOT_TRAUMA</th>\n",
              "      <th>DTS_TOT</th>\n",
              "      <th>Total_FREE</th>\n",
              "      <th>Total_PACT</th>\n",
              "      <th>PCL_Total</th>\n",
              "    </tr>\n",
              "    <tr>\n",
              "      <th>Gender</th>\n",
              "      <th></th>\n",
              "      <th></th>\n",
              "      <th></th>\n",
              "      <th></th>\n",
              "      <th></th>\n",
              "      <th></th>\n",
              "      <th></th>\n",
              "      <th></th>\n",
              "      <th></th>\n",
              "      <th></th>\n",
              "    </tr>\n",
              "  </thead>\n",
              "  <tbody>\n",
              "    <tr>\n",
              "      <th>0</th>\n",
              "      <td>88.260870</td>\n",
              "      <td>27.634783</td>\n",
              "      <td>1.304348</td>\n",
              "      <td>14.478261</td>\n",
              "      <td>59.000000</td>\n",
              "      <td>2.652174</td>\n",
              "      <td>32.869565</td>\n",
              "      <td>15.804348</td>\n",
              "      <td>9.867680</td>\n",
              "      <td>27.185678</td>\n",
              "    </tr>\n",
              "    <tr>\n",
              "      <th>1</th>\n",
              "      <td>76.953488</td>\n",
              "      <td>24.581395</td>\n",
              "      <td>1.302326</td>\n",
              "      <td>14.418605</td>\n",
              "      <td>55.569767</td>\n",
              "      <td>2.290698</td>\n",
              "      <td>43.034884</td>\n",
              "      <td>15.127907</td>\n",
              "      <td>8.969421</td>\n",
              "      <td>29.780027</td>\n",
              "    </tr>\n",
              "  </tbody>\n",
              "</table>\n",
              "</div>\n",
              "      <button class=\"colab-df-convert\" onclick=\"convertToInteractive('df-43abdb06-6a13-4638-9f90-b6932dd44959')\"\n",
              "              title=\"Convert this dataframe to an interactive table.\"\n",
              "              style=\"display:none;\">\n",
              "        \n",
              "  <svg xmlns=\"http://www.w3.org/2000/svg\" height=\"24px\"viewBox=\"0 0 24 24\"\n",
              "       width=\"24px\">\n",
              "    <path d=\"M0 0h24v24H0V0z\" fill=\"none\"/>\n",
              "    <path d=\"M18.56 5.44l.94 2.06.94-2.06 2.06-.94-2.06-.94-.94-2.06-.94 2.06-2.06.94zm-11 1L8.5 8.5l.94-2.06 2.06-.94-2.06-.94L8.5 2.5l-.94 2.06-2.06.94zm10 10l.94 2.06.94-2.06 2.06-.94-2.06-.94-.94-2.06-.94 2.06-2.06.94z\"/><path d=\"M17.41 7.96l-1.37-1.37c-.4-.4-.92-.59-1.43-.59-.52 0-1.04.2-1.43.59L10.3 9.45l-7.72 7.72c-.78.78-.78 2.05 0 2.83L4 21.41c.39.39.9.59 1.41.59.51 0 1.02-.2 1.41-.59l7.78-7.78 2.81-2.81c.8-.78.8-2.07 0-2.86zM5.41 20L4 18.59l7.72-7.72 1.47 1.35L5.41 20z\"/>\n",
              "  </svg>\n",
              "      </button>\n",
              "      \n",
              "  <style>\n",
              "    .colab-df-container {\n",
              "      display:flex;\n",
              "      flex-wrap:wrap;\n",
              "      gap: 12px;\n",
              "    }\n",
              "\n",
              "    .colab-df-convert {\n",
              "      background-color: #E8F0FE;\n",
              "      border: none;\n",
              "      border-radius: 50%;\n",
              "      cursor: pointer;\n",
              "      display: none;\n",
              "      fill: #1967D2;\n",
              "      height: 32px;\n",
              "      padding: 0 0 0 0;\n",
              "      width: 32px;\n",
              "    }\n",
              "\n",
              "    .colab-df-convert:hover {\n",
              "      background-color: #E2EBFA;\n",
              "      box-shadow: 0px 1px 2px rgba(60, 64, 67, 0.3), 0px 1px 3px 1px rgba(60, 64, 67, 0.15);\n",
              "      fill: #174EA6;\n",
              "    }\n",
              "\n",
              "    [theme=dark] .colab-df-convert {\n",
              "      background-color: #3B4455;\n",
              "      fill: #D2E3FC;\n",
              "    }\n",
              "\n",
              "    [theme=dark] .colab-df-convert:hover {\n",
              "      background-color: #434B5C;\n",
              "      box-shadow: 0px 1px 3px 1px rgba(0, 0, 0, 0.15);\n",
              "      filter: drop-shadow(0px 1px 2px rgba(0, 0, 0, 0.3));\n",
              "      fill: #FFFFFF;\n",
              "    }\n",
              "  </style>\n",
              "\n",
              "      <script>\n",
              "        const buttonEl =\n",
              "          document.querySelector('#df-43abdb06-6a13-4638-9f90-b6932dd44959 button.colab-df-convert');\n",
              "        buttonEl.style.display =\n",
              "          google.colab.kernel.accessAllowed ? 'block' : 'none';\n",
              "\n",
              "        async function convertToInteractive(key) {\n",
              "          const element = document.querySelector('#df-43abdb06-6a13-4638-9f90-b6932dd44959');\n",
              "          const dataTable =\n",
              "            await google.colab.kernel.invokeFunction('convertToInteractive',\n",
              "                                                     [key], {});\n",
              "          if (!dataTable) return;\n",
              "\n",
              "          const docLinkHtml = 'Like what you see? Visit the ' +\n",
              "            '<a target=\"_blank\" href=https://colab.research.google.com/notebooks/data_table.ipynb>data table notebook</a>'\n",
              "            + ' to learn more about interactive tables.';\n",
              "          element.innerHTML = '';\n",
              "          dataTable['output_type'] = 'display_data';\n",
              "          await google.colab.output.renderOutput(dataTable, element);\n",
              "          const docLink = document.createElement('div');\n",
              "          docLink.innerHTML = docLinkHtml;\n",
              "          element.appendChild(docLink);\n",
              "        }\n",
              "      </script>\n",
              "    </div>\n",
              "  </div>\n",
              "  "
            ],
            "text/plain": [
              "               ID        Age  FamilyStatus  ...  Total_FREE  Total_PACT  PCL_Total\n",
              "Gender                                      ...                                   \n",
              "0       88.260870  27.634783      1.304348  ...   15.804348    9.867680  27.185678\n",
              "1       76.953488  24.581395      1.302326  ...   15.127907    8.969421  29.780027\n",
              "\n",
              "[2 rows x 10 columns]"
            ]
          },
          "metadata": {},
          "execution_count": 30
        }
      ]
    },
    {
      "cell_type": "markdown",
      "metadata": {
        "id": "1pzgCYwYKg8X"
      },
      "source": [
        "Male subjects have about 2.5 point lower trauma score, on average, than female."
      ]
    },
    {
      "cell_type": "code",
      "metadata": {
        "colab": {
          "base_uri": "https://localhost:8080/"
        },
        "id": "-q6US4NnKwHm",
        "outputId": "e942ed35-b4f9-44d8-dbb1-93f45fa582d0"
      },
      "source": [
        "married=df['PCL_Total'][df['FamilyStatus']==2]\n",
        "single=df['PCL_Total'][df['FamilyStatus']==1]\n",
        "print(married, single)"
      ],
      "execution_count": 31,
      "outputs": [
        {
          "output_type": "stream",
          "name": "stdout",
          "text": [
            "1      25.411765\n",
            "8      17.600000\n",
            "9      31.058824\n",
            "13     55.529412\n",
            "16     48.941176\n",
            "19     18.823529\n",
            "20     23.529412\n",
            "23     20.705882\n",
            "24     23.529412\n",
            "25     17.882353\n",
            "26     18.823529\n",
            "27     17.882353\n",
            "28     21.647059\n",
            "36     19.764706\n",
            "49     28.235294\n",
            "53     37.647059\n",
            "57     24.470588\n",
            "59     16.000000\n",
            "69     33.882353\n",
            "70     27.294118\n",
            "72     30.117647\n",
            "73     30.117647\n",
            "74     16.000000\n",
            "75     21.647059\n",
            "77     17.882353\n",
            "79     18.823529\n",
            "82     26.352941\n",
            "84     28.235294\n",
            "85     16.000000\n",
            "86     24.800000\n",
            "89     24.000000\n",
            "91     16.000000\n",
            "105    31.200000\n",
            "Name: PCL_Total, dtype: float64 0      46.117647\n",
            "2      21.647059\n",
            "3      16.800000\n",
            "4      34.823529\n",
            "5      62.117647\n",
            "         ...    \n",
            "103    16.000000\n",
            "104    20.000000\n",
            "106    39.200000\n",
            "107    17.600000\n",
            "108    32.000000\n",
            "Name: PCL_Total, Length: 76, dtype: float64\n"
          ]
        }
      ]
    },
    {
      "cell_type": "code",
      "metadata": {
        "colab": {
          "base_uri": "https://localhost:8080/"
        },
        "id": "NCucnYlPMoWZ",
        "outputId": "2d87bf75-accd-4854-c564-d4822599ab94"
      },
      "source": [
        "marriednormal=stats.normaltest(married)\n",
        "singlenormal=stats.normaltest(single)\n",
        "print(marriednormal,singlenormal)"
      ],
      "execution_count": 32,
      "outputs": [
        {
          "output_type": "stream",
          "name": "stdout",
          "text": [
            "NormaltestResult(statistic=20.53955773078347, pvalue=3.4665040217596635e-05) NormaltestResult(statistic=8.818813907019809, pvalue=0.012162389053695858)\n"
          ]
        }
      ]
    },
    {
      "cell_type": "code",
      "metadata": {
        "colab": {
          "base_uri": "https://localhost:8080/",
          "height": 264
        },
        "id": "C9P2LgWJNIXZ",
        "outputId": "aa9d5caa-ded3-40fb-a010-124bb679b50c"
      },
      "source": [
        "plt.hist(married)\n",
        "plt.show()"
      ],
      "execution_count": 33,
      "outputs": [
        {
          "output_type": "display_data",
          "data": {
            "image/png": "[encoded data removed]",
            "text/plain": [
              "<Figure size 432x288 with 1 Axes>"
            ]
          },
          "metadata": {
            "needs_background": "light"
          }
        }
      ]
    },
    {
      "cell_type": "code",
      "metadata": {
        "colab": {
          "base_uri": "https://localhost:8080/",
          "height": 264
        },
        "id": "UYdg0GsUNSG-",
        "outputId": "172c2551-f2d1-4df8-ea11-2f341e6435ce"
      },
      "source": [
        "plt.hist(single)\n",
        "plt.show()"
      ],
      "execution_count": 34,
      "outputs": [
        {
          "output_type": "display_data",
          "data": {
            "image/png": "[encoded data removed]",
            "text/plain": [
              "<Figure size 432x288 with 1 Axes>"
            ]
          },
          "metadata": {
            "needs_background": "light"
          }
        }
      ]
    },
    {
      "cell_type": "code",
      "metadata": {
        "colab": {
          "base_uri": "https://localhost:8080/",
          "height": 143
        },
        "id": "g-fkGw3UNd7x",
        "outputId": "dac3b850-2b48-4611-c0d9-e0b9cb425603"
      },
      "source": [
        "#Let's see what a permutation of the trauma scores looks like when we group by marriage status...\n",
        "df['Permutation1']=np.random.permutation(df['PCL_Total'])\n",
        "\n",
        "# Call the describe() method on our permutation grouped by 'platform'. \n",
        "df.groupby('FamilyStatus')['Permutation1'].describe()"
      ],
      "execution_count": 35,
      "outputs": [
        {
          "output_type": "execute_result",
          "data": {
            "text/html": [
              "\n",
              "  <div id=\"df-2ad8a340-6028-4c18-ab83-8e2aa3b3f25c\">\n",
              "    <div class=\"colab-df-container\">\n",
              "      <div>\n",
              "<style scoped>\n",
              "    .dataframe tbody tr th:only-of-type {\n",
              "        vertical-align: middle;\n",
              "    }\n",
              "\n",
              "    .dataframe tbody tr th {\n",
              "        vertical-align: top;\n",
              "    }\n",
              "\n",
              "    .dataframe thead th {\n",
              "        text-align: right;\n",
              "    }\n",
              "</style>\n",
              "<table border=\"1\" class=\"dataframe\">\n",
              "  <thead>\n",
              "    <tr style=\"text-align: right;\">\n",
              "      <th></th>\n",
              "      <th>count</th>\n",
              "      <th>mean</th>\n",
              "      <th>std</th>\n",
              "      <th>min</th>\n",
              "      <th>25%</th>\n",
              "      <th>50%</th>\n",
              "      <th>75%</th>\n",
              "      <th>max</th>\n",
              "    </tr>\n",
              "    <tr>\n",
              "      <th>FamilyStatus</th>\n",
              "      <th></th>\n",
              "      <th></th>\n",
              "      <th></th>\n",
              "      <th></th>\n",
              "      <th></th>\n",
              "      <th></th>\n",
              "      <th></th>\n",
              "      <th></th>\n",
              "    </tr>\n",
              "  </thead>\n",
              "  <tbody>\n",
              "    <tr>\n",
              "      <th>1</th>\n",
              "      <td>76.0</td>\n",
              "      <td>29.183282</td>\n",
              "      <td>10.568387</td>\n",
              "      <td>16.0</td>\n",
              "      <td>19.941176</td>\n",
              "      <td>28.235294</td>\n",
              "      <td>34.011765</td>\n",
              "      <td>62.117647</td>\n",
              "    </tr>\n",
              "    <tr>\n",
              "      <th>2</th>\n",
              "      <td>33.0</td>\n",
              "      <td>29.346168</td>\n",
              "      <td>13.123048</td>\n",
              "      <td>16.0</td>\n",
              "      <td>18.823529</td>\n",
              "      <td>24.470588</td>\n",
              "      <td>34.823529</td>\n",
              "      <td>68.705882</td>\n",
              "    </tr>\n",
              "  </tbody>\n",
              "</table>\n",
              "</div>\n",
              "      <button class=\"colab-df-convert\" onclick=\"convertToInteractive('df-2ad8a340-6028-4c18-ab83-8e2aa3b3f25c')\"\n",
              "              title=\"Convert this dataframe to an interactive table.\"\n",
              "              style=\"display:none;\">\n",
              "        \n",
              "  <svg xmlns=\"http://www.w3.org/2000/svg\" height=\"24px\"viewBox=\"0 0 24 24\"\n",
              "       width=\"24px\">\n",
              "    <path d=\"M0 0h24v24H0V0z\" fill=\"none\"/>\n",
              "    <path d=\"M18.56 5.44l.94 2.06.94-2.06 2.06-.94-2.06-.94-.94-2.06-.94 2.06-2.06.94zm-11 1L8.5 8.5l.94-2.06 2.06-.94-2.06-.94L8.5 2.5l-.94 2.06-2.06.94zm10 10l.94 2.06.94-2.06 2.06-.94-2.06-.94-.94-2.06-.94 2.06-2.06.94z\"/><path d=\"M17.41 7.96l-1.37-1.37c-.4-.4-.92-.59-1.43-.59-.52 0-1.04.2-1.43.59L10.3 9.45l-7.72 7.72c-.78.78-.78 2.05 0 2.83L4 21.41c.39.39.9.59 1.41.59.51 0 1.02-.2 1.41-.59l7.78-7.78 2.81-2.81c.8-.78.8-2.07 0-2.86zM5.41 20L4 18.59l7.72-7.72 1.47 1.35L5.41 20z\"/>\n",
              "  </svg>\n",
              "      </button>\n",
              "      \n",
              "  <style>\n",
              "    .colab-df-container {\n",
              "      display:flex;\n",
              "      flex-wrap:wrap;\n",
              "      gap: 12px;\n",
              "    }\n",
              "\n",
              "    .colab-df-convert {\n",
              "      background-color: #E8F0FE;\n",
              "      border: none;\n",
              "      border-radius: 50%;\n",
              "      cursor: pointer;\n",
              "      display: none;\n",
              "      fill: #1967D2;\n",
              "      height: 32px;\n",
              "      padding: 0 0 0 0;\n",
              "      width: 32px;\n",
              "    }\n",
              "\n",
              "    .colab-df-convert:hover {\n",
              "      background-color: #E2EBFA;\n",
              "      box-shadow: 0px 1px 2px rgba(60, 64, 67, 0.3), 0px 1px 3px 1px rgba(60, 64, 67, 0.15);\n",
              "      fill: #174EA6;\n",
              "    }\n",
              "\n",
              "    [theme=dark] .colab-df-convert {\n",
              "      background-color: #3B4455;\n",
              "      fill: #D2E3FC;\n",
              "    }\n",
              "\n",
              "    [theme=dark] .colab-df-convert:hover {\n",
              "      background-color: #434B5C;\n",
              "      box-shadow: 0px 1px 3px 1px rgba(0, 0, 0, 0.15);\n",
              "      filter: drop-shadow(0px 1px 2px rgba(0, 0, 0, 0.3));\n",
              "      fill: #FFFFFF;\n",
              "    }\n",
              "  </style>\n",
              "\n",
              "      <script>\n",
              "        const buttonEl =\n",
              "          document.querySelector('#df-2ad8a340-6028-4c18-ab83-8e2aa3b3f25c button.colab-df-convert');\n",
              "        buttonEl.style.display =\n",
              "          google.colab.kernel.accessAllowed ? 'block' : 'none';\n",
              "\n",
              "        async function convertToInteractive(key) {\n",
              "          const element = document.querySelector('#df-2ad8a340-6028-4c18-ab83-8e2aa3b3f25c');\n",
              "          const dataTable =\n",
              "            await google.colab.kernel.invokeFunction('convertToInteractive',\n",
              "                                                     [key], {});\n",
              "          if (!dataTable) return;\n",
              "\n",
              "          const docLinkHtml = 'Like what you see? Visit the ' +\n",
              "            '<a target=\"_blank\" href=https://colab.research.google.com/notebooks/data_table.ipynb>data table notebook</a>'\n",
              "            + ' to learn more about interactive tables.';\n",
              "          element.innerHTML = '';\n",
              "          dataTable['output_type'] = 'display_data';\n",
              "          await google.colab.output.renderOutput(dataTable, element);\n",
              "          const docLink = document.createElement('div');\n",
              "          docLink.innerHTML = docLinkHtml;\n",
              "          element.appendChild(docLink);\n",
              "        }\n",
              "      </script>\n",
              "    </div>\n",
              "  </div>\n",
              "  "
            ],
            "text/plain": [
              "              count       mean        std  ...        50%        75%        max\n",
              "FamilyStatus                               ...                                 \n",
              "1              76.0  29.183282  10.568387  ...  28.235294  34.011765  62.117647\n",
              "2              33.0  29.346168  13.123048  ...  24.470588  34.823529  68.705882\n",
              "\n",
              "[2 rows x 8 columns]"
            ]
          },
          "metadata": {},
          "execution_count": 35
        }
      ]
    },
    {
      "cell_type": "markdown",
      "metadata": {
        "id": "1-AXUoPOOIIg"
      },
      "source": [
        "This led to a difference of 1, much smaller than our observed actual difference of 6 points. This suggests pursuing creating many replicate samples, permuting the trauma scores, and observing the group mean differences among all the samples."
      ]
    },
    {
      "cell_type": "code",
      "metadata": {
        "colab": {
          "base_uri": "https://localhost:8080/",
          "height": 297
        },
        "id": "Vg0vGuHQObtb",
        "outputId": "27a3db31-996f-44e1-ef72-dabc15253aef"
      },
      "source": [
        "diff=np.empty(10000)\n",
        "dfperm=df\n",
        "for i in range(10000):\n",
        "    dfperm['PermutedPCL']=np.random.permutation(df['PCL_Total'])\n",
        "    marriedmean=dfperm.loc[dfperm['FamilyStatus']==2,'PermutedPCL'].mean()\n",
        "    singlemean=dfperm.loc[dfperm['FamilyStatus']==1,'PermutedPCL'].mean()\n",
        "    diff[i]=singlemean-marriedmean\n",
        "histo=plt.hist(diff)\n",
        "plt.xlabel('Difference in Married vs Single Trauma Scores over 10,000 Replicated Samples')\n"
      ],
      "execution_count": 36,
      "outputs": [
        {
          "output_type": "execute_result",
          "data": {
            "text/plain": [
              "Text(0.5, 0, 'Difference in Married vs Single Trauma Scores over 10,000 Replicated Samples')"
            ]
          },
          "metadata": {},
          "execution_count": 36
        },
        {
          "output_type": "display_data",
          "data": {
            "image/png": "[encoded data removed]",
            "text/plain": [
              "<Figure size 432x288 with 1 Axes>"
            ]
          },
          "metadata": {
            "needs_background": "light"
          }
        }
      ]
    },
    {
      "cell_type": "code",
      "metadata": {
        "colab": {
          "base_uri": "https://localhost:8080/"
        },
        "id": "cHhSctCZPQyh",
        "outputId": "2a35d452-a93a-4684-f1b3-94f03dfc420d"
      },
      "source": [
        "obs_difference=df.loc[df['FamilyStatus']==1,'PCL_Total'].mean()-df.loc[df['FamilyStatus']==2,'PCL_Total'].mean()\n",
        "\n",
        "# Make this difference absolute with the built-in abs() function. \n",
        "obs_difference=np.abs(obs_difference)\n",
        "\n",
        "# Print out this value\n",
        "print(obs_difference)"
      ],
      "execution_count": 37,
      "outputs": [
        {
          "output_type": "stream",
          "name": "stdout",
          "text": [
            "5.8602870817583685\n"
          ]
        }
      ]
    },
    {
      "cell_type": "code",
      "metadata": {
        "colab": {
          "base_uri": "https://localhost:8080/"
        },
        "id": "li2f3_0xP0MR",
        "outputId": "98f32328-3e84-4896-9cac-a727dd1beed7"
      },
      "source": [
        "p_value=np.sum(np.abs(diff)>=obs_difference)/len(diff)\n",
        "print(p_value)"
      ],
      "execution_count": 38,
      "outputs": [
        {
          "output_type": "stream",
          "name": "stdout",
          "text": [
            "0.0114\n"
          ]
        }
      ]
    },
    {
      "cell_type": "markdown",
      "metadata": {
        "id": "SDkdYpZBP3-d"
      },
      "source": [
        "P-value of .01 indicates that we would only get a group mean difference at least as extreme as the one we did get in only approximately 1% of similar samples. Thus we can be reasonably confident that the lower trauma score among married subjects (versus single counterparts) is statistically significant."
      ]
    },
    {
      "cell_type": "markdown",
      "metadata": {
        "id": "0UDlblBWQTcG"
      },
      "source": [
        "Let's try the same sort of simulation and analysis with respect to gender, to investigate whether our observed difference between males and females was likely to have occurred due to random sampling differences."
      ]
    },
    {
      "cell_type": "code",
      "metadata": {
        "colab": {
          "base_uri": "https://localhost:8080/",
          "height": 297
        },
        "id": "tQBLwbPiQPnX",
        "outputId": "85a7953c-e027-4d9d-dae3-240596becf7f"
      },
      "source": [
        "diff=np.empty(10000)\n",
        "dfperm=df\n",
        "for i in range(10000):\n",
        "    dfperm['PermutedPCL']=np.random.permutation(df['PCL_Total'])\n",
        "    malemean=dfperm.loc[dfperm['Gender']==0,'PermutedPCL'].mean()\n",
        "    femalemean=dfperm.loc[dfperm['Gender']==1,'PermutedPCL'].mean()\n",
        "    diff[i]=malemean-femalemean\n",
        "histo=plt.hist(diff)\n",
        "plt.xlabel('Difference in Male vs Female Trauma Scores over 10,000 Replicated Samples')\n"
      ],
      "execution_count": 39,
      "outputs": [
        {
          "output_type": "execute_result",
          "data": {
            "text/plain": [
              "Text(0.5, 0, 'Difference in Male vs Female Trauma Scores over 10,000 Replicated Samples')"
            ]
          },
          "metadata": {},
          "execution_count": 39
        },
        {
          "output_type": "display_data",
          "data": {
            "image/png": "[encoded data removed]",
            "text/plain": [
              "<Figure size 432x288 with 1 Axes>"
            ]
          },
          "metadata": {
            "needs_background": "light"
          }
        }
      ]
    },
    {
      "cell_type": "code",
      "metadata": {
        "colab": {
          "base_uri": "https://localhost:8080/"
        },
        "id": "GGnVjUucRMVf",
        "outputId": "7ced2bc1-b54f-40b6-f17b-8018cab21a90"
      },
      "source": [
        "obs_difference=df.loc[df['Gender']==1,'PCL_Total'].mean()-df.loc[df['Gender']==0,'PCL_Total'].mean()\n",
        "\n",
        "# Make this difference absolute with the built-in abs() function. \n",
        "obs_difference=np.abs(obs_difference)\n",
        "\n",
        "# Print out this value\n",
        "print(obs_difference)"
      ],
      "execution_count": 40,
      "outputs": [
        {
          "output_type": "stream",
          "name": "stdout",
          "text": [
            "2.594349610955504\n"
          ]
        }
      ]
    },
    {
      "cell_type": "code",
      "metadata": {
        "colab": {
          "base_uri": "https://localhost:8080/"
        },
        "id": "SmJqdydJSJ90",
        "outputId": "9f52d4fa-3de3-496d-caa5-623be99df225"
      },
      "source": [
        "p_value=np.sum(np.abs(diff)>=obs_difference)/len(diff)\n",
        "print(p_value)"
      ],
      "execution_count": 41,
      "outputs": [
        {
          "output_type": "stream",
          "name": "stdout",
          "text": [
            "0.3335\n"
          ]
        }
      ]
    },
    {
      "cell_type": "markdown",
      "metadata": {
        "id": "-_qPAoGKSfgL"
      },
      "source": [
        "The p-value here of .33 indicates that while we did observe a trauma score difference between males and females, the size of the difference could easily occur simply due to random chance among the subjects in the sample."
      ]
    },
    {
      "cell_type": "markdown",
      "metadata": {
        "id": "x-H6pLVBSjXA"
      },
      "source": [
        "Hence Family (Marriage) status could be kept as an explanatory variable but gender can reasonably discarded from the model for the sake of simplicity and elegance."
      ]
    },
    {
      "cell_type": "code",
      "metadata": {
        "colab": {
          "base_uri": "https://localhost:8080/",
          "height": 423
        },
        "id": "24dR5703SyTj",
        "outputId": "01896a7b-b1a9-461a-975b-bec68ddece5a"
      },
      "source": [
        "df\n"
      ],
      "execution_count": 42,
      "outputs": [
        {
          "output_type": "execute_result",
          "data": {
            "text/html": [
              "\n",
              "  <div id=\"df-55a35bb8-c335-4faf-8b3e-6f3f627c1a1b\">\n",
              "    <div class=\"colab-df-container\">\n",
              "      <div>\n",
              "<style scoped>\n",
              "    .dataframe tbody tr th:only-of-type {\n",
              "        vertical-align: middle;\n",
              "    }\n",
              "\n",
              "    .dataframe tbody tr th {\n",
              "        vertical-align: top;\n",
              "    }\n",
              "\n",
              "    .dataframe thead th {\n",
              "        text-align: right;\n",
              "    }\n",
              "</style>\n",
              "<table border=\"1\" class=\"dataframe\">\n",
              "  <thead>\n",
              "    <tr style=\"text-align: right;\">\n",
              "      <th></th>\n",
              "      <th>ID</th>\n",
              "      <th>Age</th>\n",
              "      <th>Gender</th>\n",
              "      <th>FamilyStatus</th>\n",
              "      <th>Education</th>\n",
              "      <th>CFS_Total</th>\n",
              "      <th>TOT_TRAUMA</th>\n",
              "      <th>DTS_TOT</th>\n",
              "      <th>Total_FREE</th>\n",
              "      <th>Total_PACT</th>\n",
              "      <th>PCL_Total</th>\n",
              "      <th>Permutation1</th>\n",
              "      <th>PermutedPCL</th>\n",
              "    </tr>\n",
              "  </thead>\n",
              "  <tbody>\n",
              "    <tr>\n",
              "      <th>0</th>\n",
              "      <td>3</td>\n",
              "      <td>27.0</td>\n",
              "      <td>0</td>\n",
              "      <td>1</td>\n",
              "      <td>15</td>\n",
              "      <td>58</td>\n",
              "      <td>4</td>\n",
              "      <td>39</td>\n",
              "      <td>14.0</td>\n",
              "      <td>10.250000</td>\n",
              "      <td>46.117647</td>\n",
              "      <td>50.823529</td>\n",
              "      <td>21.647059</td>\n",
              "    </tr>\n",
              "    <tr>\n",
              "      <th>1</th>\n",
              "      <td>4</td>\n",
              "      <td>38.0</td>\n",
              "      <td>1</td>\n",
              "      <td>2</td>\n",
              "      <td>16</td>\n",
              "      <td>58</td>\n",
              "      <td>2</td>\n",
              "      <td>40</td>\n",
              "      <td>20.5</td>\n",
              "      <td>10.250000</td>\n",
              "      <td>25.411765</td>\n",
              "      <td>32.941176</td>\n",
              "      <td>20.000000</td>\n",
              "    </tr>\n",
              "    <tr>\n",
              "      <th>2</th>\n",
              "      <td>6</td>\n",
              "      <td>29.0</td>\n",
              "      <td>1</td>\n",
              "      <td>1</td>\n",
              "      <td>16</td>\n",
              "      <td>51</td>\n",
              "      <td>4</td>\n",
              "      <td>33</td>\n",
              "      <td>14.0</td>\n",
              "      <td>8.330000</td>\n",
              "      <td>21.647059</td>\n",
              "      <td>33.882353</td>\n",
              "      <td>37.647059</td>\n",
              "    </tr>\n",
              "    <tr>\n",
              "      <th>3</th>\n",
              "      <td>7</td>\n",
              "      <td>24.0</td>\n",
              "      <td>1</td>\n",
              "      <td>1</td>\n",
              "      <td>16</td>\n",
              "      <td>58</td>\n",
              "      <td>1</td>\n",
              "      <td>0</td>\n",
              "      <td>14.5</td>\n",
              "      <td>8.330000</td>\n",
              "      <td>16.800000</td>\n",
              "      <td>46.117647</td>\n",
              "      <td>31.200000</td>\n",
              "    </tr>\n",
              "    <tr>\n",
              "      <th>4</th>\n",
              "      <td>8</td>\n",
              "      <td>25.0</td>\n",
              "      <td>1</td>\n",
              "      <td>1</td>\n",
              "      <td>17</td>\n",
              "      <td>58</td>\n",
              "      <td>1</td>\n",
              "      <td>56</td>\n",
              "      <td>13.5</td>\n",
              "      <td>6.000000</td>\n",
              "      <td>34.823529</td>\n",
              "      <td>30.117647</td>\n",
              "      <td>24.470588</td>\n",
              "    </tr>\n",
              "    <tr>\n",
              "      <th>...</th>\n",
              "      <td>...</td>\n",
              "      <td>...</td>\n",
              "      <td>...</td>\n",
              "      <td>...</td>\n",
              "      <td>...</td>\n",
              "      <td>...</td>\n",
              "      <td>...</td>\n",
              "      <td>...</td>\n",
              "      <td>...</td>\n",
              "      <td>...</td>\n",
              "      <td>...</td>\n",
              "      <td>...</td>\n",
              "      <td>...</td>\n",
              "    </tr>\n",
              "    <tr>\n",
              "      <th>104</th>\n",
              "      <td>156</td>\n",
              "      <td>25.0</td>\n",
              "      <td>0</td>\n",
              "      <td>1</td>\n",
              "      <td>14</td>\n",
              "      <td>56</td>\n",
              "      <td>5</td>\n",
              "      <td>30</td>\n",
              "      <td>15.0</td>\n",
              "      <td>9.750000</td>\n",
              "      <td>20.000000</td>\n",
              "      <td>16.000000</td>\n",
              "      <td>17.882353</td>\n",
              "    </tr>\n",
              "    <tr>\n",
              "      <th>105</th>\n",
              "      <td>157</td>\n",
              "      <td>23.0</td>\n",
              "      <td>1</td>\n",
              "      <td>2</td>\n",
              "      <td>14</td>\n",
              "      <td>37</td>\n",
              "      <td>2</td>\n",
              "      <td>76</td>\n",
              "      <td>18.0</td>\n",
              "      <td>6.000000</td>\n",
              "      <td>31.200000</td>\n",
              "      <td>16.000000</td>\n",
              "      <td>40.800000</td>\n",
              "    </tr>\n",
              "    <tr>\n",
              "      <th>106</th>\n",
              "      <td>160</td>\n",
              "      <td>21.0</td>\n",
              "      <td>1</td>\n",
              "      <td>1</td>\n",
              "      <td>12</td>\n",
              "      <td>62</td>\n",
              "      <td>2</td>\n",
              "      <td>61</td>\n",
              "      <td>16.5</td>\n",
              "      <td>10.000000</td>\n",
              "      <td>39.200000</td>\n",
              "      <td>21.647059</td>\n",
              "      <td>17.882353</td>\n",
              "    </tr>\n",
              "    <tr>\n",
              "      <th>107</th>\n",
              "      <td>161</td>\n",
              "      <td>29.0</td>\n",
              "      <td>0</td>\n",
              "      <td>1</td>\n",
              "      <td>16</td>\n",
              "      <td>61</td>\n",
              "      <td>1</td>\n",
              "      <td>11</td>\n",
              "      <td>14.0</td>\n",
              "      <td>8.833333</td>\n",
              "      <td>17.600000</td>\n",
              "      <td>24.800000</td>\n",
              "      <td>29.176471</td>\n",
              "    </tr>\n",
              "    <tr>\n",
              "      <th>108</th>\n",
              "      <td>163</td>\n",
              "      <td>26.0</td>\n",
              "      <td>1</td>\n",
              "      <td>1</td>\n",
              "      <td>19</td>\n",
              "      <td>46</td>\n",
              "      <td>2</td>\n",
              "      <td>22</td>\n",
              "      <td>17.5</td>\n",
              "      <td>9.833333</td>\n",
              "      <td>32.000000</td>\n",
              "      <td>31.200000</td>\n",
              "      <td>27.294118</td>\n",
              "    </tr>\n",
              "  </tbody>\n",
              "</table>\n",
              "<p>109 rows × 13 columns</p>\n",
              "</div>\n",
              "      <button class=\"colab-df-convert\" onclick=\"convertToInteractive('df-55a35bb8-c335-4faf-8b3e-6f3f627c1a1b')\"\n",
              "              title=\"Convert this dataframe to an interactive table.\"\n",
              "              style=\"display:none;\">\n",
              "        \n",
              "  <svg xmlns=\"http://www.w3.org/2000/svg\" height=\"24px\"viewBox=\"0 0 24 24\"\n",
              "       width=\"24px\">\n",
              "    <path d=\"M0 0h24v24H0V0z\" fill=\"none\"/>\n",
              "    <path d=\"M18.56 5.44l.94 2.06.94-2.06 2.06-.94-2.06-.94-.94-2.06-.94 2.06-2.06.94zm-11 1L8.5 8.5l.94-2.06 2.06-.94-2.06-.94L8.5 2.5l-.94 2.06-2.06.94zm10 10l.94 2.06.94-2.06 2.06-.94-2.06-.94-.94-2.06-.94 2.06-2.06.94z\"/><path d=\"M17.41 7.96l-1.37-1.37c-.4-.4-.92-.59-1.43-.59-.52 0-1.04.2-1.43.59L10.3 9.45l-7.72 7.72c-.78.78-.78 2.05 0 2.83L4 21.41c.39.39.9.59 1.41.59.51 0 1.02-.2 1.41-.59l7.78-7.78 2.81-2.81c.8-.78.8-2.07 0-2.86zM5.41 20L4 18.59l7.72-7.72 1.47 1.35L5.41 20z\"/>\n",
              "  </svg>\n",
              "      </button>\n",
              "      \n",
              "  <style>\n",
              "    .colab-df-container {\n",
              "      display:flex;\n",
              "      flex-wrap:wrap;\n",
              "      gap: 12px;\n",
              "    }\n",
              "\n",
              "    .colab-df-convert {\n",
              "      background-color: #E8F0FE;\n",
              "      border: none;\n",
              "      border-radius: 50%;\n",
              "      cursor: pointer;\n",
              "      display: none;\n",
              "      fill: #1967D2;\n",
              "      height: 32px;\n",
              "      padding: 0 0 0 0;\n",
              "      width: 32px;\n",
              "    }\n",
              "\n",
              "    .colab-df-convert:hover {\n",
              "      background-color: #E2EBFA;\n",
              "      box-shadow: 0px 1px 2px rgba(60, 64, 67, 0.3), 0px 1px 3px 1px rgba(60, 64, 67, 0.15);\n",
              "      fill: #174EA6;\n",
              "    }\n",
              "\n",
              "    [theme=dark] .colab-df-convert {\n",
              "      background-color: #3B4455;\n",
              "      fill: #D2E3FC;\n",
              "    }\n",
              "\n",
              "    [theme=dark] .colab-df-convert:hover {\n",
              "      background-color: #434B5C;\n",
              "      box-shadow: 0px 1px 3px 1px rgba(0, 0, 0, 0.15);\n",
              "      filter: drop-shadow(0px 1px 2px rgba(0, 0, 0, 0.3));\n",
              "      fill: #FFFFFF;\n",
              "    }\n",
              "  </style>\n",
              "\n",
              "      <script>\n",
              "        const buttonEl =\n",
              "          document.querySelector('#df-55a35bb8-c335-4faf-8b3e-6f3f627c1a1b button.colab-df-convert');\n",
              "        buttonEl.style.display =\n",
              "          google.colab.kernel.accessAllowed ? 'block' : 'none';\n",
              "\n",
              "        async function convertToInteractive(key) {\n",
              "          const element = document.querySelector('#df-55a35bb8-c335-4faf-8b3e-6f3f627c1a1b');\n",
              "          const dataTable =\n",
              "            await google.colab.kernel.invokeFunction('convertToInteractive',\n",
              "                                                     [key], {});\n",
              "          if (!dataTable) return;\n",
              "\n",
              "          const docLinkHtml = 'Like what you see? Visit the ' +\n",
              "            '<a target=\"_blank\" href=https://colab.research.google.com/notebooks/data_table.ipynb>data table notebook</a>'\n",
              "            + ' to learn more about interactive tables.';\n",
              "          element.innerHTML = '';\n",
              "          dataTable['output_type'] = 'display_data';\n",
              "          await google.colab.output.renderOutput(dataTable, element);\n",
              "          const docLink = document.createElement('div');\n",
              "          docLink.innerHTML = docLinkHtml;\n",
              "          element.appendChild(docLink);\n",
              "        }\n",
              "      </script>\n",
              "    </div>\n",
              "  </div>\n",
              "  "
            ],
            "text/plain": [
              "      ID   Age  Gender  ...  PCL_Total  Permutation1  PermutedPCL\n",
              "0      3  27.0       0  ...  46.117647     50.823529    21.647059\n",
              "1      4  38.0       1  ...  25.411765     32.941176    20.000000\n",
              "2      6  29.0       1  ...  21.647059     33.882353    37.647059\n",
              "3      7  24.0       1  ...  16.800000     46.117647    31.200000\n",
              "4      8  25.0       1  ...  34.823529     30.117647    24.470588\n",
              "..   ...   ...     ...  ...        ...           ...          ...\n",
              "104  156  25.0       0  ...  20.000000     16.000000    17.882353\n",
              "105  157  23.0       1  ...  31.200000     16.000000    40.800000\n",
              "106  160  21.0       1  ...  39.200000     21.647059    17.882353\n",
              "107  161  29.0       0  ...  17.600000     24.800000    29.176471\n",
              "108  163  26.0       1  ...  32.000000     31.200000    27.294118\n",
              "\n",
              "[109 rows x 13 columns]"
            ]
          },
          "metadata": {},
          "execution_count": 42
        }
      ]
    },
    {
      "cell_type": "code",
      "metadata": {
        "id": "p4thkE1ISgje"
      },
      "source": [
        "df=df.rename(columns={'FamilyStatus':'Married','CFS_Total':'Cog_Flex','Total_FREE':'Flex_Emot_Express','Total_PACT':'Flex_Coping','PCL_Total':'PTSD_Symptoms'})\n"
      ],
      "execution_count": 43,
      "outputs": []
    },
    {
      "cell_type": "code",
      "metadata": {
        "id": "s_xkBHJMafgk"
      },
      "source": [
        "dfmodel=df.drop(['ID','Gender','Education','TOT_TRAUMA','DTS_TOT','Permutation1','PermutedPCL'],axis=1)\n"
      ],
      "execution_count": 44,
      "outputs": []
    },
    {
      "cell_type": "code",
      "metadata": {
        "colab": {
          "base_uri": "https://localhost:8080/",
          "height": 423
        },
        "id": "ZkQpSULpcClj",
        "outputId": "59921633-d1b7-484f-d501-30592d866676"
      },
      "source": [
        "dfmodel"
      ],
      "execution_count": 45,
      "outputs": [
        {
          "output_type": "execute_result",
          "data": {
            "text/html": [
              "\n",
              "  <div id=\"df-23dbcdc3-55d2-4451-b3b4-a85d5cc783b4\">\n",
              "    <div class=\"colab-df-container\">\n",
              "      <div>\n",
              "<style scoped>\n",
              "    .dataframe tbody tr th:only-of-type {\n",
              "        vertical-align: middle;\n",
              "    }\n",
              "\n",
              "    .dataframe tbody tr th {\n",
              "        vertical-align: top;\n",
              "    }\n",
              "\n",
              "    .dataframe thead th {\n",
              "        text-align: right;\n",
              "    }\n",
              "</style>\n",
              "<table border=\"1\" class=\"dataframe\">\n",
              "  <thead>\n",
              "    <tr style=\"text-align: right;\">\n",
              "      <th></th>\n",
              "      <th>Age</th>\n",
              "      <th>Married</th>\n",
              "      <th>Cog_Flex</th>\n",
              "      <th>Flex_Emot_Express</th>\n",
              "      <th>Flex_Coping</th>\n",
              "      <th>PTSD_Symptoms</th>\n",
              "    </tr>\n",
              "  </thead>\n",
              "  <tbody>\n",
              "    <tr>\n",
              "      <th>0</th>\n",
              "      <td>27.0</td>\n",
              "      <td>1</td>\n",
              "      <td>58</td>\n",
              "      <td>14.0</td>\n",
              "      <td>10.250000</td>\n",
              "      <td>46.117647</td>\n",
              "    </tr>\n",
              "    <tr>\n",
              "      <th>1</th>\n",
              "      <td>38.0</td>\n",
              "      <td>2</td>\n",
              "      <td>58</td>\n",
              "      <td>20.5</td>\n",
              "      <td>10.250000</td>\n",
              "      <td>25.411765</td>\n",
              "    </tr>\n",
              "    <tr>\n",
              "      <th>2</th>\n",
              "      <td>29.0</td>\n",
              "      <td>1</td>\n",
              "      <td>51</td>\n",
              "      <td>14.0</td>\n",
              "      <td>8.330000</td>\n",
              "      <td>21.647059</td>\n",
              "    </tr>\n",
              "    <tr>\n",
              "      <th>3</th>\n",
              "      <td>24.0</td>\n",
              "      <td>1</td>\n",
              "      <td>58</td>\n",
              "      <td>14.5</td>\n",
              "      <td>8.330000</td>\n",
              "      <td>16.800000</td>\n",
              "    </tr>\n",
              "    <tr>\n",
              "      <th>4</th>\n",
              "      <td>25.0</td>\n",
              "      <td>1</td>\n",
              "      <td>58</td>\n",
              "      <td>13.5</td>\n",
              "      <td>6.000000</td>\n",
              "      <td>34.823529</td>\n",
              "    </tr>\n",
              "    <tr>\n",
              "      <th>...</th>\n",
              "      <td>...</td>\n",
              "      <td>...</td>\n",
              "      <td>...</td>\n",
              "      <td>...</td>\n",
              "      <td>...</td>\n",
              "      <td>...</td>\n",
              "    </tr>\n",
              "    <tr>\n",
              "      <th>104</th>\n",
              "      <td>25.0</td>\n",
              "      <td>1</td>\n",
              "      <td>56</td>\n",
              "      <td>15.0</td>\n",
              "      <td>9.750000</td>\n",
              "      <td>20.000000</td>\n",
              "    </tr>\n",
              "    <tr>\n",
              "      <th>105</th>\n",
              "      <td>23.0</td>\n",
              "      <td>2</td>\n",
              "      <td>37</td>\n",
              "      <td>18.0</td>\n",
              "      <td>6.000000</td>\n",
              "      <td>31.200000</td>\n",
              "    </tr>\n",
              "    <tr>\n",
              "      <th>106</th>\n",
              "      <td>21.0</td>\n",
              "      <td>1</td>\n",
              "      <td>62</td>\n",
              "      <td>16.5</td>\n",
              "      <td>10.000000</td>\n",
              "      <td>39.200000</td>\n",
              "    </tr>\n",
              "    <tr>\n",
              "      <th>107</th>\n",
              "      <td>29.0</td>\n",
              "      <td>1</td>\n",
              "      <td>61</td>\n",
              "      <td>14.0</td>\n",
              "      <td>8.833333</td>\n",
              "      <td>17.600000</td>\n",
              "    </tr>\n",
              "    <tr>\n",
              "      <th>108</th>\n",
              "      <td>26.0</td>\n",
              "      <td>1</td>\n",
              "      <td>46</td>\n",
              "      <td>17.5</td>\n",
              "      <td>9.833333</td>\n",
              "      <td>32.000000</td>\n",
              "    </tr>\n",
              "  </tbody>\n",
              "</table>\n",
              "<p>109 rows × 6 columns</p>\n",
              "</div>\n",
              "      <button class=\"colab-df-convert\" onclick=\"convertToInteractive('df-23dbcdc3-55d2-4451-b3b4-a85d5cc783b4')\"\n",
              "              title=\"Convert this dataframe to an interactive table.\"\n",
              "              style=\"display:none;\">\n",
              "        \n",
              "  <svg xmlns=\"http://www.w3.org/2000/svg\" height=\"24px\"viewBox=\"0 0 24 24\"\n",
              "       width=\"24px\">\n",
              "    <path d=\"M0 0h24v24H0V0z\" fill=\"none\"/>\n",
              "    <path d=\"M18.56 5.44l.94 2.06.94-2.06 2.06-.94-2.06-.94-.94-2.06-.94 2.06-2.06.94zm-11 1L8.5 8.5l.94-2.06 2.06-.94-2.06-.94L8.5 2.5l-.94 2.06-2.06.94zm10 10l.94 2.06.94-2.06 2.06-.94-2.06-.94-.94-2.06-.94 2.06-2.06.94z\"/><path d=\"M17.41 7.96l-1.37-1.37c-.4-.4-.92-.59-1.43-.59-.52 0-1.04.2-1.43.59L10.3 9.45l-7.72 7.72c-.78.78-.78 2.05 0 2.83L4 21.41c.39.39.9.59 1.41.59.51 0 1.02-.2 1.41-.59l7.78-7.78 2.81-2.81c.8-.78.8-2.07 0-2.86zM5.41 20L4 18.59l7.72-7.72 1.47 1.35L5.41 20z\"/>\n",
              "  </svg>\n",
              "      </button>\n",
              "      \n",
              "  <style>\n",
              "    .colab-df-container {\n",
              "      display:flex;\n",
              "      flex-wrap:wrap;\n",
              "      gap: 12px;\n",
              "    }\n",
              "\n",
              "    .colab-df-convert {\n",
              "      background-color: #E8F0FE;\n",
              "      border: none;\n",
              "      border-radius: 50%;\n",
              "      cursor: pointer;\n",
              "      display: none;\n",
              "      fill: #1967D2;\n",
              "      height: 32px;\n",
              "      padding: 0 0 0 0;\n",
              "      width: 32px;\n",
              "    }\n",
              "\n",
              "    .colab-df-convert:hover {\n",
              "      background-color: #E2EBFA;\n",
              "      box-shadow: 0px 1px 2px rgba(60, 64, 67, 0.3), 0px 1px 3px 1px rgba(60, 64, 67, 0.15);\n",
              "      fill: #174EA6;\n",
              "    }\n",
              "\n",
              "    [theme=dark] .colab-df-convert {\n",
              "      background-color: #3B4455;\n",
              "      fill: #D2E3FC;\n",
              "    }\n",
              "\n",
              "    [theme=dark] .colab-df-convert:hover {\n",
              "      background-color: #434B5C;\n",
              "      box-shadow: 0px 1px 3px 1px rgba(0, 0, 0, 0.15);\n",
              "      filter: drop-shadow(0px 1px 2px rgba(0, 0, 0, 0.3));\n",
              "      fill: #FFFFFF;\n",
              "    }\n",
              "  </style>\n",
              "\n",
              "      <script>\n",
              "        const buttonEl =\n",
              "          document.querySelector('#df-23dbcdc3-55d2-4451-b3b4-a85d5cc783b4 button.colab-df-convert');\n",
              "        buttonEl.style.display =\n",
              "          google.colab.kernel.accessAllowed ? 'block' : 'none';\n",
              "\n",
              "        async function convertToInteractive(key) {\n",
              "          const element = document.querySelector('#df-23dbcdc3-55d2-4451-b3b4-a85d5cc783b4');\n",
              "          const dataTable =\n",
              "            await google.colab.kernel.invokeFunction('convertToInteractive',\n",
              "                                                     [key], {});\n",
              "          if (!dataTable) return;\n",
              "\n",
              "          const docLinkHtml = 'Like what you see? Visit the ' +\n",
              "            '<a target=\"_blank\" href=https://colab.research.google.com/notebooks/data_table.ipynb>data table notebook</a>'\n",
              "            + ' to learn more about interactive tables.';\n",
              "          element.innerHTML = '';\n",
              "          dataTable['output_type'] = 'display_data';\n",
              "          await google.colab.output.renderOutput(dataTable, element);\n",
              "          const docLink = document.createElement('div');\n",
              "          docLink.innerHTML = docLinkHtml;\n",
              "          element.appendChild(docLink);\n",
              "        }\n",
              "      </script>\n",
              "    </div>\n",
              "  </div>\n",
              "  "
            ],
            "text/plain": [
              "      Age  Married  Cog_Flex  Flex_Emot_Express  Flex_Coping  PTSD_Symptoms\n",
              "0    27.0        1        58               14.0    10.250000      46.117647\n",
              "1    38.0        2        58               20.5    10.250000      25.411765\n",
              "2    29.0        1        51               14.0     8.330000      21.647059\n",
              "3    24.0        1        58               14.5     8.330000      16.800000\n",
              "4    25.0        1        58               13.5     6.000000      34.823529\n",
              "..    ...      ...       ...                ...          ...            ...\n",
              "104  25.0        1        56               15.0     9.750000      20.000000\n",
              "105  23.0        2        37               18.0     6.000000      31.200000\n",
              "106  21.0        1        62               16.5    10.000000      39.200000\n",
              "107  29.0        1        61               14.0     8.833333      17.600000\n",
              "108  26.0        1        46               17.5     9.833333      32.000000\n",
              "\n",
              "[109 rows x 6 columns]"
            ]
          },
          "metadata": {},
          "execution_count": 45
        }
      ]
    },
    {
      "cell_type": "code",
      "metadata": {
        "id": "toVKuU9PckJm",
        "colab": {
          "base_uri": "https://localhost:8080/",
          "height": 423
        },
        "outputId": "d5a16a6a-f605-4022-ef73-1b4f700ca936"
      },
      "source": [
        "dfmodel.loc[dfmodel['Married']==1,'Married']=0\n",
        "dfmodel.loc[dfmodel['Married']==2,'Married']=1\n",
        "dfmodel"
      ],
      "execution_count": 48,
      "outputs": [
        {
          "output_type": "execute_result",
          "data": {
            "text/html": [
              "\n",
              "  <div id=\"df-39e9b8b7-c52f-4264-a01b-4d40ffd89f76\">\n",
              "    <div class=\"colab-df-container\">\n",
              "      <div>\n",
              "<style scoped>\n",
              "    .dataframe tbody tr th:only-of-type {\n",
              "        vertical-align: middle;\n",
              "    }\n",
              "\n",
              "    .dataframe tbody tr th {\n",
              "        vertical-align: top;\n",
              "    }\n",
              "\n",
              "    .dataframe thead th {\n",
              "        text-align: right;\n",
              "    }\n",
              "</style>\n",
              "<table border=\"1\" class=\"dataframe\">\n",
              "  <thead>\n",
              "    <tr style=\"text-align: right;\">\n",
              "      <th></th>\n",
              "      <th>Age</th>\n",
              "      <th>Married</th>\n",
              "      <th>Cog_Flex</th>\n",
              "      <th>Flex_Emot_Express</th>\n",
              "      <th>Flex_Coping</th>\n",
              "      <th>PTSD_Symptoms</th>\n",
              "    </tr>\n",
              "  </thead>\n",
              "  <tbody>\n",
              "    <tr>\n",
              "      <th>0</th>\n",
              "      <td>27.0</td>\n",
              "      <td>0</td>\n",
              "      <td>58</td>\n",
              "      <td>14.0</td>\n",
              "      <td>10.250000</td>\n",
              "      <td>46.117647</td>\n",
              "    </tr>\n",
              "    <tr>\n",
              "      <th>1</th>\n",
              "      <td>38.0</td>\n",
              "      <td>1</td>\n",
              "      <td>58</td>\n",
              "      <td>20.5</td>\n",
              "      <td>10.250000</td>\n",
              "      <td>25.411765</td>\n",
              "    </tr>\n",
              "    <tr>\n",
              "      <th>2</th>\n",
              "      <td>29.0</td>\n",
              "      <td>0</td>\n",
              "      <td>51</td>\n",
              "      <td>14.0</td>\n",
              "      <td>8.330000</td>\n",
              "      <td>21.647059</td>\n",
              "    </tr>\n",
              "    <tr>\n",
              "      <th>3</th>\n",
              "      <td>24.0</td>\n",
              "      <td>0</td>\n",
              "      <td>58</td>\n",
              "      <td>14.5</td>\n",
              "      <td>8.330000</td>\n",
              "      <td>16.800000</td>\n",
              "    </tr>\n",
              "    <tr>\n",
              "      <th>4</th>\n",
              "      <td>25.0</td>\n",
              "      <td>0</td>\n",
              "      <td>58</td>\n",
              "      <td>13.5</td>\n",
              "      <td>6.000000</td>\n",
              "      <td>34.823529</td>\n",
              "    </tr>\n",
              "    <tr>\n",
              "      <th>...</th>\n",
              "      <td>...</td>\n",
              "      <td>...</td>\n",
              "      <td>...</td>\n",
              "      <td>...</td>\n",
              "      <td>...</td>\n",
              "      <td>...</td>\n",
              "    </tr>\n",
              "    <tr>\n",
              "      <th>104</th>\n",
              "      <td>25.0</td>\n",
              "      <td>0</td>\n",
              "      <td>56</td>\n",
              "      <td>15.0</td>\n",
              "      <td>9.750000</td>\n",
              "      <td>20.000000</td>\n",
              "    </tr>\n",
              "    <tr>\n",
              "      <th>105</th>\n",
              "      <td>23.0</td>\n",
              "      <td>1</td>\n",
              "      <td>37</td>\n",
              "      <td>18.0</td>\n",
              "      <td>6.000000</td>\n",
              "      <td>31.200000</td>\n",
              "    </tr>\n",
              "    <tr>\n",
              "      <th>106</th>\n",
              "      <td>21.0</td>\n",
              "      <td>0</td>\n",
              "      <td>62</td>\n",
              "      <td>16.5</td>\n",
              "      <td>10.000000</td>\n",
              "      <td>39.200000</td>\n",
              "    </tr>\n",
              "    <tr>\n",
              "      <th>107</th>\n",
              "      <td>29.0</td>\n",
              "      <td>0</td>\n",
              "      <td>61</td>\n",
              "      <td>14.0</td>\n",
              "      <td>8.833333</td>\n",
              "      <td>17.600000</td>\n",
              "    </tr>\n",
              "    <tr>\n",
              "      <th>108</th>\n",
              "      <td>26.0</td>\n",
              "      <td>0</td>\n",
              "      <td>46</td>\n",
              "      <td>17.5</td>\n",
              "      <td>9.833333</td>\n",
              "      <td>32.000000</td>\n",
              "    </tr>\n",
              "  </tbody>\n",
              "</table>\n",
              "<p>109 rows × 6 columns</p>\n",
              "</div>\n",
              "      <button class=\"colab-df-convert\" onclick=\"convertToInteractive('df-39e9b8b7-c52f-4264-a01b-4d40ffd89f76')\"\n",
              "              title=\"Convert this dataframe to an interactive table.\"\n",
              "              style=\"display:none;\">\n",
              "        \n",
              "  <svg xmlns=\"http://www.w3.org/2000/svg\" height=\"24px\"viewBox=\"0 0 24 24\"\n",
              "       width=\"24px\">\n",
              "    <path d=\"M0 0h24v24H0V0z\" fill=\"none\"/>\n",
              "    <path d=\"M18.56 5.44l.94 2.06.94-2.06 2.06-.94-2.06-.94-.94-2.06-.94 2.06-2.06.94zm-11 1L8.5 8.5l.94-2.06 2.06-.94-2.06-.94L8.5 2.5l-.94 2.06-2.06.94zm10 10l.94 2.06.94-2.06 2.06-.94-2.06-.94-.94-2.06-.94 2.06-2.06.94z\"/><path d=\"M17.41 7.96l-1.37-1.37c-.4-.4-.92-.59-1.43-.59-.52 0-1.04.2-1.43.59L10.3 9.45l-7.72 7.72c-.78.78-.78 2.05 0 2.83L4 21.41c.39.39.9.59 1.41.59.51 0 1.02-.2 1.41-.59l7.78-7.78 2.81-2.81c.8-.78.8-2.07 0-2.86zM5.41 20L4 18.59l7.72-7.72 1.47 1.35L5.41 20z\"/>\n",
              "  </svg>\n",
              "      </button>\n",
              "      \n",
              "  <style>\n",
              "    .colab-df-container {\n",
              "      display:flex;\n",
              "      flex-wrap:wrap;\n",
              "      gap: 12px;\n",
              "    }\n",
              "\n",
              "    .colab-df-convert {\n",
              "      background-color: #E8F0FE;\n",
              "      border: none;\n",
              "      border-radius: 50%;\n",
              "      cursor: pointer;\n",
              "      display: none;\n",
              "      fill: #1967D2;\n",
              "      height: 32px;\n",
              "      padding: 0 0 0 0;\n",
              "      width: 32px;\n",
              "    }\n",
              "\n",
              "    .colab-df-convert:hover {\n",
              "      background-color: #E2EBFA;\n",
              "      box-shadow: 0px 1px 2px rgba(60, 64, 67, 0.3), 0px 1px 3px 1px rgba(60, 64, 67, 0.15);\n",
              "      fill: #174EA6;\n",
              "    }\n",
              "\n",
              "    [theme=dark] .colab-df-convert {\n",
              "      background-color: #3B4455;\n",
              "      fill: #D2E3FC;\n",
              "    }\n",
              "\n",
              "    [theme=dark] .colab-df-convert:hover {\n",
              "      background-color: #434B5C;\n",
              "      box-shadow: 0px 1px 3px 1px rgba(0, 0, 0, 0.15);\n",
              "      filter: drop-shadow(0px 1px 2px rgba(0, 0, 0, 0.3));\n",
              "      fill: #FFFFFF;\n",
              "    }\n",
              "  </style>\n",
              "\n",
              "      <script>\n",
              "        const buttonEl =\n",
              "          document.querySelector('#df-39e9b8b7-c52f-4264-a01b-4d40ffd89f76 button.colab-df-convert');\n",
              "        buttonEl.style.display =\n",
              "          google.colab.kernel.accessAllowed ? 'block' : 'none';\n",
              "\n",
              "        async function convertToInteractive(key) {\n",
              "          const element = document.querySelector('#df-39e9b8b7-c52f-4264-a01b-4d40ffd89f76');\n",
              "          const dataTable =\n",
              "            await google.colab.kernel.invokeFunction('convertToInteractive',\n",
              "                                                     [key], {});\n",
              "          if (!dataTable) return;\n",
              "\n",
              "          const docLinkHtml = 'Like what you see? Visit the ' +\n",
              "            '<a target=\"_blank\" href=https://colab.research.google.com/notebooks/data_table.ipynb>data table notebook</a>'\n",
              "            + ' to learn more about interactive tables.';\n",
              "          element.innerHTML = '';\n",
              "          dataTable['output_type'] = 'display_data';\n",
              "          await google.colab.output.renderOutput(dataTable, element);\n",
              "          const docLink = document.createElement('div');\n",
              "          docLink.innerHTML = docLinkHtml;\n",
              "          element.appendChild(docLink);\n",
              "        }\n",
              "      </script>\n",
              "    </div>\n",
              "  </div>\n",
              "  "
            ],
            "text/plain": [
              "      Age  Married  Cog_Flex  Flex_Emot_Express  Flex_Coping  PTSD_Symptoms\n",
              "0    27.0        0        58               14.0    10.250000      46.117647\n",
              "1    38.0        1        58               20.5    10.250000      25.411765\n",
              "2    29.0        0        51               14.0     8.330000      21.647059\n",
              "3    24.0        0        58               14.5     8.330000      16.800000\n",
              "4    25.0        0        58               13.5     6.000000      34.823529\n",
              "..    ...      ...       ...                ...          ...            ...\n",
              "104  25.0        0        56               15.0     9.750000      20.000000\n",
              "105  23.0        1        37               18.0     6.000000      31.200000\n",
              "106  21.0        0        62               16.5    10.000000      39.200000\n",
              "107  29.0        0        61               14.0     8.833333      17.600000\n",
              "108  26.0        0        46               17.5     9.833333      32.000000\n",
              "\n",
              "[109 rows x 6 columns]"
            ]
          },
          "metadata": {},
          "execution_count": 48
        }
      ]
    },
    {
      "cell_type": "code",
      "source": [
        "y=dfmodel['PTSD_Symptoms']\n",
        "X=dfmodel.drop(columns='PTSD_Symptoms',axis=1)"
      ],
      "metadata": {
        "id": "mwlaf7ahiORp"
      },
      "execution_count": 49,
      "outputs": []
    },
    {
      "cell_type": "code",
      "source": [
        "X"
      ],
      "metadata": {
        "colab": {
          "base_uri": "https://localhost:8080/",
          "height": 423
        },
        "id": "2xWfVzy2jBDD",
        "outputId": "c117956d-23a5-4e03-d079-600a00e01b1c"
      },
      "execution_count": 50,
      "outputs": [
        {
          "output_type": "execute_result",
          "data": {
            "text/html": [
              "\n",
              "  <div id=\"df-ba9ec25c-ff18-458d-9146-28b4073a45e5\">\n",
              "    <div class=\"colab-df-container\">\n",
              "      <div>\n",
              "<style scoped>\n",
              "    .dataframe tbody tr th:only-of-type {\n",
              "        vertical-align: middle;\n",
              "    }\n",
              "\n",
              "    .dataframe tbody tr th {\n",
              "        vertical-align: top;\n",
              "    }\n",
              "\n",
              "    .dataframe thead th {\n",
              "        text-align: right;\n",
              "    }\n",
              "</style>\n",
              "<table border=\"1\" class=\"dataframe\">\n",
              "  <thead>\n",
              "    <tr style=\"text-align: right;\">\n",
              "      <th></th>\n",
              "      <th>Age</th>\n",
              "      <th>Married</th>\n",
              "      <th>Cog_Flex</th>\n",
              "      <th>Flex_Emot_Express</th>\n",
              "      <th>Flex_Coping</th>\n",
              "    </tr>\n",
              "  </thead>\n",
              "  <tbody>\n",
              "    <tr>\n",
              "      <th>0</th>\n",
              "      <td>27.0</td>\n",
              "      <td>0</td>\n",
              "      <td>58</td>\n",
              "      <td>14.0</td>\n",
              "      <td>10.250000</td>\n",
              "    </tr>\n",
              "    <tr>\n",
              "      <th>1</th>\n",
              "      <td>38.0</td>\n",
              "      <td>1</td>\n",
              "      <td>58</td>\n",
              "      <td>20.5</td>\n",
              "      <td>10.250000</td>\n",
              "    </tr>\n",
              "    <tr>\n",
              "      <th>2</th>\n",
              "      <td>29.0</td>\n",
              "      <td>0</td>\n",
              "      <td>51</td>\n",
              "      <td>14.0</td>\n",
              "      <td>8.330000</td>\n",
              "    </tr>\n",
              "    <tr>\n",
              "      <th>3</th>\n",
              "      <td>24.0</td>\n",
              "      <td>0</td>\n",
              "      <td>58</td>\n",
              "      <td>14.5</td>\n",
              "      <td>8.330000</td>\n",
              "    </tr>\n",
              "    <tr>\n",
              "      <th>4</th>\n",
              "      <td>25.0</td>\n",
              "      <td>0</td>\n",
              "      <td>58</td>\n",
              "      <td>13.5</td>\n",
              "      <td>6.000000</td>\n",
              "    </tr>\n",
              "    <tr>\n",
              "      <th>...</th>\n",
              "      <td>...</td>\n",
              "      <td>...</td>\n",
              "      <td>...</td>\n",
              "      <td>...</td>\n",
              "      <td>...</td>\n",
              "    </tr>\n",
              "    <tr>\n",
              "      <th>104</th>\n",
              "      <td>25.0</td>\n",
              "      <td>0</td>\n",
              "      <td>56</td>\n",
              "      <td>15.0</td>\n",
              "      <td>9.750000</td>\n",
              "    </tr>\n",
              "    <tr>\n",
              "      <th>105</th>\n",
              "      <td>23.0</td>\n",
              "      <td>1</td>\n",
              "      <td>37</td>\n",
              "      <td>18.0</td>\n",
              "      <td>6.000000</td>\n",
              "    </tr>\n",
              "    <tr>\n",
              "      <th>106</th>\n",
              "      <td>21.0</td>\n",
              "      <td>0</td>\n",
              "      <td>62</td>\n",
              "      <td>16.5</td>\n",
              "      <td>10.000000</td>\n",
              "    </tr>\n",
              "    <tr>\n",
              "      <th>107</th>\n",
              "      <td>29.0</td>\n",
              "      <td>0</td>\n",
              "      <td>61</td>\n",
              "      <td>14.0</td>\n",
              "      <td>8.833333</td>\n",
              "    </tr>\n",
              "    <tr>\n",
              "      <th>108</th>\n",
              "      <td>26.0</td>\n",
              "      <td>0</td>\n",
              "      <td>46</td>\n",
              "      <td>17.5</td>\n",
              "      <td>9.833333</td>\n",
              "    </tr>\n",
              "  </tbody>\n",
              "</table>\n",
              "<p>109 rows × 5 columns</p>\n",
              "</div>\n",
              "      <button class=\"colab-df-convert\" onclick=\"convertToInteractive('df-ba9ec25c-ff18-458d-9146-28b4073a45e5')\"\n",
              "              title=\"Convert this dataframe to an interactive table.\"\n",
              "              style=\"display:none;\">\n",
              "        \n",
              "  <svg xmlns=\"http://www.w3.org/2000/svg\" height=\"24px\"viewBox=\"0 0 24 24\"\n",
              "       width=\"24px\">\n",
              "    <path d=\"M0 0h24v24H0V0z\" fill=\"none\"/>\n",
              "    <path d=\"M18.56 5.44l.94 2.06.94-2.06 2.06-.94-2.06-.94-.94-2.06-.94 2.06-2.06.94zm-11 1L8.5 8.5l.94-2.06 2.06-.94-2.06-.94L8.5 2.5l-.94 2.06-2.06.94zm10 10l.94 2.06.94-2.06 2.06-.94-2.06-.94-.94-2.06-.94 2.06-2.06.94z\"/><path d=\"M17.41 7.96l-1.37-1.37c-.4-.4-.92-.59-1.43-.59-.52 0-1.04.2-1.43.59L10.3 9.45l-7.72 7.72c-.78.78-.78 2.05 0 2.83L4 21.41c.39.39.9.59 1.41.59.51 0 1.02-.2 1.41-.59l7.78-7.78 2.81-2.81c.8-.78.8-2.07 0-2.86zM5.41 20L4 18.59l7.72-7.72 1.47 1.35L5.41 20z\"/>\n",
              "  </svg>\n",
              "      </button>\n",
              "      \n",
              "  <style>\n",
              "    .colab-df-container {\n",
              "      display:flex;\n",
              "      flex-wrap:wrap;\n",
              "      gap: 12px;\n",
              "    }\n",
              "\n",
              "    .colab-df-convert {\n",
              "      background-color: #E8F0FE;\n",
              "      border: none;\n",
              "      border-radius: 50%;\n",
              "      cursor: pointer;\n",
              "      display: none;\n",
              "      fill: #1967D2;\n",
              "      height: 32px;\n",
              "      padding: 0 0 0 0;\n",
              "      width: 32px;\n",
              "    }\n",
              "\n",
              "    .colab-df-convert:hover {\n",
              "      background-color: #E2EBFA;\n",
              "      box-shadow: 0px 1px 2px rgba(60, 64, 67, 0.3), 0px 1px 3px 1px rgba(60, 64, 67, 0.15);\n",
              "      fill: #174EA6;\n",
              "    }\n",
              "\n",
              "    [theme=dark] .colab-df-convert {\n",
              "      background-color: #3B4455;\n",
              "      fill: #D2E3FC;\n",
              "    }\n",
              "\n",
              "    [theme=dark] .colab-df-convert:hover {\n",
              "      background-color: #434B5C;\n",
              "      box-shadow: 0px 1px 3px 1px rgba(0, 0, 0, 0.15);\n",
              "      filter: drop-shadow(0px 1px 2px rgba(0, 0, 0, 0.3));\n",
              "      fill: #FFFFFF;\n",
              "    }\n",
              "  </style>\n",
              "\n",
              "      <script>\n",
              "        const buttonEl =\n",
              "          document.querySelector('#df-ba9ec25c-ff18-458d-9146-28b4073a45e5 button.colab-df-convert');\n",
              "        buttonEl.style.display =\n",
              "          google.colab.kernel.accessAllowed ? 'block' : 'none';\n",
              "\n",
              "        async function convertToInteractive(key) {\n",
              "          const element = document.querySelector('#df-ba9ec25c-ff18-458d-9146-28b4073a45e5');\n",
              "          const dataTable =\n",
              "            await google.colab.kernel.invokeFunction('convertToInteractive',\n",
              "                                                     [key], {});\n",
              "          if (!dataTable) return;\n",
              "\n",
              "          const docLinkHtml = 'Like what you see? Visit the ' +\n",
              "            '<a target=\"_blank\" href=https://colab.research.google.com/notebooks/data_table.ipynb>data table notebook</a>'\n",
              "            + ' to learn more about interactive tables.';\n",
              "          element.innerHTML = '';\n",
              "          dataTable['output_type'] = 'display_data';\n",
              "          await google.colab.output.renderOutput(dataTable, element);\n",
              "          const docLink = document.createElement('div');\n",
              "          docLink.innerHTML = docLinkHtml;\n",
              "          element.appendChild(docLink);\n",
              "        }\n",
              "      </script>\n",
              "    </div>\n",
              "  </div>\n",
              "  "
            ],
            "text/plain": [
              "      Age  Married  Cog_Flex  Flex_Emot_Express  Flex_Coping\n",
              "0    27.0        0        58               14.0    10.250000\n",
              "1    38.0        1        58               20.5    10.250000\n",
              "2    29.0        0        51               14.0     8.330000\n",
              "3    24.0        0        58               14.5     8.330000\n",
              "4    25.0        0        58               13.5     6.000000\n",
              "..    ...      ...       ...                ...          ...\n",
              "104  25.0        0        56               15.0     9.750000\n",
              "105  23.0        1        37               18.0     6.000000\n",
              "106  21.0        0        62               16.5    10.000000\n",
              "107  29.0        0        61               14.0     8.833333\n",
              "108  26.0        0        46               17.5     9.833333\n",
              "\n",
              "[109 rows x 5 columns]"
            ]
          },
          "metadata": {},
          "execution_count": 50
        }
      ]
    },
    {
      "cell_type": "code",
      "source": [
        "y\n"
      ],
      "metadata": {
        "colab": {
          "base_uri": "https://localhost:8080/"
        },
        "id": "eZhv4EXcjE3K",
        "outputId": "67f354f2-dd76-49d8-a130-20f6f45b912d"
      },
      "execution_count": 51,
      "outputs": [
        {
          "output_type": "execute_result",
          "data": {
            "text/plain": [
              "0      46.117647\n",
              "1      25.411765\n",
              "2      21.647059\n",
              "3      16.800000\n",
              "4      34.823529\n",
              "         ...    \n",
              "104    20.000000\n",
              "105    31.200000\n",
              "106    39.200000\n",
              "107    17.600000\n",
              "108    32.000000\n",
              "Name: PTSD_Symptoms, Length: 109, dtype: float64"
            ]
          },
          "metadata": {},
          "execution_count": 51
        }
      ]
    },
    {
      "cell_type": "code",
      "source": [
        "X_train,X_test,y_train,y_test=train_test_split(X,y,test_size=.4,random_state=42)\n",
        "linreg=LinearRegression()\n",
        "linreg.fit(X_train,y_train)\n",
        "train_score=linreg.score(X_train,y_train)\n",
        "test_score=linreg.score(X_test,y_test)\n",
        "y_pred=linreg.predict(X_test)\n",
        "rootMSE=np.sqrt(mean_squared_error(y_test,y_pred))\n",
        "print(train_score)\n",
        "print(test_score)\n",
        "print(rootMSE)\n"
      ],
      "metadata": {
        "colab": {
          "base_uri": "https://localhost:8080/"
        },
        "id": "ewI0-XNtjUHO",
        "outputId": "75bdb781-15cb-4616-ca3b-ba39ab905195"
      },
      "execution_count": 56,
      "outputs": [
        {
          "output_type": "stream",
          "name": "stdout",
          "text": [
            "0.3748306917918973\n",
            "0.015189102132859844\n",
            "12.081509208826645\n"
          ]
        }
      ]
    },
    {
      "cell_type": "code",
      "source": [
        "lincv=cross_val_score(linreg,X,y,cv=5)\n",
        "print(lincv)\n",
        "meancvscore=np.mean(lincv)\n",
        "print('Average r^2 for cross validation folds is {}'.format(meancvscore))"
      ],
      "metadata": {
        "colab": {
          "base_uri": "https://localhost:8080/"
        },
        "id": "UHEiROmkwlIp",
        "outputId": "65d367d8-0e21-4c4e-cb98-a10aadbcbcea"
      },
      "execution_count": 65,
      "outputs": [
        {
          "output_type": "stream",
          "name": "stdout",
          "text": [
            "[ 0.17854205  0.07758338  0.18984929  0.30551285 -0.20805953]\n",
            "Average r^2 for cross validation folds is 0.1086856069104084\n"
          ]
        }
      ]
    },
    {
      "cell_type": "code",
      "source": [
        "# The coefficients\n",
        "print(\"Coefficients: \\n\", linreg.coef_)\n",
        "# The mean squared error\n",
        "print(\"Mean squared error: %.2f\" % mean_squared_error(y_test, y_pred))\n",
        "# The coefficient of determination: 1 is perfect prediction\n",
        "print(\"Coefficient of determination: %.3f\" % r2_score(y_test, y_pred))\n",
        "\n",
        "# Plot outputs\n",
        "plt.scatter(y_test,y_pred, color=\"black\")\n",
        "plt.xlabel('Actual Trauma Symptoms')\n",
        "plt.ylabel('Predicted Trauma Symptoms')\n",
        "\n",
        "plt.xticks(())\n",
        "plt.yticks(())\n",
        "\n",
        "plt.show()"
      ],
      "metadata": {
        "colab": {
          "base_uri": "https://localhost:8080/",
          "height": 335
        },
        "id": "GuaWRvDL2EsL",
        "outputId": "424891f2-a2ed-411d-8104-2d73f371fb97"
      },
      "execution_count": 69,
      "outputs": [
        {
          "output_type": "stream",
          "name": "stdout",
          "text": [
            "Coefficients: \n",
            " [ 0.00696214 -3.32990613 -0.48142731 -0.96034083 -0.27762885]\n",
            "Mean squared error: 145.96\n",
            "Coefficient of determination: 0.015\n"
          ]
        },
        {
          "output_type": "display_data",
          "data": {
            "image/png": "[encoded data removed]",
            "text/plain": [
              "<Figure size 432x288 with 1 Axes>"
            ]
          },
          "metadata": {}
        }
      ]
    },
    {
      "cell_type": "code",
      "source": [
        "scaler=StandardScaler()\n",
        "scaler.fit(X_train)\n",
        "X_train_scaled=scaler.transform(X_train)\n",
        "parameters = {'alpha' : np.linspace(0,10,100)}\n",
        "lasso=Lasso()\n",
        "lasso_cv = GridSearchCV(lasso, param_grid=parameters)\n",
        "lasso_cv.fit(X_train_scaled, y_train)\n",
        "X_test_scaled=scaler.transform(X_test)\n",
        "lasso_cv.predict(X_test_scaled)\n",
        "print(lasso_cv.best_score_)\n",
        "print(lasso_cv.best_params_)\n"
      ],
      "metadata": {
        "colab": {
          "base_uri": "https://localhost:8080/"
        },
        "id": "wnZNf5cS6hqS",
        "outputId": "ffd05cc6-0684-4a88-dec9-63167e0d6903"
      },
      "execution_count": 96,
      "outputs": [
        {
          "output_type": "stream",
          "name": "stderr",
          "text": [
            "/usr/local/lib/python3.7/dist-packages/sklearn/model_selection/_validation.py:681: UserWarning: With alpha=0, this algorithm does not converge well. You are advised to use the LinearRegression estimator\n",
            "  estimator.fit(X_train, y_train, **fit_params)\n",
            "/usr/local/lib/python3.7/dist-packages/sklearn/linear_model/_coordinate_descent.py:648: UserWarning: Coordinate descent with no regularization may lead to unexpected results and is discouraged.\n",
            "  coef_, l1_reg, l2_reg, X, y, max_iter, tol, rng, random, positive\n",
            "/usr/local/lib/python3.7/dist-packages/sklearn/linear_model/_coordinate_descent.py:648: ConvergenceWarning: Objective did not converge. You might want to increase the number of iterations, check the scale of the features or consider increasing regularisation. Duality gap: 1.895e+03, tolerance: 5.484e-01 Linear regression models with null weight for the l1 regularization term are more efficiently fitted using one of the solvers implemented in sklearn.linear_model.Ridge/RidgeCV instead.\n",
            "  coef_, l1_reg, l2_reg, X, y, max_iter, tol, rng, random, positive\n",
            "/usr/local/lib/python3.7/dist-packages/sklearn/model_selection/_validation.py:681: UserWarning: With alpha=0, this algorithm does not converge well. You are advised to use the LinearRegression estimator\n",
            "  estimator.fit(X_train, y_train, **fit_params)\n",
            "/usr/local/lib/python3.7/dist-packages/sklearn/linear_model/_coordinate_descent.py:648: UserWarning: Coordinate descent with no regularization may lead to unexpected results and is discouraged.\n",
            "  coef_, l1_reg, l2_reg, X, y, max_iter, tol, rng, random, positive\n",
            "/usr/local/lib/python3.7/dist-packages/sklearn/linear_model/_coordinate_descent.py:648: ConvergenceWarning: Objective did not converge. You might want to increase the number of iterations, check the scale of the features or consider increasing regularisation. Duality gap: 1.460e+03, tolerance: 4.573e-01 Linear regression models with null weight for the l1 regularization term are more efficiently fitted using one of the solvers implemented in sklearn.linear_model.Ridge/RidgeCV instead.\n",
            "  coef_, l1_reg, l2_reg, X, y, max_iter, tol, rng, random, positive\n",
            "/usr/local/lib/python3.7/dist-packages/sklearn/model_selection/_validation.py:681: UserWarning: With alpha=0, this algorithm does not converge well. You are advised to use the LinearRegression estimator\n",
            "  estimator.fit(X_train, y_train, **fit_params)\n",
            "/usr/local/lib/python3.7/dist-packages/sklearn/linear_model/_coordinate_descent.py:648: UserWarning: Coordinate descent with no regularization may lead to unexpected results and is discouraged.\n",
            "  coef_, l1_reg, l2_reg, X, y, max_iter, tol, rng, random, positive\n",
            "/usr/local/lib/python3.7/dist-packages/sklearn/linear_model/_coordinate_descent.py:648: ConvergenceWarning: Objective did not converge. You might want to increase the number of iterations, check the scale of the features or consider increasing regularisation. Duality gap: 1.944e+03, tolerance: 6.184e-01 Linear regression models with null weight for the l1 regularization term are more efficiently fitted using one of the solvers implemented in sklearn.linear_model.Ridge/RidgeCV instead.\n",
            "  coef_, l1_reg, l2_reg, X, y, max_iter, tol, rng, random, positive\n",
            "/usr/local/lib/python3.7/dist-packages/sklearn/model_selection/_validation.py:681: UserWarning: With alpha=0, this algorithm does not converge well. You are advised to use the LinearRegression estimator\n",
            "  estimator.fit(X_train, y_train, **fit_params)\n",
            "/usr/local/lib/python3.7/dist-packages/sklearn/linear_model/_coordinate_descent.py:648: UserWarning: Coordinate descent with no regularization may lead to unexpected results and is discouraged.\n",
            "  coef_, l1_reg, l2_reg, X, y, max_iter, tol, rng, random, positive\n",
            "/usr/local/lib/python3.7/dist-packages/sklearn/linear_model/_coordinate_descent.py:648: ConvergenceWarning: Objective did not converge. You might want to increase the number of iterations, check the scale of the features or consider increasing regularisation. Duality gap: 1.517e+03, tolerance: 5.325e-01 Linear regression models with null weight for the l1 regularization term are more efficiently fitted using one of the solvers implemented in sklearn.linear_model.Ridge/RidgeCV instead.\n",
            "  coef_, l1_reg, l2_reg, X, y, max_iter, tol, rng, random, positive\n",
            "/usr/local/lib/python3.7/dist-packages/sklearn/model_selection/_validation.py:681: UserWarning: With alpha=0, this algorithm does not converge well. You are advised to use the LinearRegression estimator\n",
            "  estimator.fit(X_train, y_train, **fit_params)\n",
            "/usr/local/lib/python3.7/dist-packages/sklearn/linear_model/_coordinate_descent.py:648: UserWarning: Coordinate descent with no regularization may lead to unexpected results and is discouraged.\n",
            "  coef_, l1_reg, l2_reg, X, y, max_iter, tol, rng, random, positive\n",
            "/usr/local/lib/python3.7/dist-packages/sklearn/linear_model/_coordinate_descent.py:648: ConvergenceWarning: Objective did not converge. You might want to increase the number of iterations, check the scale of the features or consider increasing regularisation. Duality gap: 1.734e+03, tolerance: 6.192e-01 Linear regression models with null weight for the l1 regularization term are more efficiently fitted using one of the solvers implemented in sklearn.linear_model.Ridge/RidgeCV instead.\n",
            "  coef_, l1_reg, l2_reg, X, y, max_iter, tol, rng, random, positive\n"
          ]
        },
        {
          "output_type": "stream",
          "name": "stdout",
          "text": [
            "0.2433790853098594\n",
            "{'alpha': 0.6060606060606061}\n"
          ]
        }
      ]
    },
    {
      "cell_type": "code",
      "source": [
        "parameters = {'alpha' : np.linspace(0,1,100)}\n",
        "lasso=Lasso()\n",
        "lasso_cv = GridSearchCV(lasso, param_grid=parameters)\n",
        "lasso_cv.fit(X_train_scaled, y_train)\n",
        "X_test_scaled=scaler.transform(X_test)\n",
        "lasso_cv.predict(X_test_scaled)\n",
        "print(lasso_cv.best_score_)\n",
        "print(lasso_cv.best_params_)\n"
      ],
      "metadata": {
        "colab": {
          "base_uri": "https://localhost:8080/"
        },
        "id": "e8vPyJRj_7qB",
        "outputId": "ca905920-df83-4626-fc1f-b877f1d19c11"
      },
      "execution_count": 97,
      "outputs": [
        {
          "output_type": "stream",
          "name": "stderr",
          "text": [
            "/usr/local/lib/python3.7/dist-packages/sklearn/model_selection/_validation.py:681: UserWarning: With alpha=0, this algorithm does not converge well. You are advised to use the LinearRegression estimator\n",
            "  estimator.fit(X_train, y_train, **fit_params)\n",
            "/usr/local/lib/python3.7/dist-packages/sklearn/linear_model/_coordinate_descent.py:648: UserWarning: Coordinate descent with no regularization may lead to unexpected results and is discouraged.\n",
            "  coef_, l1_reg, l2_reg, X, y, max_iter, tol, rng, random, positive\n",
            "/usr/local/lib/python3.7/dist-packages/sklearn/linear_model/_coordinate_descent.py:648: ConvergenceWarning: Objective did not converge. You might want to increase the number of iterations, check the scale of the features or consider increasing regularisation. Duality gap: 1.895e+03, tolerance: 5.484e-01 Linear regression models with null weight for the l1 regularization term are more efficiently fitted using one of the solvers implemented in sklearn.linear_model.Ridge/RidgeCV instead.\n",
            "  coef_, l1_reg, l2_reg, X, y, max_iter, tol, rng, random, positive\n",
            "/usr/local/lib/python3.7/dist-packages/sklearn/model_selection/_validation.py:681: UserWarning: With alpha=0, this algorithm does not converge well. You are advised to use the LinearRegression estimator\n",
            "  estimator.fit(X_train, y_train, **fit_params)\n",
            "/usr/local/lib/python3.7/dist-packages/sklearn/linear_model/_coordinate_descent.py:648: UserWarning: Coordinate descent with no regularization may lead to unexpected results and is discouraged.\n",
            "  coef_, l1_reg, l2_reg, X, y, max_iter, tol, rng, random, positive\n",
            "/usr/local/lib/python3.7/dist-packages/sklearn/linear_model/_coordinate_descent.py:648: ConvergenceWarning: Objective did not converge. You might want to increase the number of iterations, check the scale of the features or consider increasing regularisation. Duality gap: 1.460e+03, tolerance: 4.573e-01 Linear regression models with null weight for the l1 regularization term are more efficiently fitted using one of the solvers implemented in sklearn.linear_model.Ridge/RidgeCV instead.\n",
            "  coef_, l1_reg, l2_reg, X, y, max_iter, tol, rng, random, positive\n",
            "/usr/local/lib/python3.7/dist-packages/sklearn/model_selection/_validation.py:681: UserWarning: With alpha=0, this algorithm does not converge well. You are advised to use the LinearRegression estimator\n",
            "  estimator.fit(X_train, y_train, **fit_params)\n",
            "/usr/local/lib/python3.7/dist-packages/sklearn/linear_model/_coordinate_descent.py:648: UserWarning: Coordinate descent with no regularization may lead to unexpected results and is discouraged.\n",
            "  coef_, l1_reg, l2_reg, X, y, max_iter, tol, rng, random, positive\n",
            "/usr/local/lib/python3.7/dist-packages/sklearn/linear_model/_coordinate_descent.py:648: ConvergenceWarning: Objective did not converge. You might want to increase the number of iterations, check the scale of the features or consider increasing regularisation. Duality gap: 1.944e+03, tolerance: 6.184e-01 Linear regression models with null weight for the l1 regularization term are more efficiently fitted using one of the solvers implemented in sklearn.linear_model.Ridge/RidgeCV instead.\n",
            "  coef_, l1_reg, l2_reg, X, y, max_iter, tol, rng, random, positive\n",
            "/usr/local/lib/python3.7/dist-packages/sklearn/model_selection/_validation.py:681: UserWarning: With alpha=0, this algorithm does not converge well. You are advised to use the LinearRegression estimator\n",
            "  estimator.fit(X_train, y_train, **fit_params)\n",
            "/usr/local/lib/python3.7/dist-packages/sklearn/linear_model/_coordinate_descent.py:648: UserWarning: Coordinate descent with no regularization may lead to unexpected results and is discouraged.\n",
            "  coef_, l1_reg, l2_reg, X, y, max_iter, tol, rng, random, positive\n",
            "/usr/local/lib/python3.7/dist-packages/sklearn/linear_model/_coordinate_descent.py:648: ConvergenceWarning: Objective did not converge. You might want to increase the number of iterations, check the scale of the features or consider increasing regularisation. Duality gap: 1.517e+03, tolerance: 5.325e-01 Linear regression models with null weight for the l1 regularization term are more efficiently fitted using one of the solvers implemented in sklearn.linear_model.Ridge/RidgeCV instead.\n",
            "  coef_, l1_reg, l2_reg, X, y, max_iter, tol, rng, random, positive\n",
            "/usr/local/lib/python3.7/dist-packages/sklearn/model_selection/_validation.py:681: UserWarning: With alpha=0, this algorithm does not converge well. You are advised to use the LinearRegression estimator\n",
            "  estimator.fit(X_train, y_train, **fit_params)\n",
            "/usr/local/lib/python3.7/dist-packages/sklearn/linear_model/_coordinate_descent.py:648: UserWarning: Coordinate descent with no regularization may lead to unexpected results and is discouraged.\n",
            "  coef_, l1_reg, l2_reg, X, y, max_iter, tol, rng, random, positive\n",
            "/usr/local/lib/python3.7/dist-packages/sklearn/linear_model/_coordinate_descent.py:648: ConvergenceWarning: Objective did not converge. You might want to increase the number of iterations, check the scale of the features or consider increasing regularisation. Duality gap: 1.734e+03, tolerance: 6.192e-01 Linear regression models with null weight for the l1 regularization term are more efficiently fitted using one of the solvers implemented in sklearn.linear_model.Ridge/RidgeCV instead.\n",
            "  coef_, l1_reg, l2_reg, X, y, max_iter, tol, rng, random, positive\n"
          ]
        },
        {
          "output_type": "stream",
          "name": "stdout",
          "text": [
            "0.24344438514677208\n",
            "{'alpha': 0.6161616161616162}\n"
          ]
        }
      ]
    },
    {
      "cell_type": "code",
      "source": [
        "lasso_alpha=Lasso(alpha=.616)\n",
        "lasso_alpha.fit(X_train_scaled, y_train)\n",
        "y_pred=lasso_alpha.predict(X_test_scaled)\n",
        "print(lasso_alpha.score(X_train_scaled,y_train))\n",
        "print(lasso_alpha.score(X_test_scaled,y_test))\n",
        "\n",
        "lasso_coef = lasso_alpha.coef_\n",
        "print(lasso_coef)\n",
        "X_train_scaled=pd.DataFrame(X_train_scaled)\n",
        "y_train_scaled=pd.DataFrame(X_test_scaled)\n",
        "# Plot the coefficients\n",
        "plt.plot(range(len(X_train_scaled.columns)), lasso_coef)\n",
        "plt.xticks(range(len(X_train_scaled.columns)), X_train_scaled.columns.values, rotation=60)\n",
        "plt.margins(0.02)\n",
        "plt.show()"
      ],
      "metadata": {
        "colab": {
          "base_uri": "https://localhost:8080/",
          "height": 321
        },
        "id": "NhfEeQxgAW1V",
        "outputId": "ba6e4657-da5c-4ceb-b267-b6a4a4c2ee40"
      },
      "execution_count": 98,
      "outputs": [
        {
          "output_type": "stream",
          "name": "stdout",
          "text": [
            "0.3670993935315001\n",
            "0.005612476064723926\n",
            "[-0.         -1.11103084 -3.41265704 -2.66699822 -0.2730538 ]\n"
          ]
        },
        {
          "output_type": "display_data",
          "data": {
            "image/png": "[encoded data removed]",
            "text/plain": [
              "<Figure size 432x288 with 1 Axes>"
            ]
          },
          "metadata": {
            "needs_background": "light"
          }
        }
      ]
    },
    {
      "cell_type": "code",
      "source": [
        "parameters = {'alpha' : np.linspace(0,100,100)}\n",
        "ridge=Ridge()\n",
        "ridge_cv = GridSearchCV(ridge, param_grid=parameters)\n",
        "ridge_cv.fit(X_train_scaled, y_train)\n",
        "ridge_cv.predict(X_test_scaled)\n",
        "print(ridge_cv.best_score_)\n",
        "print(ridge_cv.best_params_)"
      ],
      "metadata": {
        "colab": {
          "base_uri": "https://localhost:8080/"
        },
        "id": "kspEtJnPGikC",
        "outputId": "49d335c2-e5a6-4508-ead6-7716a91644b0"
      },
      "execution_count": 101,
      "outputs": [
        {
          "output_type": "stream",
          "name": "stdout",
          "text": [
            "0.2408790009682627\n",
            "{'alpha': 23.232323232323235}\n"
          ]
        }
      ]
    },
    {
      "cell_type": "code",
      "source": [
        "parameters = {'alpha' : np.linspace(20,30,100)}\n",
        "ridge=Ridge()\n",
        "ridge_cv = GridSearchCV(ridge, param_grid=parameters)\n",
        "ridge_cv.fit(X_train_scaled, y_train)\n",
        "ridge_cv.predict(X_test_scaled)\n",
        "print(ridge_cv.best_score_)\n",
        "print(ridge_cv.best_params_)"
      ],
      "metadata": {
        "colab": {
          "base_uri": "https://localhost:8080/"
        },
        "id": "wc8-pq82I_lS",
        "outputId": "b1d3c69b-62e5-4233-f6d2-d0aac38ba6bb"
      },
      "execution_count": 102,
      "outputs": [
        {
          "output_type": "stream",
          "name": "stdout",
          "text": [
            "0.2408795738793305\n",
            "{'alpha': 23.434343434343432}\n"
          ]
        }
      ]
    },
    {
      "cell_type": "code",
      "source": [
        "ridge_alpha=Ridge(alpha=23.43)\n",
        "ridge_alpha.fit(X_train_scaled, y_train)\n",
        "y_pred=ridge_alpha.predict(X_test_scaled)\n",
        "print(ridge_alpha.score(X_train_scaled,y_train))\n",
        "print(ridge_alpha.score(X_test_scaled,y_test))\n",
        "\n",
        "ridge_coef = ridge_alpha.coef_\n",
        "print(ridge_coef)\n",
        "# Plot the coefficients\n",
        "plt.plot(range(len(X_train_scaled.columns)), ridge_coef)\n",
        "plt.xticks(range(len(X_train_scaled.columns)), X_train_scaled.columns.values, rotation=60)\n",
        "plt.margins(0.02)\n",
        "plt.show()"
      ],
      "metadata": {
        "colab": {
          "base_uri": "https://localhost:8080/",
          "height": 321
        },
        "id": "6xRG_Pg3JH53",
        "outputId": "d0126bcc-cb3a-4749-983a-680ffb6c5656"
      },
      "execution_count": 104,
      "outputs": [
        {
          "output_type": "stream",
          "name": "stdout",
          "text": [
            "0.3607352970439808\n",
            "0.03875370593143579\n",
            "[-0.37075365 -1.17454395 -2.75820029 -2.31594352 -0.94834144]\n"
          ]
        },
        {
          "output_type": "display_data",
          "data": {
            "image/png": "[encoded data removed]",
            "text/plain": [
              "<Figure size 432x288 with 1 Axes>"
            ]
          },
          "metadata": {
            "needs_background": "light"
          }
        }
      ]
    }
  ]
}